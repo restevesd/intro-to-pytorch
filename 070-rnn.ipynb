{
 "cells": [
  {
   "cell_type": "markdown",
   "metadata": {},
   "source": [
    "# Recurrent Neural Network\n",
    "\n",
    "![LSTM](imgs/LSTM3-chain.png)\n",
    "\n",
    "![LSTM](imgs/LSTM2-notation.png)\n",
    "\n",
    "\n",
    "\n",
    "![LSTM](imgs/LSTM3-focus-f.png)\n",
    "\n",
    "![LSTM](imgs/LSTM3-focus-i.png)\n",
    "\n",
    "![LSTM](imgs/LSTM3-focus-C.png)\n",
    "\n",
    "![LSTM](imgs/LSTM3-focus-o.png)"
   ]
  },
  {
   "cell_type": "markdown",
   "metadata": {},
   "source": [
    "## From pytorch documentation\n",
    "\n",
    "\\begin{array}{ll} \\\\\n",
    "    f_t = \\sigma(W_{if} x_t + b_{if} + W_{hf} h_{(t-1)} + b_{hf}) \\\\\n",
    "    i_t = \\sigma(W_{ii} x_t + b_{ii} + W_{hi} h_{(t-1)} + b_{hi}) \\\\\n",
    "    g_t = \\tanh(W_{ig} x_t + b_{ig} + W_{hg} h_{(t-1)} + b_{hg}) \\\\\n",
    "    c_t = f_t * c_{(t-1)} + i_t * g_t \\\\\n",
    "    o_t = \\sigma(W_{io} x_t + b_{io} + W_{ho} h_{(t-1)} + b_{ho}) \\\\    \n",
    "    h_t = o_t * \\tanh(c_t) \\\\\n",
    "\\end{array}"
   ]
  },
  {
   "cell_type": "code",
   "execution_count": null,
   "metadata": {},
   "outputs": [],
   "source": [
    "import torch\n",
    "import torch.nn as nn\n",
    "from torch.utils.data import TensorDataset, DataLoader\n",
    "\n",
    "batch_size = 2\n",
    "seq_len = 10\n",
    "input_size = 3\n",
    "hidden_size = 4 \n",
    "\n",
    "inputs = torch.randn(seq_len, batch_size, input_size)\n",
    "inputs"
   ]
  },
  {
   "cell_type": "code",
   "execution_count": null,
   "metadata": {},
   "outputs": [],
   "source": [
    "lstm = nn.LSTM(input_size=input_size, hidden_size=hidden_size)"
   ]
  },
  {
   "cell_type": "code",
   "execution_count": null,
   "metadata": {},
   "outputs": [],
   "source": [
    "## hidden_0 = (h_0, c_0)\n",
    "hidden_0 = (torch.zeros(1, batch_size, hidden_size), torch.zeros(1, batch_size, hidden_size))"
   ]
  },
  {
   "cell_type": "code",
   "execution_count": null,
   "metadata": {},
   "outputs": [],
   "source": [
    "lstm_out, lstm_hidden = lstm(inputs)\n",
    "lstm_out.shape"
   ]
  },
  {
   "cell_type": "code",
   "execution_count": 5,
   "metadata": {},
   "outputs": [
    {
     "data": {
      "text/plain": [
       "tensor([[[-0.0299,  0.1668,  0.0243,  0.0144],\n",
       "         [-0.0768,  0.0104, -0.0325, -0.1756]],\n",
       "\n",
       "        [[-0.0837,  0.1039, -0.0421, -0.1588],\n",
       "         [-0.1035,  0.1413, -0.0930, -0.1513]],\n",
       "\n",
       "        [[-0.0694, -0.0477,  0.0200, -0.0866],\n",
       "         [-0.1063,  0.1324, -0.0662, -0.1797]],\n",
       "\n",
       "        [[ 0.0042,  0.1869, -0.0824, -0.0120],\n",
       "         [-0.1908,  0.3426,  0.0453, -0.0387]],\n",
       "\n",
       "        [[-0.0380,  0.1472, -0.1476, -0.1807],\n",
       "         [-0.0675,  0.0157,  0.0231, -0.1499]],\n",
       "\n",
       "        [[-0.0297,  0.1242, -0.1958, -0.3778],\n",
       "         [-0.0506, -0.0345, -0.0547, -0.2500]],\n",
       "\n",
       "        [[-0.0675,  0.2927, -0.0151, -0.0446],\n",
       "         [-0.0991,  0.0627,  0.0881, -0.0023]],\n",
       "\n",
       "        [[ 0.0313,  0.4282, -0.0358, -0.0304],\n",
       "         [-0.1195,  0.1341,  0.0754, -0.0027]],\n",
       "\n",
       "        [[-0.1459,  0.1669,  0.0332, -0.0562],\n",
       "         [-0.1035,  0.0443,  0.0395, -0.0555]],\n",
       "\n",
       "        [[-0.1492,  0.1285,  0.0549, -0.0889],\n",
       "         [-0.1346,  0.1317, -0.0328, -0.1172]]], grad_fn=<StackBackward>)"
      ]
     },
     "execution_count": 5,
     "metadata": {},
     "output_type": "execute_result"
    }
   ],
   "source": [
    "lstm_out"
   ]
  },
  {
   "cell_type": "markdown",
   "metadata": {},
   "source": [
    "If we want to put hidden inputs to zeros, there is no need to provide them."
   ]
  },
  {
   "cell_type": "code",
   "execution_count": 6,
   "metadata": {},
   "outputs": [
    {
     "data": {
      "text/plain": [
       "tensor([[[-0.0299,  0.1668,  0.0243,  0.0144],\n",
       "         [-0.0768,  0.0104, -0.0325, -0.1756]],\n",
       "\n",
       "        [[-0.0837,  0.1039, -0.0421, -0.1588],\n",
       "         [-0.1035,  0.1413, -0.0930, -0.1513]],\n",
       "\n",
       "        [[-0.0694, -0.0477,  0.0200, -0.0866],\n",
       "         [-0.1063,  0.1324, -0.0662, -0.1797]],\n",
       "\n",
       "        [[ 0.0042,  0.1869, -0.0824, -0.0120],\n",
       "         [-0.1908,  0.3426,  0.0453, -0.0387]],\n",
       "\n",
       "        [[-0.0380,  0.1472, -0.1476, -0.1807],\n",
       "         [-0.0675,  0.0157,  0.0231, -0.1499]],\n",
       "\n",
       "        [[-0.0297,  0.1242, -0.1958, -0.3778],\n",
       "         [-0.0506, -0.0345, -0.0547, -0.2500]],\n",
       "\n",
       "        [[-0.0675,  0.2927, -0.0151, -0.0446],\n",
       "         [-0.0991,  0.0627,  0.0881, -0.0023]],\n",
       "\n",
       "        [[ 0.0313,  0.4282, -0.0358, -0.0304],\n",
       "         [-0.1195,  0.1341,  0.0754, -0.0027]],\n",
       "\n",
       "        [[-0.1459,  0.1669,  0.0332, -0.0562],\n",
       "         [-0.1035,  0.0443,  0.0395, -0.0555]],\n",
       "\n",
       "        [[-0.1492,  0.1285,  0.0549, -0.0889],\n",
       "         [-0.1346,  0.1317, -0.0328, -0.1172]]], grad_fn=<StackBackward>)"
      ]
     },
     "execution_count": 6,
     "metadata": {},
     "output_type": "execute_result"
    }
   ],
   "source": [
    "lstm_out, lstm_hidden = lstm(inputs)\n",
    "lstm_out"
   ]
  },
  {
   "cell_type": "markdown",
   "metadata": {},
   "source": [
    "Finally the last output is the output of RRR. We can get it by"
   ]
  },
  {
   "cell_type": "code",
   "execution_count": 7,
   "metadata": {},
   "outputs": [
    {
     "data": {
      "text/plain": [
       "tensor([[-0.1492,  0.1285,  0.0549, -0.0889],\n",
       "        [-0.1346,  0.1317, -0.0328, -0.1172]], grad_fn=<SelectBackward>)"
      ]
     },
     "execution_count": 7,
     "metadata": {},
     "output_type": "execute_result"
    }
   ],
   "source": [
    "lstm_out[-1]"
   ]
  },
  {
   "cell_type": "markdown",
   "metadata": {},
   "source": [
    "It is often convient to have batches as the first dimension of the input. One can do it by adding `batch_first=True` parameter."
   ]
  },
  {
   "cell_type": "code",
   "execution_count": 8,
   "metadata": {},
   "outputs": [
    {
     "data": {
      "text/plain": [
       "tensor([[[-0.5353,  0.2963,  0.1498],\n",
       "         [-0.3241,  0.7809,  0.1792],\n",
       "         [ 1.0528, -0.5501,  0.3137],\n",
       "         [ 1.0422, -1.1246,  0.5430],\n",
       "         [ 1.4121, -0.9867,  0.1293],\n",
       "         [-0.2408,  2.3817, -0.1098],\n",
       "         [ 0.1807,  0.3314, -1.0077],\n",
       "         [ 0.1203,  0.0134, -0.1932],\n",
       "         [ 0.9413,  0.7572, -1.1836],\n",
       "         [-0.0453,  0.0241, -0.6344]],\n",
       "\n",
       "        [[ 1.7979,  0.3554,  1.3758],\n",
       "         [-0.4562,  0.5411,  0.0063],\n",
       "         [-0.7040,  0.2585,  0.1255],\n",
       "         [ 0.1649, -1.6586, -0.6749],\n",
       "         [ 2.0979, -0.5523, -0.1197],\n",
       "         [-0.4566, -1.6408,  0.6930],\n",
       "         [ 0.7879, -0.1795,  0.4447],\n",
       "         [-1.6472, -0.9431, -0.3560],\n",
       "         [ 0.3737,  0.1944, -1.1263],\n",
       "         [-1.0246, -0.7168,  0.3650]]])"
      ]
     },
     "execution_count": 8,
     "metadata": {},
     "output_type": "execute_result"
    }
   ],
   "source": [
    "lstm_batch_first = nn.LSTM(input_size=input_size, hidden_size=hidden_size, batch_first=True) \n",
    "inputs_batch_first = torch.randn(batch_size, seq_len, input_size)\n",
    "inputs_batch_first"
   ]
  },
  {
   "cell_type": "code",
   "execution_count": 9,
   "metadata": {},
   "outputs": [
    {
     "data": {
      "text/plain": [
       "tensor([[[ 0.0915,  0.0467, -0.0404, -0.0004],\n",
       "         [ 0.0635,  0.0561, -0.0769, -0.0476],\n",
       "         [-0.0006,  0.0280,  0.1081,  0.1938],\n",
       "         [ 0.0631,  0.0140,  0.1391,  0.2828],\n",
       "         [-0.0103, -0.0083,  0.1382,  0.2786],\n",
       "         [-0.0672,  0.0307,  0.0507, -0.0795],\n",
       "         [-0.1571,  0.0734,  0.0449, -0.0384],\n",
       "         [-0.0577,  0.0881,  0.0481,  0.0914],\n",
       "         [-0.2330,  0.0529,  0.0840,  0.0556],\n",
       "         [-0.1159,  0.0950,  0.0578,  0.0899]],\n",
       "\n",
       "        [[-0.0219,  0.0018,  0.1494,  0.1525],\n",
       "         [ 0.0556,  0.0502,  0.0301,  0.0377],\n",
       "         [ 0.1186,  0.0772, -0.0304,  0.0076],\n",
       "         [ 0.0869,  0.0407,  0.0714,  0.2884],\n",
       "         [-0.1217, -0.0095,  0.1357,  0.2347],\n",
       "         [ 0.1495,  0.0206,  0.1275,  0.3637],\n",
       "         [ 0.0788, -0.0014,  0.1637,  0.2802],\n",
       "         [ 0.2336,  0.0570,  0.0615,  0.1754],\n",
       "         [-0.0523,  0.0070,  0.0933,  0.0990],\n",
       "         [ 0.1646,  0.0661,  0.0414,  0.1819]]], grad_fn=<TransposeBackward0>)"
      ]
     },
     "execution_count": 9,
     "metadata": {},
     "output_type": "execute_result"
    }
   ],
   "source": [
    "lstm_out, lstm_hidden = lstm_batch_first(inputs_batch_first)\n",
    "lstm_out"
   ]
  },
  {
   "cell_type": "markdown",
   "metadata": {},
   "source": [
    "Then we get the finial output by:"
   ]
  },
  {
   "cell_type": "code",
   "execution_count": 10,
   "metadata": {},
   "outputs": [
    {
     "data": {
      "text/plain": [
       "tensor([[-0.1159,  0.0950,  0.0578,  0.0899],\n",
       "        [ 0.1646,  0.0661,  0.0414,  0.1819]], grad_fn=<SelectBackward>)"
      ]
     },
     "execution_count": 10,
     "metadata": {},
     "output_type": "execute_result"
    }
   ],
   "source": [
    "lstm_out[:, -1]"
   ]
  },
  {
   "cell_type": "markdown",
   "metadata": {},
   "source": [
    "## Embedings"
   ]
  },
  {
   "cell_type": "code",
   "execution_count": 11,
   "metadata": {},
   "outputs": [
    {
     "data": {
      "text/plain": [
       "tensor([[12,  5, 76, 49,  8, 49, 60, 83, 41, 29],\n",
       "        [19,  3, 85,  0, 50, 14, 68, 47,  3,  1]])"
      ]
     },
     "execution_count": 11,
     "metadata": {},
     "output_type": "execute_result"
    }
   ],
   "source": [
    "dict_size = 100\n",
    "sentences = torch.randint(dict_size, (batch_size, seq_len))\n",
    "sentences"
   ]
  },
  {
   "cell_type": "code",
   "execution_count": 12,
   "metadata": {},
   "outputs": [],
   "source": [
    "embedding_dim = 3\n",
    "embedding = nn.Embedding(dict_size, embedding_dim)"
   ]
  },
  {
   "cell_type": "code",
   "execution_count": 13,
   "metadata": {},
   "outputs": [
    {
     "data": {
      "text/plain": [
       "tensor([[[-1.2196,  0.6031, -0.4558],\n",
       "         [ 1.0393, -0.0342, -0.5091],\n",
       "         [ 1.8944, -0.5545,  1.0928],\n",
       "         [ 0.4852,  0.7222, -0.0678],\n",
       "         [ 0.5222, -0.6337, -1.0984],\n",
       "         [ 0.4852,  0.7222, -0.0678],\n",
       "         [-1.0099, -1.2522,  1.1252],\n",
       "         [-0.8211,  0.3858,  0.6533],\n",
       "         [ 0.2912,  0.3577,  0.1148],\n",
       "         [ 1.5376, -0.3341, -0.6996]],\n",
       "\n",
       "        [[ 1.2343,  0.6949, -2.0666],\n",
       "         [ 0.1641,  0.3015, -0.6134],\n",
       "         [ 0.4257, -0.7820, -0.3327],\n",
       "         [-0.7738, -0.1896,  0.4735],\n",
       "         [ 1.3434, -0.0107,  1.1181],\n",
       "         [-0.1866,  2.2336, -0.3407],\n",
       "         [ 1.0563, -0.2882,  1.3992],\n",
       "         [-0.1661,  0.7801,  0.1108],\n",
       "         [ 0.1641,  0.3015, -0.6134],\n",
       "         [ 1.3613,  0.9567, -0.0597]]], grad_fn=<EmbeddingBackward>)"
      ]
     },
     "execution_count": 13,
     "metadata": {},
     "output_type": "execute_result"
    }
   ],
   "source": [
    "sentences_embedded = embedding(sentences)\n",
    "sentences_embedded"
   ]
  },
  {
   "cell_type": "code",
   "execution_count": 14,
   "metadata": {},
   "outputs": [
    {
     "data": {
      "text/plain": [
       "tensor([[-0.1609, -0.0006,  0.1093,  0.2144],\n",
       "        [-0.1601,  0.0300,  0.1046,  0.0955]], grad_fn=<SelectBackward>)"
      ]
     },
     "execution_count": 14,
     "metadata": {},
     "output_type": "execute_result"
    }
   ],
   "source": [
    "lstm_out, _ = lstm_batch_first(sentences_embedded)\n",
    "lstm_out[:, -1]"
   ]
  },
  {
   "cell_type": "markdown",
   "metadata": {},
   "source": [
    "### Natural Language Processing (NLP)\n",
    "\n",
    "Next we consider a dataset with text and the goal is to evaluate whether they are toxic or non-toxic.\n",
    "\n",
    "You can download the dataset in the following link:\n",
    "\n",
    "[here](https://www.kaggle.com/c/jigsaw-toxic-comment-classification-challenge). \n"
   ]
  },
  {
   "cell_type": "code",
   "execution_count": 15,
   "metadata": {},
   "outputs": [
    {
     "data": {
      "text/html": [
       "<div>\n",
       "<style scoped>\n",
       "    .dataframe tbody tr th:only-of-type {\n",
       "        vertical-align: middle;\n",
       "    }\n",
       "\n",
       "    .dataframe tbody tr th {\n",
       "        vertical-align: top;\n",
       "    }\n",
       "\n",
       "    .dataframe thead th {\n",
       "        text-align: right;\n",
       "    }\n",
       "</style>\n",
       "<table border=\"1\" class=\"dataframe\">\n",
       "  <thead>\n",
       "    <tr style=\"text-align: right;\">\n",
       "      <th></th>\n",
       "      <th>id</th>\n",
       "      <th>comment_text</th>\n",
       "      <th>toxic</th>\n",
       "      <th>severe_toxic</th>\n",
       "      <th>obscene</th>\n",
       "      <th>threat</th>\n",
       "      <th>insult</th>\n",
       "      <th>identity_hate</th>\n",
       "    </tr>\n",
       "  </thead>\n",
       "  <tbody>\n",
       "    <tr>\n",
       "      <th>0</th>\n",
       "      <td>0000997932d777bf</td>\n",
       "      <td>Explanation\\nWhy the edits made under my usern...</td>\n",
       "      <td>0</td>\n",
       "      <td>0</td>\n",
       "      <td>0</td>\n",
       "      <td>0</td>\n",
       "      <td>0</td>\n",
       "      <td>0</td>\n",
       "    </tr>\n",
       "    <tr>\n",
       "      <th>1</th>\n",
       "      <td>000103f0d9cfb60f</td>\n",
       "      <td>D'aww! He matches this background colour I'm s...</td>\n",
       "      <td>0</td>\n",
       "      <td>0</td>\n",
       "      <td>0</td>\n",
       "      <td>0</td>\n",
       "      <td>0</td>\n",
       "      <td>0</td>\n",
       "    </tr>\n",
       "  </tbody>\n",
       "</table>\n",
       "</div>"
      ],
      "text/plain": [
       "                 id                                       comment_text  toxic  \\\n",
       "0  0000997932d777bf  Explanation\\nWhy the edits made under my usern...      0   \n",
       "1  000103f0d9cfb60f  D'aww! He matches this background colour I'm s...      0   \n",
       "\n",
       "   severe_toxic  obscene  threat  insult  identity_hate  \n",
       "0             0        0       0       0              0  \n",
       "1             0        0       0       0              0  "
      ]
     },
     "execution_count": 15,
     "metadata": {},
     "output_type": "execute_result"
    }
   ],
   "source": [
    "import pandas as pd\n",
    "\n",
    "comments_df = pd.read_csv(\"data/jigsaw-toxic-comment-classification-challenge/train.csv\")[:10000]\n",
    "comments_df.head(2)"
   ]
  },
  {
   "cell_type": "code",
   "execution_count": 16,
   "metadata": {},
   "outputs": [
    {
     "data": {
      "text/html": [
       "<div>\n",
       "<style scoped>\n",
       "    .dataframe tbody tr th:only-of-type {\n",
       "        vertical-align: middle;\n",
       "    }\n",
       "\n",
       "    .dataframe tbody tr th {\n",
       "        vertical-align: top;\n",
       "    }\n",
       "\n",
       "    .dataframe thead th {\n",
       "        text-align: right;\n",
       "    }\n",
       "</style>\n",
       "<table border=\"1\" class=\"dataframe\">\n",
       "  <thead>\n",
       "    <tr style=\"text-align: right;\">\n",
       "      <th></th>\n",
       "      <th>comment_text</th>\n",
       "    </tr>\n",
       "  </thead>\n",
       "  <tbody>\n",
       "    <tr>\n",
       "      <th>1911</th>\n",
       "      <td>your support for Chris Lawson \\n\\nAre you sure...</td>\n",
       "    </tr>\n",
       "    <tr>\n",
       "      <th>5578</th>\n",
       "      <td>Apologies for the above litany of bot-generate...</td>\n",
       "    </tr>\n",
       "  </tbody>\n",
       "</table>\n",
       "</div>"
      ],
      "text/plain": [
       "                                           comment_text\n",
       "1911  your support for Chris Lawson \\n\\nAre you sure...\n",
       "5578  Apologies for the above litany of bot-generate..."
      ]
     },
     "execution_count": 16,
     "metadata": {},
     "output_type": "execute_result"
    }
   ],
   "source": [
    "from sklearn.model_selection import train_test_split\n",
    "label_colnames = [\"toxic\", \"severe_toxic\", \"obscene\", \"threat\", \"insult\", \"identity_hate\"]\n",
    "\n",
    "X_train, X_test, y_train, y_test = \\\n",
    "    train_test_split(comments_df[['comment_text']], comments_df[label_colnames], random_state=667)\n",
    "X_train.head(2)"
   ]
  },
  {
   "cell_type": "code",
   "execution_count": 17,
   "metadata": {},
   "outputs": [],
   "source": [
    "import re\n",
    "\n",
    "import nltk\n",
    "from nltk.stem import SnowballStemmer\n",
    "\n",
    "BAD_SYMBOLS_RE = re.compile('[^0-9a-z ]')\n",
    "STEMMER = SnowballStemmer('english')\n",
    "\n",
    "class TextPreprocessor:\n",
    "        \n",
    "    def transfrom_text(self, text):\n",
    "        text = text.lower()\n",
    "        text = re.sub(BAD_SYMBOLS_RE, \" \", text) # process bad symbols\n",
    "        # text = \" \".join([STEMMER.stem(word) for word in text.split()])\n",
    "        return text\n",
    "    \n",
    "    def transform(self, series):\n",
    "        return series.apply(lambda text: self.transfrom_text(text))"
   ]
  },
  {
   "cell_type": "code",
   "execution_count": 18,
   "metadata": {},
   "outputs": [],
   "source": [
    "preprocessor = TextPreprocessor()\n",
    "X_train_preprocessed = preprocessor.transform(X_train['comment_text'])\n",
    "X_test_preprocessed = preprocessor.transform(X_test['comment_text'])"
   ]
  },
  {
   "cell_type": "code",
   "execution_count": 19,
   "metadata": {},
   "outputs": [
    {
     "name": "stdout",
     "output_type": "stream",
     "text": [
      "your support for Chris Lawson \n",
      "\n",
      "Are you sure you want to support this guy?  Look at his source/quote for making the Red Baron jewish.  read the discussion page  on it. See the opposers views on his request page.  It scares me.   JohnHistory\n",
      "\n",
      "http://en.wikipedia.org/wiki/Talk:Manfred_von_Richthofen\n",
      "\n",
      "http://en.wikipedia.org/wiki/Wikipedia:Requests_for_adminship/Clawson\n",
      "---------------------------------------------------------------------------------------------------------------------\n",
      "your support for chris lawson   are you sure you want to support this guy   look at his source quote for making the red baron jewish   read the discussion page  on it  see the opposers views on his request page   it scares me    johnhistory  http   en wikipedia org wiki talk manfred von richthofen  http   en wikipedia org wiki wikipedia requests for adminship clawson\n"
     ]
    }
   ],
   "source": [
    "print(X_train[\"comment_text\"].iloc[0])\n",
    "print('---------------------------------------------------------------------------------------------------------------------')\n",
    "print(X_train_preprocessed.iloc[0])"
   ]
  },
  {
   "cell_type": "code",
   "execution_count": 20,
   "metadata": {},
   "outputs": [
    {
     "name": "stdout",
     "output_type": "stream",
     "text": [
      "Apologies for the above litany of bot-generated warnings and threats.  I think the bot needs its rules adjusted, and have notified the operator accordingly.   (call me Russ)\n",
      "---------------------------------------------------------------------------------------------------------------------\n",
      "apologies for the above litany of bot generated warnings and threats   i think the bot needs its rules adjusted  and have notified the operator accordingly     call me russ \n"
     ]
    }
   ],
   "source": [
    "print(X_train[\"comment_text\"].iloc[1])\n",
    "print('---------------------------------------------------------------------------------------------------------------------')\n",
    "\n",
    "print(X_train_preprocessed.iloc[1])"
   ]
  },
  {
   "cell_type": "code",
   "execution_count": 21,
   "metadata": {},
   "outputs": [],
   "source": [
    "def create_dicts(text):\n",
    "    word_set = set()\n",
    "    words = text.split()\n",
    "    for word in words:\n",
    "        word_set.add(word)\n",
    "    word_list = [\"<UNK>\", \"<PAD>\"] + sorted(list(word_set))\n",
    "    word2idx = {word_list[idx]: idx for idx in range(len(word_list))}\n",
    "    idx2word = {idx: word_list[idx] for idx in range(len(word_list))}\n",
    "    return word2idx, idx2word\n",
    "\n",
    "class Tokenizer:\n",
    "    \n",
    "    def __init__(self):\n",
    "        self.word2idx = None\n",
    "        self.idx2word = None\n",
    "        \n",
    "    def fit(self, X):\n",
    "        text = \" \".join(X)\n",
    "        self.word2idx, self.idx2word = create_dicts(text)\n",
    "    \n",
    "    def transform(self, X):\n",
    "        return [self.transform_line(line) for line in X]\n",
    "        \n",
    "    def transform_line(self, line):\n",
    "        return [self.word2idx.get(word, 0) for word in line.split()]"
   ]
  },
  {
   "cell_type": "code",
   "execution_count": 22,
   "metadata": {},
   "outputs": [],
   "source": [
    "tokenizer = Tokenizer()\n",
    "tokenizer.fit(X_train_preprocessed)\n",
    "tokenizer.fit(X_test_preprocessed)"
   ]
  },
  {
   "cell_type": "code",
   "execution_count": 23,
   "metadata": {},
   "outputs": [],
   "source": [
    "X_train_tokenized = tokenizer.transform(X_train_preprocessed)\n",
    "X_test_tokenized = tokenizer.transform(X_test_preprocessed)"
   ]
  },
  {
   "cell_type": "code",
   "execution_count": 24,
   "metadata": {},
   "outputs": [],
   "source": [
    "class Cutter:\n",
    "\n",
    "    def __init__(self, size=150):\n",
    "        self.size = size\n",
    "        \n",
    "    def transform(self, X):\n",
    "        new_X = []\n",
    "        for line in X:\n",
    "            new_line = line[:self.size]\n",
    "            new_line = new_line + [1] * (self.size - len(new_line))\n",
    "            new_X.append(new_line)\n",
    "        return new_X    "
   ]
  },
  {
   "cell_type": "code",
   "execution_count": 25,
   "metadata": {},
   "outputs": [],
   "source": [
    "cutter = Cutter()\n",
    "X_train_cutted = cutter.transform(X_train_tokenized)\n",
    "X_test_cutted = cutter.transform(X_test_tokenized)"
   ]
  },
  {
   "cell_type": "code",
   "execution_count": 26,
   "metadata": {},
   "outputs": [
    {
     "data": {
      "text/plain": [
       "tensor([[0, 0, 0, 0, 0, 0],\n",
       "        [0, 0, 0, 0, 0, 0],\n",
       "        [1, 0, 0, 0, 1, 0],\n",
       "        ...,\n",
       "        [0, 0, 0, 0, 0, 0],\n",
       "        [0, 0, 0, 0, 0, 0],\n",
       "        [0, 0, 0, 0, 0, 0]])"
      ]
     },
     "execution_count": 26,
     "metadata": {},
     "output_type": "execute_result"
    }
   ],
   "source": [
    "labels = torch.from_numpy(y_train.values)\n",
    "labels"
   ]
  },
  {
   "cell_type": "code",
   "execution_count": 27,
   "metadata": {},
   "outputs": [],
   "source": [
    "train_data = TensorDataset(torch.tensor(X_train_cutted), torch.from_numpy(y_train.values).float())\n",
    "test_data = TensorDataset(torch.tensor(X_test_cutted), torch.from_numpy(y_test.values).float())\n",
    "\n",
    "\n",
    "batch_size = 32\n",
    "\n",
    "train_loader = DataLoader(train_data, shuffle=True, batch_size=batch_size)\n",
    "test_loader = DataLoader(test_data, shuffle=True, batch_size=len(test_data))"
   ]
  },
  {
   "cell_type": "code",
   "execution_count": 28,
   "metadata": {},
   "outputs": [],
   "source": [
    "class LSTMModel(nn.Module):\n",
    "    \n",
    "    def __init__(self, dict_size, output_size, embedding_dim, hidden_dim):\n",
    "        super().__init__()\n",
    "        self.embedding = nn.Embedding(dict_size, embedding_dim)\n",
    "        self.lstm = nn.LSTM(embedding_dim, hidden_dim, batch_first=True)\n",
    "        self.fc = nn.Linear(hidden_dim, output_size)\n",
    "        self.sigmoid = nn.Sigmoid()\n",
    "        \n",
    "    def forward(self, x):\n",
    "        embeded = self.embedding(x)\n",
    "        lstm_out, _ = self.lstm(embeded)\n",
    "        lstm_out = lstm_out[:, -1]        \n",
    "        logits = self.fc(lstm_out)\n",
    "        out = self.sigmoid(logits)\n",
    "        return out"
   ]
  },
  {
   "cell_type": "code",
   "execution_count": null,
   "metadata": {},
   "outputs": [],
   "source": []
  },
  {
   "cell_type": "code",
   "execution_count": 29,
   "metadata": {},
   "outputs": [],
   "source": [
    "dict_size = len(tokenizer.word2idx)\n",
    "output_size = len(label_colnames)\n",
    "embedding_dim = 3\n",
    "hidden_dim = 4\n",
    "\n",
    "lstm_model = LSTMModel(dict_size, output_size, embedding_dim, hidden_dim)"
   ]
  },
  {
   "cell_type": "code",
   "execution_count": 30,
   "metadata": {},
   "outputs": [
    {
     "data": {
      "text/plain": [
       "torch.Size([7500, 150])"
      ]
     },
     "execution_count": 30,
     "metadata": {},
     "output_type": "execute_result"
    }
   ],
   "source": [
    "X_train_torch = torch.tensor(X_train_cutted)\n",
    "X_test_torch = torch.tensor(X_test_cutted)\n",
    "X_train_torch.shape"
   ]
  },
  {
   "cell_type": "code",
   "execution_count": 31,
   "metadata": {},
   "outputs": [
    {
     "data": {
      "text/plain": [
       "tensor([[0.6593, 0.5196, 0.3791, 0.4358, 0.6721, 0.3671],\n",
       "        [0.6593, 0.5196, 0.3791, 0.4358, 0.6721, 0.3671],\n",
       "        [0.6593, 0.5196, 0.3791, 0.4358, 0.6721, 0.3671],\n",
       "        ...,\n",
       "        [0.6593, 0.5196, 0.3791, 0.4358, 0.6721, 0.3671],\n",
       "        [0.6003, 0.5694, 0.4065, 0.4315, 0.6406, 0.3732],\n",
       "        [0.6229, 0.5699, 0.3899, 0.4838, 0.6790, 0.4039]],\n",
       "       grad_fn=<SigmoidBackward>)"
      ]
     },
     "execution_count": 31,
     "metadata": {},
     "output_type": "execute_result"
    }
   ],
   "source": [
    "lstm_model(X_train_torch)"
   ]
  },
  {
   "cell_type": "code",
   "execution_count": 32,
   "metadata": {},
   "outputs": [
    {
     "data": {
      "text/plain": [
       "tensor([[0.6593, 0.5196, 0.3791, 0.4358, 0.6721, 0.3671],\n",
       "        [0.6593, 0.5196, 0.3791, 0.4358, 0.6721, 0.3671],\n",
       "        [0.6593, 0.5196, 0.3791, 0.4358, 0.6721, 0.3671],\n",
       "        [0.6592, 0.5199, 0.3791, 0.4360, 0.6723, 0.3672],\n",
       "        [0.6593, 0.5196, 0.3791, 0.4358, 0.6721, 0.3671],\n",
       "        [0.6593, 0.5196, 0.3791, 0.4358, 0.6721, 0.3671],\n",
       "        [0.6593, 0.5196, 0.3791, 0.4358, 0.6721, 0.3671],\n",
       "        [0.6593, 0.5196, 0.3791, 0.4358, 0.6721, 0.3671],\n",
       "        [0.6593, 0.5196, 0.3791, 0.4358, 0.6721, 0.3671],\n",
       "        [0.6593, 0.5196, 0.3791, 0.4358, 0.6721, 0.3671],\n",
       "        [0.6593, 0.5196, 0.3791, 0.4358, 0.6721, 0.3671],\n",
       "        [0.6593, 0.5196, 0.3791, 0.4358, 0.6721, 0.3671],\n",
       "        [0.6593, 0.5196, 0.3791, 0.4358, 0.6721, 0.3671],\n",
       "        [0.6593, 0.5196, 0.3791, 0.4358, 0.6721, 0.3671],\n",
       "        [0.6593, 0.5196, 0.3791, 0.4358, 0.6721, 0.3671],\n",
       "        [0.6593, 0.5196, 0.3791, 0.4358, 0.6721, 0.3671],\n",
       "        [0.6593, 0.5196, 0.3791, 0.4358, 0.6721, 0.3671],\n",
       "        [0.6593, 0.5196, 0.3791, 0.4358, 0.6721, 0.3671],\n",
       "        [0.6593, 0.5196, 0.3791, 0.4358, 0.6721, 0.3671],\n",
       "        [0.6593, 0.5196, 0.3791, 0.4358, 0.6721, 0.3671],\n",
       "        [0.6073, 0.5258, 0.4068, 0.4471, 0.6408, 0.3721],\n",
       "        [0.6593, 0.5196, 0.3791, 0.4358, 0.6721, 0.3671],\n",
       "        [0.6593, 0.5196, 0.3791, 0.4358, 0.6721, 0.3671],\n",
       "        [0.6593, 0.5196, 0.3791, 0.4358, 0.6721, 0.3671],\n",
       "        [0.6593, 0.5196, 0.3791, 0.4358, 0.6721, 0.3671],\n",
       "        [0.6593, 0.5196, 0.3791, 0.4358, 0.6721, 0.3671],\n",
       "        [0.6593, 0.5196, 0.3791, 0.4358, 0.6721, 0.3671],\n",
       "        [0.6593, 0.5196, 0.3791, 0.4358, 0.6721, 0.3671],\n",
       "        [0.6593, 0.5196, 0.3791, 0.4358, 0.6721, 0.3671],\n",
       "        [0.5846, 0.5823, 0.4250, 0.4277, 0.6265, 0.3837],\n",
       "        [0.6593, 0.5196, 0.3791, 0.4358, 0.6721, 0.3671],\n",
       "        [0.6593, 0.5196, 0.3791, 0.4358, 0.6721, 0.3671]],\n",
       "       grad_fn=<SigmoidBackward>)"
      ]
     },
     "execution_count": 32,
     "metadata": {},
     "output_type": "execute_result"
    }
   ],
   "source": [
    "dataiter = iter(train_loader)\n",
    "input_data, labels = dataiter.next()\n",
    "lstm_model(input_data)"
   ]
  },
  {
   "cell_type": "code",
   "execution_count": 33,
   "metadata": {},
   "outputs": [],
   "source": [
    "lr=0.005\n",
    "criterion = nn.BCELoss()\n",
    "optimizer = torch.optim.Adam(lstm_model.parameters(), lr=lr)"
   ]
  },
  {
   "cell_type": "code",
   "execution_count": 34,
   "metadata": {},
   "outputs": [
    {
     "name": "stdout",
     "output_type": "stream",
     "text": [
      "Epoch: 1, Batch: 1, Avg. Loss: 0.18356561660766602\n",
      "Epoch: 1, Batch: 5, Avg. Loss: 0.6924098134040833\n",
      "Epoch: 1, Batch: 9, Avg. Loss: 0.6495579928159714\n",
      "Epoch: 1, Batch: 13, Avg. Loss: 0.6164238601922989\n",
      "Epoch: 1, Batch: 17, Avg. Loss: 0.5909076780080795\n",
      "Epoch: 1, Batch: 21, Avg. Loss: 0.5543299615383148\n",
      "Epoch: 1, Batch: 25, Avg. Loss: 0.5298996269702911\n",
      "Epoch: 1, Batch: 29, Avg. Loss: 0.49975817650556564\n",
      "Epoch: 1, Batch: 33, Avg. Loss: 0.4733560010790825\n",
      "Epoch: 1, Batch: 37, Avg. Loss: 0.44770464301109314\n",
      "Epoch: 1, Batch: 41, Avg. Loss: 0.42345256358385086\n",
      "Epoch: 1, Batch: 45, Avg. Loss: 0.39359068870544434\n",
      "Epoch: 1, Batch: 49, Avg. Loss: 0.37811052799224854\n",
      "Epoch: 1, Batch: 53, Avg. Loss: 0.3656677082180977\n",
      "Epoch: 1, Batch: 57, Avg. Loss: 0.34512636065483093\n",
      "Epoch: 1, Batch: 61, Avg. Loss: 0.3324815258383751\n",
      "Epoch: 1, Batch: 65, Avg. Loss: 0.28432659804821014\n",
      "Epoch: 1, Batch: 69, Avg. Loss: 0.2632811777293682\n",
      "Epoch: 1, Batch: 73, Avg. Loss: 0.2789395600557327\n",
      "Epoch: 1, Batch: 77, Avg. Loss: 0.25612088292837143\n",
      "Epoch: 1, Batch: 81, Avg. Loss: 0.2394522875547409\n",
      "Epoch: 1, Batch: 85, Avg. Loss: 0.24424131214618683\n",
      "Epoch: 1, Batch: 89, Avg. Loss: 0.23990032821893692\n",
      "Epoch: 1, Batch: 93, Avg. Loss: 0.23087933287024498\n",
      "Epoch: 1, Batch: 97, Avg. Loss: 0.19318589568138123\n",
      "Epoch: 1, Batch: 101, Avg. Loss: 0.18428241088986397\n",
      "Epoch: 1, Batch: 105, Avg. Loss: 0.19515131041407585\n",
      "Epoch: 1, Batch: 109, Avg. Loss: 0.18115411698818207\n",
      "Epoch: 1, Batch: 113, Avg. Loss: 0.18260806053876877\n",
      "Epoch: 1, Batch: 117, Avg. Loss: 0.1867871955037117\n",
      "Epoch: 1, Batch: 121, Avg. Loss: 0.16626939177513123\n",
      "Epoch: 1, Batch: 125, Avg. Loss: 0.2275954745709896\n",
      "Epoch: 1, Batch: 129, Avg. Loss: 0.1706547848880291\n",
      "Epoch: 1, Batch: 133, Avg. Loss: 0.19929538667201996\n",
      "Epoch: 1, Batch: 137, Avg. Loss: 0.18660894595086575\n",
      "Epoch: 1, Batch: 141, Avg. Loss: 0.19833217561244965\n",
      "Epoch: 1, Batch: 145, Avg. Loss: 0.18000171706080437\n",
      "Epoch: 1, Batch: 149, Avg. Loss: 0.1904185153543949\n",
      "Epoch: 1, Batch: 153, Avg. Loss: 0.15234553068876266\n",
      "Epoch: 1, Batch: 157, Avg. Loss: 0.09453088417649269\n",
      "Epoch: 1, Batch: 161, Avg. Loss: 0.12523768655955791\n",
      "Epoch: 1, Batch: 165, Avg. Loss: 0.12016060389578342\n",
      "Epoch: 1, Batch: 169, Avg. Loss: 0.1616298258304596\n",
      "Epoch: 1, Batch: 173, Avg. Loss: 0.14741580188274384\n",
      "Epoch: 1, Batch: 177, Avg. Loss: 0.13839556835591793\n",
      "Epoch: 1, Batch: 181, Avg. Loss: 0.135909516364336\n",
      "Epoch: 1, Batch: 185, Avg. Loss: 0.13344385288655758\n",
      "Epoch: 1, Batch: 189, Avg. Loss: 0.17312097176909447\n",
      "Epoch: 1, Batch: 193, Avg. Loss: 0.1567717306315899\n",
      "Epoch: 1, Batch: 197, Avg. Loss: 0.15401039272546768\n",
      "Epoch: 1, Batch: 201, Avg. Loss: 0.10211203526705503\n",
      "Epoch: 1, Batch: 205, Avg. Loss: 0.12858791463077068\n",
      "Epoch: 1, Batch: 209, Avg. Loss: 0.11528503149747849\n",
      "Epoch: 1, Batch: 213, Avg. Loss: 0.13357154093682766\n",
      "Epoch: 1, Batch: 217, Avg. Loss: 0.1341459173709154\n",
      "Epoch: 1, Batch: 221, Avg. Loss: 0.21122510731220245\n",
      "Epoch: 1, Batch: 225, Avg. Loss: 0.17059425078332424\n",
      "Epoch: 1, Batch: 229, Avg. Loss: 0.15105549804866314\n",
      "Epoch: 1, Batch: 233, Avg. Loss: 0.16409260407090187\n",
      "Epoch: 2, Batch: 1, Avg. Loss: 0.039789196103811264\n",
      "Epoch: 2, Batch: 5, Avg. Loss: 0.09866199549287558\n",
      "Epoch: 2, Batch: 9, Avg. Loss: 0.1607114914804697\n",
      "Epoch: 2, Batch: 13, Avg. Loss: 0.14685310050845146\n",
      "Epoch: 2, Batch: 17, Avg. Loss: 0.16667752526700497\n",
      "Epoch: 2, Batch: 21, Avg. Loss: 0.1967573706060648\n",
      "Epoch: 2, Batch: 25, Avg. Loss: 0.13997391983866692\n",
      "Epoch: 2, Batch: 29, Avg. Loss: 0.19436052441596985\n",
      "Epoch: 2, Batch: 33, Avg. Loss: 0.16250602528452873\n",
      "Epoch: 2, Batch: 37, Avg. Loss: 0.09941177163273096\n",
      "Epoch: 2, Batch: 41, Avg. Loss: 0.13040970172733068\n",
      "Epoch: 2, Batch: 45, Avg. Loss: 0.09585468471050262\n",
      "Epoch: 2, Batch: 49, Avg. Loss: 0.12909855227917433\n",
      "Epoch: 2, Batch: 53, Avg. Loss: 0.1710360050201416\n",
      "Epoch: 2, Batch: 57, Avg. Loss: 0.12463757023215294\n",
      "Epoch: 2, Batch: 61, Avg. Loss: 0.11666948813945055\n",
      "Epoch: 2, Batch: 65, Avg. Loss: 0.14405758678913116\n",
      "Epoch: 2, Batch: 69, Avg. Loss: 0.17804139852523804\n",
      "Epoch: 2, Batch: 73, Avg. Loss: 0.156579514965415\n",
      "Epoch: 2, Batch: 77, Avg. Loss: 0.11511828750371933\n",
      "Epoch: 2, Batch: 81, Avg. Loss: 0.1752883680164814\n",
      "Epoch: 2, Batch: 85, Avg. Loss: 0.1476264763623476\n",
      "Epoch: 2, Batch: 89, Avg. Loss: 0.10547149274498224\n",
      "Epoch: 2, Batch: 93, Avg. Loss: 0.16471503302454948\n",
      "Epoch: 2, Batch: 97, Avg. Loss: 0.12571122869849205\n",
      "Epoch: 2, Batch: 101, Avg. Loss: 0.1882793214172125\n",
      "Epoch: 2, Batch: 105, Avg. Loss: 0.17380782589316368\n",
      "Epoch: 2, Batch: 109, Avg. Loss: 0.12671493738889694\n",
      "Epoch: 2, Batch: 113, Avg. Loss: 0.16518783569335938\n",
      "Epoch: 2, Batch: 117, Avg. Loss: 0.14029606617987156\n",
      "Epoch: 2, Batch: 121, Avg. Loss: 0.14164089038968086\n",
      "Epoch: 2, Batch: 125, Avg. Loss: 0.12743965536355972\n",
      "Epoch: 2, Batch: 129, Avg. Loss: 0.16456553153693676\n",
      "Epoch: 2, Batch: 133, Avg. Loss: 0.1126638064160943\n",
      "Epoch: 2, Batch: 137, Avg. Loss: 0.12581801414489746\n",
      "Epoch: 2, Batch: 141, Avg. Loss: 0.16972741670906544\n",
      "Epoch: 2, Batch: 145, Avg. Loss: 0.14406614191830158\n",
      "Epoch: 2, Batch: 149, Avg. Loss: 0.12087246775627136\n",
      "Epoch: 2, Batch: 153, Avg. Loss: 0.16519521921873093\n",
      "Epoch: 2, Batch: 157, Avg. Loss: 0.1679068934172392\n",
      "Epoch: 2, Batch: 161, Avg. Loss: 0.1532843206077814\n",
      "Epoch: 2, Batch: 165, Avg. Loss: 0.13335854560136795\n",
      "Epoch: 2, Batch: 169, Avg. Loss: 0.10423645935952663\n",
      "Epoch: 2, Batch: 173, Avg. Loss: 0.13365990109741688\n",
      "Epoch: 2, Batch: 177, Avg. Loss: 0.13705031014978886\n",
      "Epoch: 2, Batch: 181, Avg. Loss: 0.12249252572655678\n",
      "Epoch: 2, Batch: 185, Avg. Loss: 0.13127516582608223\n",
      "Epoch: 2, Batch: 189, Avg. Loss: 0.16368239372968674\n",
      "Epoch: 2, Batch: 193, Avg. Loss: 0.11951762903481722\n",
      "Epoch: 2, Batch: 197, Avg. Loss: 0.14349201042205095\n",
      "Epoch: 2, Batch: 201, Avg. Loss: 0.09031555149704218\n",
      "Epoch: 2, Batch: 205, Avg. Loss: 0.1522806230932474\n",
      "Epoch: 2, Batch: 209, Avg. Loss: 0.12200258299708366\n",
      "Epoch: 2, Batch: 213, Avg. Loss: 0.13315093331038952\n",
      "Epoch: 2, Batch: 217, Avg. Loss: 0.17815490812063217\n",
      "Epoch: 2, Batch: 221, Avg. Loss: 0.1540581863373518\n",
      "Epoch: 2, Batch: 225, Avg. Loss: 0.1211383007466793\n",
      "Epoch: 2, Batch: 229, Avg. Loss: 0.0981864221394062\n",
      "Epoch: 2, Batch: 233, Avg. Loss: 0.1889762170612812\n",
      "Epoch: 3, Batch: 1, Avg. Loss: 0.05246241018176079\n",
      "Epoch: 3, Batch: 5, Avg. Loss: 0.18168146908283234\n",
      "Epoch: 3, Batch: 9, Avg. Loss: 0.10328999441117048\n",
      "Epoch: 3, Batch: 13, Avg. Loss: 0.1653453279286623\n",
      "Epoch: 3, Batch: 17, Avg. Loss: 0.12833227589726448\n",
      "Epoch: 3, Batch: 21, Avg. Loss: 0.136391656473279\n",
      "Epoch: 3, Batch: 25, Avg. Loss: 0.13727309741079807\n",
      "Epoch: 3, Batch: 29, Avg. Loss: 0.23901809379458427\n",
      "Epoch: 3, Batch: 33, Avg. Loss: 0.08442490734159946\n",
      "Epoch: 3, Batch: 37, Avg. Loss: 0.2054564505815506\n",
      "Epoch: 3, Batch: 41, Avg. Loss: 0.1398621965199709\n",
      "Epoch: 3, Batch: 45, Avg. Loss: 0.1315826866775751\n",
      "Epoch: 3, Batch: 49, Avg. Loss: 0.09107003547251225\n",
      "Epoch: 3, Batch: 53, Avg. Loss: 0.1505706887692213\n",
      "Epoch: 3, Batch: 57, Avg. Loss: 0.1120194373652339\n",
      "Epoch: 3, Batch: 61, Avg. Loss: 0.1729520447552204\n",
      "Epoch: 3, Batch: 65, Avg. Loss: 0.13716659415513277\n",
      "Epoch: 3, Batch: 69, Avg. Loss: 0.12114830315113068\n",
      "Epoch: 3, Batch: 73, Avg. Loss: 0.12359361443668604\n",
      "Epoch: 3, Batch: 77, Avg. Loss: 0.15204590745270252\n",
      "Epoch: 3, Batch: 81, Avg. Loss: 0.16472457814961672\n",
      "Epoch: 3, Batch: 85, Avg. Loss: 0.10746636148542166\n",
      "Epoch: 3, Batch: 89, Avg. Loss: 0.1303126197308302\n",
      "Epoch: 3, Batch: 93, Avg. Loss: 0.1525691244751215\n",
      "Epoch: 3, Batch: 97, Avg. Loss: 0.12053779140114784\n",
      "Epoch: 3, Batch: 101, Avg. Loss: 0.1566387377679348\n",
      "Epoch: 3, Batch: 105, Avg. Loss: 0.17354870587587357\n",
      "Epoch: 3, Batch: 109, Avg. Loss: 0.12967997323721647\n",
      "Epoch: 3, Batch: 113, Avg. Loss: 0.1197191122919321\n",
      "Epoch: 3, Batch: 117, Avg. Loss: 0.15208046324551105\n",
      "Epoch: 3, Batch: 121, Avg. Loss: 0.19739649072289467\n",
      "Epoch: 3, Batch: 125, Avg. Loss: 0.14253289997577667\n",
      "Epoch: 3, Batch: 129, Avg. Loss: 0.17398744076490402\n",
      "Epoch: 3, Batch: 133, Avg. Loss: 0.10317341983318329\n",
      "Epoch: 3, Batch: 137, Avg. Loss: 0.11402126774191856\n",
      "Epoch: 3, Batch: 141, Avg. Loss: 0.12181912641972303\n",
      "Epoch: 3, Batch: 145, Avg. Loss: 0.09332533832639456\n",
      "Epoch: 3, Batch: 149, Avg. Loss: 0.15815553069114685\n",
      "Epoch: 3, Batch: 153, Avg. Loss: 0.2130078710615635\n",
      "Epoch: 3, Batch: 157, Avg. Loss: 0.14075091388076544\n"
     ]
    },
    {
     "name": "stdout",
     "output_type": "stream",
     "text": [
      "Epoch: 3, Batch: 161, Avg. Loss: 0.12465518899261951\n",
      "Epoch: 3, Batch: 165, Avg. Loss: 0.1539424043148756\n",
      "Epoch: 3, Batch: 169, Avg. Loss: 0.14936521649360657\n",
      "Epoch: 3, Batch: 173, Avg. Loss: 0.14198838733136654\n",
      "Epoch: 3, Batch: 177, Avg. Loss: 0.11953499168157578\n",
      "Epoch: 3, Batch: 181, Avg. Loss: 0.13990438263863325\n",
      "Epoch: 3, Batch: 185, Avg. Loss: 0.17089439928531647\n",
      "Epoch: 3, Batch: 189, Avg. Loss: 0.1514559481292963\n",
      "Epoch: 3, Batch: 193, Avg. Loss: 0.08988838829100132\n",
      "Epoch: 3, Batch: 197, Avg. Loss: 0.15405452251434326\n",
      "Epoch: 3, Batch: 201, Avg. Loss: 0.1761625725775957\n",
      "Epoch: 3, Batch: 205, Avg. Loss: 0.1366143822669983\n",
      "Epoch: 3, Batch: 209, Avg. Loss: 0.08381297718733549\n",
      "Epoch: 3, Batch: 213, Avg. Loss: 0.10416727513074875\n",
      "Epoch: 3, Batch: 217, Avg. Loss: 0.1317143589258194\n",
      "Epoch: 3, Batch: 221, Avg. Loss: 0.12503411434590816\n",
      "Epoch: 3, Batch: 225, Avg. Loss: 0.13588252663612366\n",
      "Epoch: 3, Batch: 229, Avg. Loss: 0.18014116678386927\n",
      "Epoch: 3, Batch: 233, Avg. Loss: 0.10635692626237869\n",
      "Epoch: 4, Batch: 1, Avg. Loss: 0.016008976846933365\n",
      "Epoch: 4, Batch: 5, Avg. Loss: 0.16686509922146797\n",
      "Epoch: 4, Batch: 9, Avg. Loss: 0.10378059279173613\n",
      "Epoch: 4, Batch: 13, Avg. Loss: 0.06958138756453991\n",
      "Epoch: 4, Batch: 17, Avg. Loss: 0.20484416373074055\n",
      "Epoch: 4, Batch: 21, Avg. Loss: 0.13649610243737698\n",
      "Epoch: 4, Batch: 25, Avg. Loss: 0.13834652118384838\n",
      "Epoch: 4, Batch: 29, Avg. Loss: 0.2580881118774414\n",
      "Epoch: 4, Batch: 33, Avg. Loss: 0.14956842362880707\n",
      "Epoch: 4, Batch: 37, Avg. Loss: 0.11188653763383627\n",
      "Epoch: 4, Batch: 41, Avg. Loss: 0.12185250408947468\n",
      "Epoch: 4, Batch: 45, Avg. Loss: 0.13236282858997583\n",
      "Epoch: 4, Batch: 49, Avg. Loss: 0.13310854509472847\n",
      "Epoch: 4, Batch: 53, Avg. Loss: 0.09230840858072042\n",
      "Epoch: 4, Batch: 57, Avg. Loss: 0.14834794774651527\n",
      "Epoch: 4, Batch: 61, Avg. Loss: 0.10714979656040668\n",
      "Epoch: 4, Batch: 65, Avg. Loss: 0.154338413849473\n",
      "Epoch: 4, Batch: 69, Avg. Loss: 0.12582662142813206\n",
      "Epoch: 4, Batch: 73, Avg. Loss: 0.09013302624225616\n",
      "Epoch: 4, Batch: 77, Avg. Loss: 0.1630208119750023\n",
      "Epoch: 4, Batch: 81, Avg. Loss: 0.0693422481417656\n",
      "Epoch: 4, Batch: 85, Avg. Loss: 0.1956177782267332\n",
      "Epoch: 4, Batch: 89, Avg. Loss: 0.1434443248435855\n",
      "Epoch: 4, Batch: 93, Avg. Loss: 0.11098918039351702\n",
      "Epoch: 4, Batch: 97, Avg. Loss: 0.11919434368610382\n",
      "Epoch: 4, Batch: 101, Avg. Loss: 0.19256973545998335\n",
      "Epoch: 4, Batch: 105, Avg. Loss: 0.1520477905869484\n",
      "Epoch: 4, Batch: 109, Avg. Loss: 0.12198732979595661\n",
      "Epoch: 4, Batch: 113, Avg. Loss: 0.11900334618985653\n",
      "Epoch: 4, Batch: 117, Avg. Loss: 0.12700662948191166\n",
      "Epoch: 4, Batch: 121, Avg. Loss: 0.1240495853126049\n",
      "Epoch: 4, Batch: 125, Avg. Loss: 0.16275146510452032\n",
      "Epoch: 4, Batch: 129, Avg. Loss: 0.0940553592517972\n",
      "Epoch: 4, Batch: 133, Avg. Loss: 0.16307208873331547\n",
      "Epoch: 4, Batch: 137, Avg. Loss: 0.11745798215270042\n",
      "Epoch: 4, Batch: 141, Avg. Loss: 0.09713287092745304\n",
      "Epoch: 4, Batch: 145, Avg. Loss: 0.11695698462426662\n",
      "Epoch: 4, Batch: 149, Avg. Loss: 0.17794955521821976\n",
      "Epoch: 4, Batch: 153, Avg. Loss: 0.21534106321632862\n",
      "Epoch: 4, Batch: 157, Avg. Loss: 0.12030873261392117\n",
      "Epoch: 4, Batch: 161, Avg. Loss: 0.17937571369111538\n",
      "Epoch: 4, Batch: 165, Avg. Loss: 0.11865108460187912\n",
      "Epoch: 4, Batch: 169, Avg. Loss: 0.10983735881745815\n",
      "Epoch: 4, Batch: 173, Avg. Loss: 0.1296021919697523\n",
      "Epoch: 4, Batch: 177, Avg. Loss: 0.21945882588624954\n",
      "Epoch: 4, Batch: 181, Avg. Loss: 0.1481334026902914\n",
      "Epoch: 4, Batch: 185, Avg. Loss: 0.17431787587702274\n",
      "Epoch: 4, Batch: 189, Avg. Loss: 0.10708362050354481\n",
      "Epoch: 4, Batch: 193, Avg. Loss: 0.14327233005315065\n",
      "Epoch: 4, Batch: 197, Avg. Loss: 0.1746487095952034\n",
      "Epoch: 4, Batch: 201, Avg. Loss: 0.15311976335942745\n",
      "Epoch: 4, Batch: 205, Avg. Loss: 0.12003295682370663\n",
      "Epoch: 4, Batch: 209, Avg. Loss: 0.17245470918715\n",
      "Epoch: 4, Batch: 213, Avg. Loss: 0.11890571936964989\n",
      "Epoch: 4, Batch: 217, Avg. Loss: 0.14761568792164326\n",
      "Epoch: 4, Batch: 221, Avg. Loss: 0.17062551528215408\n",
      "Epoch: 4, Batch: 225, Avg. Loss: 0.11480248160660267\n",
      "Epoch: 4, Batch: 229, Avg. Loss: 0.17670458741486073\n",
      "Epoch: 4, Batch: 233, Avg. Loss: 0.15730945393443108\n",
      "Epoch: 5, Batch: 1, Avg. Loss: 0.061871450394392014\n",
      "Epoch: 5, Batch: 5, Avg. Loss: 0.09645376540720463\n",
      "Epoch: 5, Batch: 9, Avg. Loss: 0.22045717015862465\n",
      "Epoch: 5, Batch: 13, Avg. Loss: 0.12085002940148115\n",
      "Epoch: 5, Batch: 17, Avg. Loss: 0.09266389813274145\n",
      "Epoch: 5, Batch: 21, Avg. Loss: 0.16928378026932478\n",
      "Epoch: 5, Batch: 25, Avg. Loss: 0.13857016526162624\n",
      "Epoch: 5, Batch: 29, Avg. Loss: 0.15860352851450443\n",
      "Epoch: 5, Batch: 33, Avg. Loss: 0.09082557819783688\n",
      "Epoch: 5, Batch: 37, Avg. Loss: 0.14951931592077017\n",
      "Epoch: 5, Batch: 41, Avg. Loss: 0.12853187881410122\n",
      "Epoch: 5, Batch: 45, Avg. Loss: 0.13690147828310728\n",
      "Epoch: 5, Batch: 49, Avg. Loss: 0.11126365885138512\n",
      "Epoch: 5, Batch: 53, Avg. Loss: 0.13031871989369392\n",
      "Epoch: 5, Batch: 57, Avg. Loss: 0.12656691763550043\n",
      "Epoch: 5, Batch: 61, Avg. Loss: 0.11369228176772594\n",
      "Epoch: 5, Batch: 65, Avg. Loss: 0.1413185652345419\n",
      "Epoch: 5, Batch: 69, Avg. Loss: 0.11036260984838009\n",
      "Epoch: 5, Batch: 73, Avg. Loss: 0.140660903416574\n",
      "Epoch: 5, Batch: 77, Avg. Loss: 0.06130044721066952\n",
      "Epoch: 5, Batch: 81, Avg. Loss: 0.13412702456116676\n",
      "Epoch: 5, Batch: 85, Avg. Loss: 0.19497763738036156\n",
      "Epoch: 5, Batch: 89, Avg. Loss: 0.101600281894207\n",
      "Epoch: 5, Batch: 93, Avg. Loss: 0.15949498862028122\n",
      "Epoch: 5, Batch: 97, Avg. Loss: 0.21736383065581322\n",
      "Epoch: 5, Batch: 101, Avg. Loss: 0.20482588931918144\n",
      "Epoch: 5, Batch: 105, Avg. Loss: 0.10305607132613659\n",
      "Epoch: 5, Batch: 109, Avg. Loss: 0.09389831870794296\n",
      "Epoch: 5, Batch: 113, Avg. Loss: 0.13503461796790361\n",
      "Epoch: 5, Batch: 117, Avg. Loss: 0.12127816118299961\n",
      "Epoch: 5, Batch: 121, Avg. Loss: 0.15858318284153938\n",
      "Epoch: 5, Batch: 125, Avg. Loss: 0.13974102400243282\n",
      "Epoch: 5, Batch: 129, Avg. Loss: 0.1917772125452757\n",
      "Epoch: 5, Batch: 133, Avg. Loss: 0.13179747574031353\n",
      "Epoch: 5, Batch: 137, Avg. Loss: 0.13642452843487263\n",
      "Epoch: 5, Batch: 141, Avg. Loss: 0.15570420864969492\n",
      "Epoch: 5, Batch: 145, Avg. Loss: 0.11781947501003742\n",
      "Epoch: 5, Batch: 149, Avg. Loss: 0.1680037509649992\n",
      "Epoch: 5, Batch: 153, Avg. Loss: 0.1607069531455636\n",
      "Epoch: 5, Batch: 157, Avg. Loss: 0.13454779982566833\n",
      "Epoch: 5, Batch: 161, Avg. Loss: 0.11107856966555119\n",
      "Epoch: 5, Batch: 165, Avg. Loss: 0.12666493095457554\n",
      "Epoch: 5, Batch: 169, Avg. Loss: 0.07142140995711088\n",
      "Epoch: 5, Batch: 173, Avg. Loss: 0.131201496347785\n",
      "Epoch: 5, Batch: 177, Avg. Loss: 0.13791287317872047\n",
      "Epoch: 5, Batch: 181, Avg. Loss: 0.12671021092683077\n",
      "Epoch: 5, Batch: 185, Avg. Loss: 0.1834011822938919\n",
      "Epoch: 5, Batch: 189, Avg. Loss: 0.180655799806118\n",
      "Epoch: 5, Batch: 193, Avg. Loss: 0.18425932340323925\n",
      "Epoch: 5, Batch: 197, Avg. Loss: 0.18947566486895084\n",
      "Epoch: 5, Batch: 201, Avg. Loss: 0.16658997163176537\n",
      "Epoch: 5, Batch: 205, Avg. Loss: 0.1524763237684965\n",
      "Epoch: 5, Batch: 209, Avg. Loss: 0.14599876571446657\n",
      "Epoch: 5, Batch: 213, Avg. Loss: 0.16437054984271526\n",
      "Epoch: 5, Batch: 217, Avg. Loss: 0.09808364789932966\n",
      "Epoch: 5, Batch: 221, Avg. Loss: 0.11693366896361113\n",
      "Epoch: 5, Batch: 225, Avg. Loss: 0.1265843277797103\n",
      "Epoch: 5, Batch: 229, Avg. Loss: 0.149421576410532\n",
      "Epoch: 5, Batch: 233, Avg. Loss: 0.1360247302800417\n",
      "Epoch: 6, Batch: 1, Avg. Loss: 0.03683190420269966\n",
      "Epoch: 6, Batch: 5, Avg. Loss: 0.14462894294410944\n",
      "Epoch: 6, Batch: 9, Avg. Loss: 0.10807423666119576\n",
      "Epoch: 6, Batch: 13, Avg. Loss: 0.12880692817270756\n",
      "Epoch: 6, Batch: 17, Avg. Loss: 0.1549394354224205\n",
      "Epoch: 6, Batch: 21, Avg. Loss: 0.12147459480911493\n",
      "Epoch: 6, Batch: 25, Avg. Loss: 0.1531366240233183\n",
      "Epoch: 6, Batch: 29, Avg. Loss: 0.15529807284474373\n",
      "Epoch: 6, Batch: 33, Avg. Loss: 0.10905860736966133\n",
      "Epoch: 6, Batch: 37, Avg. Loss: 0.2257765606045723\n",
      "Epoch: 6, Batch: 41, Avg. Loss: 0.1451268419623375\n",
      "Epoch: 6, Batch: 45, Avg. Loss: 0.11408594343811274\n",
      "Epoch: 6, Batch: 49, Avg. Loss: 0.13628298602998257\n",
      "Epoch: 6, Batch: 53, Avg. Loss: 0.1601390028372407\n",
      "Epoch: 6, Batch: 57, Avg. Loss: 0.11259668320417404\n",
      "Epoch: 6, Batch: 61, Avg. Loss: 0.09973551332950592\n",
      "Epoch: 6, Batch: 65, Avg. Loss: 0.11527256201952696\n",
      "Epoch: 6, Batch: 69, Avg. Loss: 0.22192130982875824\n",
      "Epoch: 6, Batch: 73, Avg. Loss: 0.14685833267867565\n",
      "Epoch: 6, Batch: 77, Avg. Loss: 0.17004515044391155\n"
     ]
    },
    {
     "name": "stdout",
     "output_type": "stream",
     "text": [
      "Epoch: 6, Batch: 81, Avg. Loss: 0.12756245955824852\n",
      "Epoch: 6, Batch: 85, Avg. Loss: 0.11808130796998739\n",
      "Epoch: 6, Batch: 89, Avg. Loss: 0.21417968906462193\n",
      "Epoch: 6, Batch: 93, Avg. Loss: 0.12916136719286442\n",
      "Epoch: 6, Batch: 97, Avg. Loss: 0.15432480163872242\n",
      "Epoch: 6, Batch: 101, Avg. Loss: 0.17947369813919067\n",
      "Epoch: 6, Batch: 105, Avg. Loss: 0.13576513901352882\n",
      "Epoch: 6, Batch: 109, Avg. Loss: 0.15351576544344425\n",
      "Epoch: 6, Batch: 113, Avg. Loss: 0.1914057396352291\n",
      "Epoch: 6, Batch: 117, Avg. Loss: 0.1272663353011012\n",
      "Epoch: 6, Batch: 121, Avg. Loss: 0.17335908114910126\n",
      "Epoch: 6, Batch: 125, Avg. Loss: 0.11259560380131006\n",
      "Epoch: 6, Batch: 129, Avg. Loss: 0.12319597229361534\n",
      "Epoch: 6, Batch: 133, Avg. Loss: 0.11287750117480755\n",
      "Epoch: 6, Batch: 137, Avg. Loss: 0.12494784407317638\n",
      "Epoch: 6, Batch: 141, Avg. Loss: 0.14460100140422583\n",
      "Epoch: 6, Batch: 145, Avg. Loss: 0.08455625828355551\n",
      "Epoch: 6, Batch: 149, Avg. Loss: 0.1682528480887413\n",
      "Epoch: 6, Batch: 153, Avg. Loss: 0.16013169940561056\n",
      "Epoch: 6, Batch: 157, Avg. Loss: 0.18327906168997288\n",
      "Epoch: 6, Batch: 161, Avg. Loss: 0.191763985902071\n",
      "Epoch: 6, Batch: 165, Avg. Loss: 0.09874489717185497\n",
      "Epoch: 6, Batch: 169, Avg. Loss: 0.13603620324283838\n",
      "Epoch: 6, Batch: 173, Avg. Loss: 0.17868187092244625\n",
      "Epoch: 6, Batch: 177, Avg. Loss: 0.07840560376644135\n",
      "Epoch: 6, Batch: 181, Avg. Loss: 0.1659977026283741\n",
      "Epoch: 6, Batch: 185, Avg. Loss: 0.1276919236406684\n",
      "Epoch: 6, Batch: 189, Avg. Loss: 0.09468365926295519\n",
      "Epoch: 6, Batch: 193, Avg. Loss: 0.14466738514602184\n",
      "Epoch: 6, Batch: 197, Avg. Loss: 0.12535474263131618\n",
      "Epoch: 6, Batch: 201, Avg. Loss: 0.1415874231606722\n",
      "Epoch: 6, Batch: 205, Avg. Loss: 0.09018714725971222\n",
      "Epoch: 6, Batch: 209, Avg. Loss: 0.09813157841563225\n",
      "Epoch: 6, Batch: 213, Avg. Loss: 0.1432567983865738\n",
      "Epoch: 6, Batch: 217, Avg. Loss: 0.10254915617406368\n",
      "Epoch: 6, Batch: 221, Avg. Loss: 0.13404327258467674\n",
      "Epoch: 6, Batch: 225, Avg. Loss: 0.16248615644872189\n",
      "Epoch: 6, Batch: 229, Avg. Loss: 0.12970054894685745\n",
      "Epoch: 6, Batch: 233, Avg. Loss: 0.09223932027816772\n",
      "Epoch: 7, Batch: 1, Avg. Loss: 0.0500984787940979\n",
      "Epoch: 7, Batch: 5, Avg. Loss: 0.13216431625187397\n",
      "Epoch: 7, Batch: 9, Avg. Loss: 0.1522524729371071\n",
      "Epoch: 7, Batch: 13, Avg. Loss: 0.10869238525629044\n",
      "Epoch: 7, Batch: 17, Avg. Loss: 0.13310537673532963\n",
      "Epoch: 7, Batch: 21, Avg. Loss: 0.10493444558233023\n",
      "Epoch: 7, Batch: 25, Avg. Loss: 0.05948909558355808\n",
      "Epoch: 7, Batch: 29, Avg. Loss: 0.08366327825933695\n",
      "Epoch: 7, Batch: 33, Avg. Loss: 0.10234807338565588\n",
      "Epoch: 7, Batch: 37, Avg. Loss: 0.1193622313439846\n",
      "Epoch: 7, Batch: 41, Avg. Loss: 0.18475468456745148\n",
      "Epoch: 7, Batch: 45, Avg. Loss: 0.0957147367298603\n",
      "Epoch: 7, Batch: 49, Avg. Loss: 0.12181336060166359\n",
      "Epoch: 7, Batch: 53, Avg. Loss: 0.10885378904640675\n",
      "Epoch: 7, Batch: 57, Avg. Loss: 0.14908587001264095\n",
      "Epoch: 7, Batch: 61, Avg. Loss: 0.1621905043721199\n",
      "Epoch: 7, Batch: 65, Avg. Loss: 0.07553574163466692\n",
      "Epoch: 7, Batch: 69, Avg. Loss: 0.23243499547243118\n",
      "Epoch: 7, Batch: 73, Avg. Loss: 0.10652751475572586\n",
      "Epoch: 7, Batch: 77, Avg. Loss: 0.15188984386622906\n",
      "Epoch: 7, Batch: 81, Avg. Loss: 0.09640027768909931\n",
      "Epoch: 7, Batch: 85, Avg. Loss: 0.20309508964419365\n",
      "Epoch: 7, Batch: 89, Avg. Loss: 0.17741944082081318\n",
      "Epoch: 7, Batch: 93, Avg. Loss: 0.11512529104948044\n",
      "Epoch: 7, Batch: 97, Avg. Loss: 0.21224337257444859\n",
      "Epoch: 7, Batch: 101, Avg. Loss: 0.1261358130723238\n",
      "Epoch: 7, Batch: 105, Avg. Loss: 0.09673896431922913\n",
      "Epoch: 7, Batch: 109, Avg. Loss: 0.2154257521033287\n",
      "Epoch: 7, Batch: 113, Avg. Loss: 0.12881519366055727\n",
      "Epoch: 7, Batch: 117, Avg. Loss: 0.13820037990808487\n",
      "Epoch: 7, Batch: 121, Avg. Loss: 0.12295135296881199\n",
      "Epoch: 7, Batch: 125, Avg. Loss: 0.15031909942626953\n",
      "Epoch: 7, Batch: 129, Avg. Loss: 0.13269564509391785\n",
      "Epoch: 7, Batch: 133, Avg. Loss: 0.13509549014270306\n",
      "Epoch: 7, Batch: 137, Avg. Loss: 0.18614336661994457\n",
      "Epoch: 7, Batch: 141, Avg. Loss: 0.1258437018841505\n",
      "Epoch: 7, Batch: 145, Avg. Loss: 0.11798408813774586\n",
      "Epoch: 7, Batch: 149, Avg. Loss: 0.18600911553949118\n",
      "Epoch: 7, Batch: 153, Avg. Loss: 0.1266136486083269\n",
      "Epoch: 7, Batch: 157, Avg. Loss: 0.18891676142811775\n",
      "Epoch: 7, Batch: 161, Avg. Loss: 0.18796773813664913\n",
      "Epoch: 7, Batch: 165, Avg. Loss: 0.1664537489414215\n",
      "Epoch: 7, Batch: 169, Avg. Loss: 0.08770995493978262\n",
      "Epoch: 7, Batch: 173, Avg. Loss: 0.13205215707421303\n",
      "Epoch: 7, Batch: 177, Avg. Loss: 0.10635196324437857\n",
      "Epoch: 7, Batch: 181, Avg. Loss: 0.21645071357488632\n",
      "Epoch: 7, Batch: 185, Avg. Loss: 0.11932074930518866\n",
      "Epoch: 7, Batch: 189, Avg. Loss: 0.13146016746759415\n",
      "Epoch: 7, Batch: 193, Avg. Loss: 0.14553364925086498\n",
      "Epoch: 7, Batch: 197, Avg. Loss: 0.07634393312036991\n",
      "Epoch: 7, Batch: 201, Avg. Loss: 0.15175585635006428\n",
      "Epoch: 7, Batch: 205, Avg. Loss: 0.14996721968054771\n",
      "Epoch: 7, Batch: 209, Avg. Loss: 0.12185283564031124\n",
      "Epoch: 7, Batch: 213, Avg. Loss: 0.14853337034583092\n",
      "Epoch: 7, Batch: 217, Avg. Loss: 0.15182184148579836\n",
      "Epoch: 7, Batch: 221, Avg. Loss: 0.14180218800902367\n",
      "Epoch: 7, Batch: 225, Avg. Loss: 0.12923439219594002\n",
      "Epoch: 7, Batch: 229, Avg. Loss: 0.15902851335704327\n",
      "Epoch: 7, Batch: 233, Avg. Loss: 0.10872011259198189\n",
      "Epoch: 8, Batch: 1, Avg. Loss: 0.02003852277994156\n",
      "Epoch: 8, Batch: 5, Avg. Loss: 0.09616886544972658\n",
      "Epoch: 8, Batch: 9, Avg. Loss: 0.1657087616622448\n",
      "Epoch: 8, Batch: 13, Avg. Loss: 0.13322852179408073\n",
      "Epoch: 8, Batch: 17, Avg. Loss: 0.1376260807737708\n",
      "Epoch: 8, Batch: 21, Avg. Loss: 0.11964239552617073\n",
      "Epoch: 8, Batch: 25, Avg. Loss: 0.15290590561926365\n",
      "Epoch: 8, Batch: 29, Avg. Loss: 0.1267624506726861\n",
      "Epoch: 8, Batch: 33, Avg. Loss: 0.1642984990030527\n",
      "Epoch: 8, Batch: 37, Avg. Loss: 0.09251588676124811\n",
      "Epoch: 8, Batch: 41, Avg. Loss: 0.13745395839214325\n",
      "Epoch: 8, Batch: 45, Avg. Loss: 0.1139796283096075\n",
      "Epoch: 8, Batch: 49, Avg. Loss: 0.06961813848465681\n",
      "Epoch: 8, Batch: 53, Avg. Loss: 0.1263004019856453\n",
      "Epoch: 8, Batch: 57, Avg. Loss: 0.2227422147989273\n",
      "Epoch: 8, Batch: 61, Avg. Loss: 0.09641732554882765\n",
      "Epoch: 8, Batch: 65, Avg. Loss: 0.1355542242527008\n",
      "Epoch: 8, Batch: 69, Avg. Loss: 0.11627217847853899\n",
      "Epoch: 8, Batch: 73, Avg. Loss: 0.13267423026263714\n",
      "Epoch: 8, Batch: 77, Avg. Loss: 0.13826254103332758\n",
      "Epoch: 8, Batch: 81, Avg. Loss: 0.1516238320618868\n",
      "Epoch: 8, Batch: 85, Avg. Loss: 0.13497518375515938\n",
      "Epoch: 8, Batch: 89, Avg. Loss: 0.11544106248766184\n",
      "Epoch: 8, Batch: 93, Avg. Loss: 0.19547163508832455\n",
      "Epoch: 8, Batch: 97, Avg. Loss: 0.1801864393055439\n",
      "Epoch: 8, Batch: 101, Avg. Loss: 0.16590386256575584\n",
      "Epoch: 8, Batch: 105, Avg. Loss: 0.12013140879571438\n",
      "Epoch: 8, Batch: 109, Avg. Loss: 0.09010626096278429\n",
      "Epoch: 8, Batch: 113, Avg. Loss: 0.15208494290709496\n",
      "Epoch: 8, Batch: 117, Avg. Loss: 0.14526250027120113\n",
      "Epoch: 8, Batch: 121, Avg. Loss: 0.13152822945266962\n",
      "Epoch: 8, Batch: 125, Avg. Loss: 0.1703588142991066\n",
      "Epoch: 8, Batch: 129, Avg. Loss: 0.11104414984583855\n",
      "Epoch: 8, Batch: 133, Avg. Loss: 0.128781845793128\n",
      "Epoch: 8, Batch: 137, Avg. Loss: 0.1096461471170187\n",
      "Epoch: 8, Batch: 141, Avg. Loss: 0.16644291952252388\n",
      "Epoch: 8, Batch: 145, Avg. Loss: 0.10689720790833235\n",
      "Epoch: 8, Batch: 149, Avg. Loss: 0.13064427487552166\n",
      "Epoch: 8, Batch: 153, Avg. Loss: 0.14684353955090046\n",
      "Epoch: 8, Batch: 157, Avg. Loss: 0.15758906677365303\n",
      "Epoch: 8, Batch: 161, Avg. Loss: 0.18220882676541805\n",
      "Epoch: 8, Batch: 165, Avg. Loss: 0.2374483421444893\n",
      "Epoch: 8, Batch: 169, Avg. Loss: 0.10111341439187527\n",
      "Epoch: 8, Batch: 173, Avg. Loss: 0.14762224722653627\n",
      "Epoch: 8, Batch: 177, Avg. Loss: 0.12813289929181337\n",
      "Epoch: 8, Batch: 181, Avg. Loss: 0.1420498313382268\n",
      "Epoch: 8, Batch: 185, Avg. Loss: 0.14199748449027538\n",
      "Epoch: 8, Batch: 189, Avg. Loss: 0.17814068496227264\n",
      "Epoch: 8, Batch: 193, Avg. Loss: 0.11098826862871647\n",
      "Epoch: 8, Batch: 197, Avg. Loss: 0.1690447200089693\n",
      "Epoch: 8, Batch: 201, Avg. Loss: 0.09864740818738937\n",
      "Epoch: 8, Batch: 205, Avg. Loss: 0.10830391012132168\n",
      "Epoch: 8, Batch: 209, Avg. Loss: 0.14115986041724682\n",
      "Epoch: 8, Batch: 213, Avg. Loss: 0.1070774495601654\n",
      "Epoch: 8, Batch: 217, Avg. Loss: 0.1290877116844058\n",
      "Epoch: 8, Batch: 221, Avg. Loss: 0.11587335914373398\n",
      "Epoch: 8, Batch: 225, Avg. Loss: 0.20838091894984245\n",
      "Epoch: 8, Batch: 229, Avg. Loss: 0.1092153387144208\n",
      "Epoch: 8, Batch: 233, Avg. Loss: 0.12770563550293446\n"
     ]
    },
    {
     "name": "stdout",
     "output_type": "stream",
     "text": [
      "Epoch: 9, Batch: 1, Avg. Loss: 0.05424889549612999\n",
      "Epoch: 9, Batch: 5, Avg. Loss: 0.16231120936572552\n",
      "Epoch: 9, Batch: 9, Avg. Loss: 0.08066965732723475\n",
      "Epoch: 9, Batch: 13, Avg. Loss: 0.12423248216509819\n",
      "Epoch: 9, Batch: 17, Avg. Loss: 0.11194130592048168\n",
      "Epoch: 9, Batch: 21, Avg. Loss: 0.15133318677544594\n",
      "Epoch: 9, Batch: 25, Avg. Loss: 0.08188071474432945\n",
      "Epoch: 9, Batch: 29, Avg. Loss: 0.1576324850320816\n",
      "Epoch: 9, Batch: 33, Avg. Loss: 0.17346794344484806\n",
      "Epoch: 9, Batch: 37, Avg. Loss: 0.14423097297549248\n",
      "Epoch: 9, Batch: 41, Avg. Loss: 0.14797473698854446\n",
      "Epoch: 9, Batch: 45, Avg. Loss: 0.09497140347957611\n",
      "Epoch: 9, Batch: 49, Avg. Loss: 0.20268354378640652\n",
      "Epoch: 9, Batch: 53, Avg. Loss: 0.09841650724411011\n",
      "Epoch: 9, Batch: 57, Avg. Loss: 0.09524000808596611\n",
      "Epoch: 9, Batch: 61, Avg. Loss: 0.1941597107797861\n",
      "Epoch: 9, Batch: 65, Avg. Loss: 0.15863467194139957\n",
      "Epoch: 9, Batch: 69, Avg. Loss: 0.11357637029141188\n",
      "Epoch: 9, Batch: 73, Avg. Loss: 0.11974216625094414\n",
      "Epoch: 9, Batch: 77, Avg. Loss: 0.12468111142516136\n",
      "Epoch: 9, Batch: 81, Avg. Loss: 0.21699316427111626\n",
      "Epoch: 9, Batch: 85, Avg. Loss: 0.059962271712720394\n",
      "Epoch: 9, Batch: 89, Avg. Loss: 0.12838194984942675\n",
      "Epoch: 9, Batch: 93, Avg. Loss: 0.11249736323952675\n",
      "Epoch: 9, Batch: 97, Avg. Loss: 0.10413822811096907\n",
      "Epoch: 9, Batch: 101, Avg. Loss: 0.13130451925098896\n",
      "Epoch: 9, Batch: 105, Avg. Loss: 0.1514285858720541\n",
      "Epoch: 9, Batch: 109, Avg. Loss: 0.14259326085448265\n",
      "Epoch: 9, Batch: 113, Avg. Loss: 0.20572985336184502\n",
      "Epoch: 9, Batch: 117, Avg. Loss: 0.1476430157199502\n",
      "Epoch: 9, Batch: 121, Avg. Loss: 0.182165689766407\n",
      "Epoch: 9, Batch: 125, Avg. Loss: 0.1922870296984911\n",
      "Epoch: 9, Batch: 129, Avg. Loss: 0.18065391667187214\n",
      "Epoch: 9, Batch: 133, Avg. Loss: 0.11006583366543055\n",
      "Epoch: 9, Batch: 137, Avg. Loss: 0.13168245553970337\n",
      "Epoch: 9, Batch: 141, Avg. Loss: 0.11033552512526512\n",
      "Epoch: 9, Batch: 145, Avg. Loss: 0.16234569065272808\n",
      "Epoch: 9, Batch: 149, Avg. Loss: 0.15369980596005917\n",
      "Epoch: 9, Batch: 153, Avg. Loss: 0.1428746860474348\n",
      "Epoch: 9, Batch: 157, Avg. Loss: 0.15965446271002293\n",
      "Epoch: 9, Batch: 161, Avg. Loss: 0.07646317686885595\n",
      "Epoch: 9, Batch: 165, Avg. Loss: 0.09436466079205275\n",
      "Epoch: 9, Batch: 169, Avg. Loss: 0.1356164701282978\n",
      "Epoch: 9, Batch: 173, Avg. Loss: 0.24658504128456116\n",
      "Epoch: 9, Batch: 177, Avg. Loss: 0.1656327247619629\n",
      "Epoch: 9, Batch: 181, Avg. Loss: 0.12618357688188553\n",
      "Epoch: 9, Batch: 185, Avg. Loss: 0.12248988822102547\n",
      "Epoch: 9, Batch: 189, Avg. Loss: 0.09752921015024185\n",
      "Epoch: 9, Batch: 193, Avg. Loss: 0.1241876007989049\n",
      "Epoch: 9, Batch: 197, Avg. Loss: 0.13040528167039156\n",
      "Epoch: 9, Batch: 201, Avg. Loss: 0.09750543721020222\n",
      "Epoch: 9, Batch: 205, Avg. Loss: 0.1552367638796568\n",
      "Epoch: 9, Batch: 209, Avg. Loss: 0.20049463212490082\n",
      "Epoch: 9, Batch: 213, Avg. Loss: 0.16708122938871384\n",
      "Epoch: 9, Batch: 217, Avg. Loss: 0.12576670665293932\n",
      "Epoch: 9, Batch: 221, Avg. Loss: 0.08745635114610195\n",
      "Epoch: 9, Batch: 225, Avg. Loss: 0.18173462711274624\n",
      "Epoch: 9, Batch: 229, Avg. Loss: 0.10115069895982742\n",
      "Epoch: 9, Batch: 233, Avg. Loss: 0.08261142484843731\n",
      "Epoch: 10, Batch: 1, Avg. Loss: 0.04681600257754326\n",
      "Epoch: 10, Batch: 5, Avg. Loss: 0.16578441858291626\n",
      "Epoch: 10, Batch: 9, Avg. Loss: 0.15722198691219091\n",
      "Epoch: 10, Batch: 13, Avg. Loss: 0.17831814102828503\n",
      "Epoch: 10, Batch: 17, Avg. Loss: 0.12727885507047176\n",
      "Epoch: 10, Batch: 21, Avg. Loss: 0.08673457708209753\n",
      "Epoch: 10, Batch: 25, Avg. Loss: 0.1295751966536045\n",
      "Epoch: 10, Batch: 29, Avg. Loss: 0.11876604706048965\n",
      "Epoch: 10, Batch: 33, Avg. Loss: 0.10965830832719803\n",
      "Epoch: 10, Batch: 37, Avg. Loss: 0.13075048942118883\n",
      "Epoch: 10, Batch: 41, Avg. Loss: 0.12530416622757912\n",
      "Epoch: 10, Batch: 45, Avg. Loss: 0.1311618322506547\n",
      "Epoch: 10, Batch: 49, Avg. Loss: 0.12771919183433056\n",
      "Epoch: 10, Batch: 53, Avg. Loss: 0.12151374574750662\n",
      "Epoch: 10, Batch: 57, Avg. Loss: 0.06667125876992941\n",
      "Epoch: 10, Batch: 61, Avg. Loss: 0.11907082796096802\n",
      "Epoch: 10, Batch: 65, Avg. Loss: 0.15191875211894512\n",
      "Epoch: 10, Batch: 69, Avg. Loss: 0.19667399488389492\n",
      "Epoch: 10, Batch: 73, Avg. Loss: 0.12820950523018837\n",
      "Epoch: 10, Batch: 77, Avg. Loss: 0.20029177702963352\n",
      "Epoch: 10, Batch: 81, Avg. Loss: 0.10089983232319355\n",
      "Epoch: 10, Batch: 85, Avg. Loss: 0.10040577035397291\n",
      "Epoch: 10, Batch: 89, Avg. Loss: 0.0790449371561408\n",
      "Epoch: 10, Batch: 93, Avg. Loss: 0.14916051365435123\n",
      "Epoch: 10, Batch: 97, Avg. Loss: 0.12327091116458178\n",
      "Epoch: 10, Batch: 101, Avg. Loss: 0.16938685532659292\n",
      "Epoch: 10, Batch: 105, Avg. Loss: 0.20185839757323265\n",
      "Epoch: 10, Batch: 109, Avg. Loss: 0.169365169480443\n",
      "Epoch: 10, Batch: 113, Avg. Loss: 0.15917522087693214\n",
      "Epoch: 10, Batch: 117, Avg. Loss: 0.14679436944425106\n",
      "Epoch: 10, Batch: 121, Avg. Loss: 0.18820901401340961\n",
      "Epoch: 10, Batch: 125, Avg. Loss: 0.10132613591849804\n",
      "Epoch: 10, Batch: 129, Avg. Loss: 0.11634628754109144\n",
      "Epoch: 10, Batch: 133, Avg. Loss: 0.14974403753876686\n",
      "Epoch: 10, Batch: 137, Avg. Loss: 0.15347357280552387\n",
      "Epoch: 10, Batch: 141, Avg. Loss: 0.09150809422135353\n",
      "Epoch: 10, Batch: 145, Avg. Loss: 0.1171595174819231\n",
      "Epoch: 10, Batch: 149, Avg. Loss: 0.1518462672829628\n",
      "Epoch: 10, Batch: 153, Avg. Loss: 0.23063650354743004\n",
      "Epoch: 10, Batch: 157, Avg. Loss: 0.08311903197318316\n",
      "Epoch: 10, Batch: 161, Avg. Loss: 0.12747660279273987\n",
      "Epoch: 10, Batch: 165, Avg. Loss: 0.16948941349983215\n",
      "Epoch: 10, Batch: 169, Avg. Loss: 0.07469592895358801\n",
      "Epoch: 10, Batch: 173, Avg. Loss: 0.10197628568857908\n",
      "Epoch: 10, Batch: 177, Avg. Loss: 0.10270319785922766\n",
      "Epoch: 10, Batch: 181, Avg. Loss: 0.13731872849166393\n",
      "Epoch: 10, Batch: 185, Avg. Loss: 0.15015575289726257\n",
      "Epoch: 10, Batch: 189, Avg. Loss: 0.119513725861907\n",
      "Epoch: 10, Batch: 193, Avg. Loss: 0.08493381645530462\n",
      "Epoch: 10, Batch: 197, Avg. Loss: 0.16507541202008724\n",
      "Epoch: 10, Batch: 201, Avg. Loss: 0.12971511390060186\n",
      "Epoch: 10, Batch: 205, Avg. Loss: 0.12985155917704105\n",
      "Epoch: 10, Batch: 209, Avg. Loss: 0.21972840279340744\n",
      "Epoch: 10, Batch: 213, Avg. Loss: 0.1603827178478241\n",
      "Epoch: 10, Batch: 217, Avg. Loss: 0.18229569494724274\n",
      "Epoch: 10, Batch: 221, Avg. Loss: 0.15685189701616764\n",
      "Epoch: 10, Batch: 225, Avg. Loss: 0.18267827481031418\n",
      "Epoch: 10, Batch: 229, Avg. Loss: 0.122026477009058\n",
      "Epoch: 10, Batch: 233, Avg. Loss: 0.09006027597934008\n",
      "Finished Training\n"
     ]
    }
   ],
   "source": [
    "n_epoch = 10\n",
    "print_every = 4\n",
    "\n",
    "loss_over_time = [] # to track the loss as the network trains\n",
    "    \n",
    "for epoch in range(n_epoch):\n",
    "    \n",
    "    running_loss = 0.0\n",
    "    \n",
    "    for batch_i, (input_data, labels) in enumerate(train_loader):\n",
    "        # Zero gradients (just in case)\n",
    "        optimizer.zero_grad()\n",
    "\n",
    "        # Forward pass, calculate predictions\n",
    "        output = lstm_model(input_data) \n",
    "        # Calculate loss\n",
    "        loss = criterion(output, labels)\n",
    "        ## Backward propagation\n",
    "        loss.backward()\n",
    "        ## Upade weights\n",
    "        optimizer.step()\n",
    "        \n",
    "        # print loss statistics\n",
    "        # to convert loss into a scalar and add it to running_loss, we use .item()\n",
    "        running_loss += loss.item()\n",
    "            \n",
    "        \n",
    "        if batch_i % print_every == 0:    # print every 100 batches (staring from 50)\n",
    "                avg_loss = running_loss/print_every\n",
    "                # record and print the avg loss over the 100 batches\n",
    "                loss_over_time.append(avg_loss)\n",
    "                print('Epoch: {}, Batch: {}, Avg. Loss: {}'.format(epoch + 1, batch_i+1, avg_loss))\n",
    "                running_loss = 0.0\n",
    "\n",
    "print('Finished Training')"
   ]
  },
  {
   "cell_type": "code",
   "execution_count": 37,
   "metadata": {},
   "outputs": [
    {
     "data": {
      "text/plain": [
       "[<matplotlib.lines.Line2D at 0x12ca72198>]"
      ]
     },
     "execution_count": 37,
     "metadata": {},
     "output_type": "execute_result"
    },
    {
     "data": {
      "image/png": "[encoded data removed]",
      "text/plain": [
       "<Figure size 432x288 with 1 Axes>"
      ]
     },
     "metadata": {
      "needs_background": "light"
     },
     "output_type": "display_data"
    }
   ],
   "source": [
    "import matplotlib.pyplot as plt\n",
    "plt.plot(loss_over_time)"
   ]
  },
  {
   "cell_type": "code",
   "execution_count": 38,
   "metadata": {},
   "outputs": [
    {
     "data": {
      "text/plain": [
       "tensor([[0, 0, 0, 0, 0, 0],\n",
       "        [0, 0, 0, 0, 0, 0],\n",
       "        [0, 0, 0, 0, 0, 0],\n",
       "        [0, 0, 0, 0, 0, 0],\n",
       "        [0, 0, 0, 0, 0, 0],\n",
       "        [0, 0, 0, 0, 0, 0],\n",
       "        [0, 0, 0, 0, 0, 0],\n",
       "        [0, 0, 0, 0, 0, 0],\n",
       "        [0, 0, 0, 0, 0, 0],\n",
       "        [0, 0, 0, 0, 0, 0],\n",
       "        [0, 0, 0, 0, 0, 0],\n",
       "        [0, 0, 0, 0, 0, 0],\n",
       "        [0, 0, 0, 0, 0, 0],\n",
       "        [0, 0, 0, 0, 0, 0],\n",
       "        [0, 0, 0, 0, 0, 0],\n",
       "        [0, 0, 0, 0, 0, 0],\n",
       "        [0, 0, 0, 0, 0, 0],\n",
       "        [0, 0, 0, 0, 0, 0],\n",
       "        [0, 0, 0, 0, 0, 0],\n",
       "        [0, 0, 0, 0, 0, 0],\n",
       "        [0, 0, 0, 0, 0, 0],\n",
       "        [0, 0, 0, 0, 0, 0],\n",
       "        [0, 0, 0, 0, 0, 0],\n",
       "        [0, 0, 0, 0, 0, 0],\n",
       "        [0, 0, 0, 0, 0, 0],\n",
       "        [0, 0, 0, 0, 0, 0],\n",
       "        [0, 0, 0, 0, 0, 0],\n",
       "        [0, 0, 0, 0, 0, 0],\n",
       "        [0, 0, 0, 0, 0, 0],\n",
       "        [0, 0, 0, 0, 0, 0],\n",
       "        [0, 0, 0, 0, 0, 0],\n",
       "        [0, 0, 0, 0, 0, 0]], dtype=torch.uint8)"
      ]
     },
     "execution_count": 38,
     "metadata": {},
     "output_type": "execute_result"
    }
   ],
   "source": [
    "dataiter = iter(train_loader)\n",
    "input_data, labels = dataiter.next()\n",
    "lstm_model(input_data) >= 0.5"
   ]
  },
  {
   "cell_type": "code",
   "execution_count": 39,
   "metadata": {},
   "outputs": [
    {
     "data": {
      "text/plain": [
       "tensor([[0., 0., 0., 0., 0., 0.],\n",
       "        [1., 0., 0., 0., 0., 0.],\n",
       "        [0., 0., 0., 0., 0., 0.],\n",
       "        [0., 0., 0., 0., 0., 0.],\n",
       "        [0., 0., 0., 0., 0., 0.],\n",
       "        [0., 0., 0., 0., 0., 0.],\n",
       "        [0., 0., 0., 0., 0., 0.],\n",
       "        [0., 0., 0., 0., 0., 0.],\n",
       "        [0., 0., 0., 0., 0., 0.],\n",
       "        [0., 0., 0., 0., 0., 0.],\n",
       "        [0., 0., 0., 0., 0., 0.],\n",
       "        [0., 0., 0., 0., 0., 0.],\n",
       "        [0., 0., 0., 0., 0., 0.],\n",
       "        [0., 0., 0., 0., 0., 0.],\n",
       "        [1., 0., 1., 0., 1., 0.],\n",
       "        [0., 0., 0., 0., 0., 0.],\n",
       "        [0., 0., 0., 0., 0., 0.],\n",
       "        [0., 0., 0., 0., 0., 0.],\n",
       "        [0., 0., 0., 0., 0., 0.],\n",
       "        [0., 0., 0., 0., 0., 0.],\n",
       "        [0., 0., 0., 0., 0., 0.],\n",
       "        [0., 0., 0., 0., 0., 0.],\n",
       "        [0., 0., 0., 0., 0., 0.],\n",
       "        [0., 0., 0., 0., 0., 0.],\n",
       "        [0., 0., 0., 0., 0., 0.],\n",
       "        [0., 0., 0., 0., 0., 0.],\n",
       "        [1., 0., 0., 0., 0., 0.],\n",
       "        [0., 0., 0., 0., 0., 0.],\n",
       "        [0., 0., 0., 0., 0., 0.],\n",
       "        [0., 0., 0., 0., 0., 0.],\n",
       "        [0., 0., 0., 0., 0., 0.],\n",
       "        [0., 0., 0., 0., 0., 0.]])"
      ]
     },
     "execution_count": 39,
     "metadata": {},
     "output_type": "execute_result"
    }
   ],
   "source": [
    "labels"
   ]
  },
  {
   "cell_type": "code",
   "execution_count": 43,
   "metadata": {},
   "outputs": [
    {
     "ename": "NameError",
     "evalue": "name 'y' is not defined",
     "output_type": "error",
     "traceback": [
      "\u001b[0;31m---------------------------------------------------------------------------\u001b[0m",
      "\u001b[0;31mNameError\u001b[0m                                 Traceback (most recent call last)",
      "\u001b[0;32m<ipython-input-43-a94eb086a6cb>\u001b[0m in \u001b[0;36m<module>\u001b[0;34m\u001b[0m\n\u001b[1;32m     10\u001b[0m     }\n\u001b[1;32m     11\u001b[0m \u001b[0;34m\u001b[0m\u001b[0m\n\u001b[0;32m---> 12\u001b[0;31m \u001b[0mevaluate_classification\u001b[0m\u001b[0;34m(\u001b[0m\u001b[0my\u001b[0m\u001b[0;34m,\u001b[0m \u001b[0my_hat\u001b[0m\u001b[0;34m,\u001b[0m \u001b[0my_proba\u001b[0m\u001b[0;34m)\u001b[0m\u001b[0;34m\u001b[0m\u001b[0;34m\u001b[0m\u001b[0m\n\u001b[0m",
      "\u001b[0;31mNameError\u001b[0m: name 'y' is not defined"
     ]
    }
   ],
   "source": [
    "from sklearn.metrics import accuracy_score, precision_score, recall_score, f1_score, roc_auc_score\n",
    "\n",
    "def evaluate_classification(y, y_hat, y_proba):\n",
    "    return {\n",
    "        \"Accuracy\": accuracy_score(y, y_hat),\n",
    "        \"Precision\": precision_score(y, y_hat),\n",
    "        \"Recall\": recall_score(y, y_hat),\n",
    "        \"F1-score\": f1_score(y, y_hat),\n",
    "        \"AUC\": roc_auc_score(y, y_proba),\n",
    "    }\n"
   ]
  },
  {
   "cell_type": "code",
   "execution_count": 64,
   "metadata": {},
   "outputs": [
    {
     "name": "stdout",
     "output_type": "stream",
     "text": [
      "Test Loss: 0.000056\n",
      "\n",
      "Test Accuracy of toxic: 90% (2262/2500)\n",
      "Test Accuracy of severe_toxic: 99% (2476/2500)\n",
      "Test Accuracy of obscene: 94% (2361/2500)\n",
      "Test Accuracy of threat: 99% (2492/2500)\n",
      "Test Accuracy of insult: 94% (2368/2500)\n",
      "Test Accuracy of identity_hate: 99% (2484/2500)\n",
      "------------------------------------------------------------------------------\n"
     ]
    },
    {
     "name": "stderr",
     "output_type": "stream",
     "text": [
      "/Users/yc00086/miniconda/envs/conda3.6/lib/python3.6/site-packages/sklearn/metrics/classification.py:1437: UndefinedMetricWarning: Precision is ill-defined and being set to 0.0 due to no predicted samples.\n",
      "  'precision', 'predicted', average, warn_for)\n",
      "/Users/yc00086/miniconda/envs/conda3.6/lib/python3.6/site-packages/sklearn/metrics/classification.py:1437: UndefinedMetricWarning: F-score is ill-defined and being set to 0.0 due to no predicted samples.\n",
      "  'precision', 'predicted', average, warn_for)\n",
      "/Users/yc00086/miniconda/envs/conda3.6/lib/python3.6/site-packages/sklearn/metrics/classification.py:1437: UndefinedMetricWarning: Precision is ill-defined and being set to 0.0 due to no predicted samples.\n",
      "  'precision', 'predicted', average, warn_for)\n",
      "/Users/yc00086/miniconda/envs/conda3.6/lib/python3.6/site-packages/sklearn/metrics/classification.py:1437: UndefinedMetricWarning: F-score is ill-defined and being set to 0.0 due to no predicted samples.\n",
      "  'precision', 'predicted', average, warn_for)\n",
      "/Users/yc00086/miniconda/envs/conda3.6/lib/python3.6/site-packages/sklearn/metrics/classification.py:1437: UndefinedMetricWarning: Precision is ill-defined and being set to 0.0 due to no predicted samples.\n",
      "  'precision', 'predicted', average, warn_for)\n",
      "/Users/yc00086/miniconda/envs/conda3.6/lib/python3.6/site-packages/sklearn/metrics/classification.py:1437: UndefinedMetricWarning: F-score is ill-defined and being set to 0.0 due to no predicted samples.\n",
      "  'precision', 'predicted', average, warn_for)\n"
     ]
    },
    {
     "ename": "IndexError",
     "evalue": "too many indices for tensor of dimension 0",
     "output_type": "error",
     "traceback": [
      "\u001b[0;31m---------------------------------------------------------------------------\u001b[0m",
      "\u001b[0;31mIndexError\u001b[0m                                Traceback (most recent call last)",
      "\u001b[0;32m<ipython-input-64-9fe6ce5db8b8>\u001b[0m in \u001b[0;36m<module>\u001b[0;34m\u001b[0m\n\u001b[1;32m     49\u001b[0m         \u001b[0;32mif\u001b[0m \u001b[0mclass_total\u001b[0m\u001b[0;34m[\u001b[0m\u001b[0mi\u001b[0m\u001b[0;34m]\u001b[0m \u001b[0;34m>\u001b[0m \u001b[0;36m0\u001b[0m\u001b[0;34m:\u001b[0m\u001b[0;34m\u001b[0m\u001b[0;34m\u001b[0m\u001b[0m\n\u001b[1;32m     50\u001b[0m             print('Test ' + metric +' of %5s: %2d%%' % (\n\u001b[0;32m---> 51\u001b[0;31m                 label_colnames[i], class_correct[i][metric]))\n\u001b[0m\u001b[1;32m     52\u001b[0m         \u001b[0;32melse\u001b[0m\u001b[0;34m:\u001b[0m\u001b[0;34m\u001b[0m\u001b[0;34m\u001b[0m\u001b[0m\n\u001b[1;32m     53\u001b[0m             \u001b[0mprint\u001b[0m\u001b[0;34m(\u001b[0m\u001b[0;34m'Test Accuracy of %5s: N/A (no training examples)'\u001b[0m \u001b[0;34m%\u001b[0m \u001b[0;34m(\u001b[0m\u001b[0mlabel_colnames\u001b[0m\u001b[0;34m[\u001b[0m\u001b[0mi\u001b[0m\u001b[0;34m]\u001b[0m\u001b[0;34m)\u001b[0m\u001b[0;34m)\u001b[0m\u001b[0;34m\u001b[0m\u001b[0;34m\u001b[0m\u001b[0m\n",
      "\u001b[0;31mIndexError\u001b[0m: too many indices for tensor of dimension 0"
     ]
    }
   ],
   "source": [
    "import numpy as np\n",
    "num_classes = 6\n",
    "# initialize tensor and lists to monitor test loss and accuracy\n",
    "test_loss = torch.zeros(1)\n",
    "class_correct = list(0. for i in range(num_classes))\n",
    "class_total = list(0. for i in range(num_classes))\n",
    "\n",
    "# set the module to evaluation mode\n",
    "lstm_model.eval()\n",
    "\n",
    "# get the input images and their corresponding labels\n",
    "inputs, labels = test_loader.dataset.tensors\n",
    "\n",
    "# forward pass to get outputs\n",
    "outputs = lstm_model(inputs)\n",
    "\n",
    "# calculate the loss\n",
    "loss = criterion(outputs, labels)\n",
    "\n",
    "# update average test loss \n",
    "test_loss = test_loss + ((torch.ones(1) / (len(labels) + 1)) * (loss.data - test_loss))\n",
    "\n",
    "# get the predicted class from the maximum value in the output-list of class scores\n",
    "class_correct = {}\n",
    "for j in range(num_classes):\n",
    "    \n",
    "\n",
    "    # compare predictions to true label\n",
    "    predicted_class = np.round(outputs.data[:,j])\n",
    "    labels_class = labels.data[:,j]\n",
    "    class_total[j] = len(labels)\n",
    "    class_correct[j] = (labels_class==predicted_class).sum()\n",
    "    class_correct[label_colnames[j]] = evaluate_classification(labels_class, predicted_class, outputs.data[:,j])#(predicted_class == labels_class).sum()\n",
    "              \n",
    "print('Test Loss: {:.6f}\\n'.format(test_loss.numpy()[0]))\n",
    "\n",
    "for i in range(num_classes):\n",
    "    \n",
    "    if class_total[i] > 0:\n",
    "        print('Test Accuracy of %5s: %2d%% (%2d/%2d)' % (\n",
    "            label_colnames[i], 100 * class_correct[i] / class_total[i],\n",
    "            (class_correct[i]), (class_total[i])))\n",
    "    else:\n",
    "        print('Test Accuracy of %5s: N/A (no training examples)' % (label_colnames[i]))\n",
    "    \n",
    "for metric in class_correct[label_colnames[j]].keys():         \n",
    "    print('------------------------------------------------------------------------------')\n",
    "    for i in range(num_classes):\n",
    "        if class_total[i] > 0:\n",
    "            print('Test ' + metric +' of %5s: %2d%%' % (\n",
    "                label_colnames[i], class_correct[i][metric]))\n",
    "        else:\n",
    "            print('Test Accuracy of %5s: N/A (no training examples)' % (label_colnames[i]))        \n",
    "    print('------------------------------------------------------------------------------')\n",
    "        \n",
    "print('\\nTest Accuracy (Overall): %2d%% (%2d/%2d)' % (\n",
    "    100. * np.sum(class_correct) / np.sum(class_total),\n",
    "    np.sum(class_correct), np.sum(class_total)))"
   ]
  },
  {
   "cell_type": "code",
   "execution_count": 70,
   "metadata": {},
   "outputs": [
    {
     "data": {
      "text/plain": [
       "{0: tensor(2262),\n",
       " 'toxic': {'Accuracy': 0.9048,\n",
       "  'Precision': 1.0,\n",
       "  'Recall': 0.0205761316872428,\n",
       "  'F1-score': 0.04032258064516129,\n",
       "  'AUC': 0.5287537081708302},\n",
       " 1: tensor(2476),\n",
       " 'severe_toxic': {'Accuracy': 0.9904,\n",
       "  'Precision': 0.0,\n",
       "  'Recall': 0.0,\n",
       "  'F1-score': 0.0,\n",
       "  'AUC': 0.5408779074033312},\n",
       " 2: tensor(2361),\n",
       " 'obscene': {'Accuracy': 0.9444,\n",
       "  'Precision': 0.0,\n",
       "  'Recall': 0.0,\n",
       "  'F1-score': 0.0,\n",
       "  'AUC': 0.5188281395214197},\n",
       " 3: tensor(2492),\n",
       " 'threat': {'Accuracy': 0.9968,\n",
       "  'Precision': 0.0,\n",
       "  'Recall': 0.0,\n",
       "  'F1-score': 0.0,\n",
       "  'AUC': 0.5512389646869984},\n",
       " 4: tensor(2368),\n",
       " 'insult': {'Accuracy': 0.9472,\n",
       "  'Precision': 0.6666666666666666,\n",
       "  'Recall': 0.015037593984962405,\n",
       "  'F1-score': 0.029411764705882353,\n",
       "  'AUC': 0.5252310116228467},\n",
       " 5: tensor(2484),\n",
       " 'identity_hate': {'Accuracy': 0.9936,\n",
       "  'Precision': 0.0,\n",
       "  'Recall': 0.0,\n",
       "  'F1-score': 0.0,\n",
       "  'AUC': 0.5392134661835748}}"
      ]
     },
     "execution_count": 70,
     "metadata": {},
     "output_type": "execute_result"
    }
   ],
   "source": [
    "class_correct"
   ]
  },
  {
   "cell_type": "code",
   "execution_count": null,
   "metadata": {},
   "outputs": [],
   "source": []
  }
 ],
 "metadata": {
  "kernelspec": {
   "display_name": "Python 3",
   "language": "python",
   "name": "python3"
  },
  "language_info": {
   "codemirror_mode": {
    "name": "ipython",
    "version": 3
   },
   "file_extension": ".py",
   "mimetype": "text/x-python",
   "name": "python",
   "nbconvert_exporter": "python",
   "pygments_lexer": "ipython3",
   "version": "3.6.8"
  }
 },
 "nbformat": 4,
 "nbformat_minor": 2
}
