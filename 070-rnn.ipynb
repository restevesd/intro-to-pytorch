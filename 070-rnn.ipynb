{
 "cells": [
  {
   "cell_type": "markdown",
   "metadata": {},
   "source": [
    "# Recurrent Neural Network\n",
    "\n",
    "![LSTM](imgs/LSTM3-chain.png)\n",
    "\n",
    "![LSTM](imgs/LSTM2-notation.png)\n",
    "\n",
    "\n",
    "\n",
    "![LSTM](imgs/LSTM3-focus-f.png)\n",
    "\n",
    "![LSTM](imgs/LSTM3-focus-i.png)\n",
    "\n",
    "![LSTM](imgs/LSTM3-focus-C.png)\n",
    "\n",
    "![LSTM](imgs/LSTM3-focus-o.png)"
   ]
  },
  {
   "cell_type": "markdown",
   "metadata": {},
   "source": [
    "## From pytorch documentation\n",
    "\n",
    "\\begin{array}{ll} \\\\\n",
    "    f_t = \\sigma(W_{if} x_t + b_{if} + W_{hf} h_{(t-1)} + b_{hf}) \\\\\n",
    "    i_t = \\sigma(W_{ii} x_t + b_{ii} + W_{hi} h_{(t-1)} + b_{hi}) \\\\\n",
    "    g_t = \\tanh(W_{ig} x_t + b_{ig} + W_{hg} h_{(t-1)} + b_{hg}) \\\\\n",
    "    c_t = f_t * c_{(t-1)} + i_t * g_t \\\\\n",
    "    o_t = \\sigma(W_{io} x_t + b_{io} + W_{ho} h_{(t-1)} + b_{ho}) \\\\    \n",
    "    h_t = o_t * \\tanh(c_t) \\\\\n",
    "\\end{array}"
   ]
  },
  {
   "cell_type": "markdown",
   "metadata": {},
   "source": [
    "## How to define LSTM layer in pytorch"
   ]
  },
  {
   "cell_type": "code",
   "execution_count": 1,
   "metadata": {},
   "outputs": [
    {
     "data": {
      "text/plain": [
       "tensor([[[ 1.3358,  0.4016, -0.7162],\n",
       "         [-0.0836, -0.0075,  1.2336]],\n",
       "\n",
       "        [[-1.1825, -0.9264, -1.0846],\n",
       "         [ 0.7155, -1.5321,  0.5685]],\n",
       "\n",
       "        [[ 0.4086,  0.0886, -0.1730],\n",
       "         [ 0.8533, -0.2062, -1.0645]],\n",
       "\n",
       "        [[ 0.5711,  0.3063,  1.0305],\n",
       "         [-1.6005,  0.9858,  0.0909]],\n",
       "\n",
       "        [[ 0.3825, -0.6499,  1.1365],\n",
       "         [ 0.4503, -0.9128, -0.4787]],\n",
       "\n",
       "        [[ 0.7760,  0.6263, -0.5889],\n",
       "         [ 0.7740,  1.5630, -0.9118]],\n",
       "\n",
       "        [[ 1.2025, -0.1304,  0.0312],\n",
       "         [ 0.9756,  0.3158,  0.9231]],\n",
       "\n",
       "        [[-0.2801, -0.7592,  0.0316],\n",
       "         [-0.5743,  0.4620, -1.0581]],\n",
       "\n",
       "        [[ 0.0326,  0.3926, -0.5817],\n",
       "         [ 0.6513,  0.2424, -0.0168]],\n",
       "\n",
       "        [[-0.3728, -0.1267,  1.2081],\n",
       "         [ 0.5376,  0.2517,  0.9090]]])"
      ]
     },
     "execution_count": 1,
     "metadata": {},
     "output_type": "execute_result"
    }
   ],
   "source": [
    "import torch\n",
    "import torch.nn as nn\n",
    "from torch.utils.data import TensorDataset, DataLoader\n",
    "\n",
    "batch_size = 2\n",
    "seq_len = 10\n",
    "input_size = 3\n",
    "hidden_size = 4 \n",
    "\n",
    "inputs = torch.randn(seq_len, batch_size, input_size)\n",
    "inputs"
   ]
  },
  {
   "cell_type": "code",
   "execution_count": 2,
   "metadata": {},
   "outputs": [],
   "source": [
    "lstm = nn.LSTM(input_size=input_size, hidden_size=hidden_size)"
   ]
  },
  {
   "cell_type": "code",
   "execution_count": 3,
   "metadata": {},
   "outputs": [],
   "source": [
    "## hidden_0 = (h_0, c_0)\n",
    "hidden_0 = (torch.zeros(1, batch_size, hidden_size), torch.zeros(1, batch_size, hidden_size))"
   ]
  },
  {
   "cell_type": "code",
   "execution_count": 4,
   "metadata": {},
   "outputs": [
    {
     "data": {
      "text/plain": [
       "torch.Size([10, 2, 4])"
      ]
     },
     "execution_count": 4,
     "metadata": {},
     "output_type": "execute_result"
    }
   ],
   "source": [
    "lstm_out, lstm_hidden = lstm(inputs)\n",
    "lstm_out.shape"
   ]
  },
  {
   "cell_type": "code",
   "execution_count": 5,
   "metadata": {},
   "outputs": [
    {
     "data": {
      "text/plain": [
       "tensor([[[ 0.1176, -0.0779, -0.1266, -0.1230],\n",
       "         [ 0.1297, -0.0501,  0.0050,  0.0971]],\n",
       "\n",
       "        [[ 0.0655,  0.0118, -0.1611,  0.0485],\n",
       "         [ 0.2832, -0.0866, -0.0079,  0.0955]],\n",
       "\n",
       "        [[ 0.1463, -0.0426, -0.1240,  0.0108],\n",
       "         [ 0.1705, -0.1128, -0.1397, -0.0414]],\n",
       "\n",
       "        [[ 0.1987, -0.0982, -0.0558,  0.0282],\n",
       "         [-0.0534, -0.0344, -0.1337,  0.0492]],\n",
       "\n",
       "        [[ 0.2735, -0.1196, -0.0231,  0.0840],\n",
       "         [ 0.1243, -0.0680, -0.1170,  0.0540]],\n",
       "\n",
       "        [[ 0.1202, -0.1452, -0.1386, -0.0779],\n",
       "         [ 0.0111, -0.1179, -0.2141, -0.1950]],\n",
       "\n",
       "        [[ 0.2105, -0.1802, -0.1016, -0.0722],\n",
       "         [ 0.2016, -0.1546, -0.0837, -0.0804]],\n",
       "\n",
       "        [[ 0.1864, -0.1185, -0.0759,  0.0444],\n",
       "         [ 0.0236, -0.0768, -0.2144, -0.1122]],\n",
       "\n",
       "        [[ 0.0952, -0.1128, -0.1545, -0.0309],\n",
       "         [ 0.1403, -0.1238, -0.1288, -0.0935]],\n",
       "\n",
       "        [[ 0.1655, -0.1065, -0.0386,  0.0946],\n",
       "         [ 0.1948, -0.1419, -0.0577, -0.0251]]], grad_fn=<StackBackward>)"
      ]
     },
     "execution_count": 5,
     "metadata": {},
     "output_type": "execute_result"
    }
   ],
   "source": [
    "lstm_out"
   ]
  },
  {
   "cell_type": "markdown",
   "metadata": {},
   "source": [
    "If we want to put hidden inputs to zeros, there is no need to provide them."
   ]
  },
  {
   "cell_type": "code",
   "execution_count": 6,
   "metadata": {},
   "outputs": [
    {
     "data": {
      "text/plain": [
       "tensor([[[ 0.1176, -0.0779, -0.1266, -0.1230],\n",
       "         [ 0.1297, -0.0501,  0.0050,  0.0971]],\n",
       "\n",
       "        [[ 0.0655,  0.0118, -0.1611,  0.0485],\n",
       "         [ 0.2832, -0.0866, -0.0079,  0.0955]],\n",
       "\n",
       "        [[ 0.1463, -0.0426, -0.1240,  0.0108],\n",
       "         [ 0.1705, -0.1128, -0.1397, -0.0414]],\n",
       "\n",
       "        [[ 0.1987, -0.0982, -0.0558,  0.0282],\n",
       "         [-0.0534, -0.0344, -0.1337,  0.0492]],\n",
       "\n",
       "        [[ 0.2735, -0.1196, -0.0231,  0.0840],\n",
       "         [ 0.1243, -0.0680, -0.1170,  0.0540]],\n",
       "\n",
       "        [[ 0.1202, -0.1452, -0.1386, -0.0779],\n",
       "         [ 0.0111, -0.1179, -0.2141, -0.1950]],\n",
       "\n",
       "        [[ 0.2105, -0.1802, -0.1016, -0.0722],\n",
       "         [ 0.2016, -0.1546, -0.0837, -0.0804]],\n",
       "\n",
       "        [[ 0.1864, -0.1185, -0.0759,  0.0444],\n",
       "         [ 0.0236, -0.0768, -0.2144, -0.1122]],\n",
       "\n",
       "        [[ 0.0952, -0.1128, -0.1545, -0.0309],\n",
       "         [ 0.1403, -0.1238, -0.1288, -0.0935]],\n",
       "\n",
       "        [[ 0.1655, -0.1065, -0.0386,  0.0946],\n",
       "         [ 0.1948, -0.1419, -0.0577, -0.0251]]], grad_fn=<StackBackward>)"
      ]
     },
     "execution_count": 6,
     "metadata": {},
     "output_type": "execute_result"
    }
   ],
   "source": [
    "lstm_out, lstm_hidden = lstm(inputs)\n",
    "lstm_out"
   ]
  },
  {
   "cell_type": "markdown",
   "metadata": {},
   "source": [
    "Finally the last output is the output of RRR. We can get it by"
   ]
  },
  {
   "cell_type": "code",
   "execution_count": 7,
   "metadata": {},
   "outputs": [
    {
     "data": {
      "text/plain": [
       "tensor([[ 0.1655, -0.1065, -0.0386,  0.0946],\n",
       "        [ 0.1948, -0.1419, -0.0577, -0.0251]], grad_fn=<SelectBackward>)"
      ]
     },
     "execution_count": 7,
     "metadata": {},
     "output_type": "execute_result"
    }
   ],
   "source": [
    "lstm_out[-1]"
   ]
  },
  {
   "cell_type": "markdown",
   "metadata": {},
   "source": [
    "It is often convient to have batches as the first dimension of the input. One can do it by adding `batch_first=True` parameter."
   ]
  },
  {
   "cell_type": "code",
   "execution_count": 8,
   "metadata": {},
   "outputs": [
    {
     "data": {
      "text/plain": [
       "tensor([[[-1.1078,  0.4207,  1.2509],\n",
       "         [-0.2133,  1.0294, -0.9465],\n",
       "         [-0.1794,  1.4713, -0.6459],\n",
       "         [-1.6491, -0.4083, -1.6127],\n",
       "         [ 0.0338,  0.0551,  0.2075],\n",
       "         [ 1.0826,  0.9102,  1.0004],\n",
       "         [-0.9677,  0.6797,  1.1882],\n",
       "         [-0.9318, -1.7912,  0.0443],\n",
       "         [ 0.1861, -0.3959,  1.2669],\n",
       "         [ 0.6288,  1.3873, -0.9654]],\n",
       "\n",
       "        [[-0.4574,  1.0188,  0.9024],\n",
       "         [ 0.0841,  0.5861, -0.3742],\n",
       "         [-0.5549, -0.7942, -0.9964],\n",
       "         [-1.1586, -0.7832, -1.2494],\n",
       "         [ 0.3433,  0.0775,  0.9570],\n",
       "         [ 0.6465, -1.2579, -1.5625],\n",
       "         [ 2.2202, -1.5127, -0.3422],\n",
       "         [ 0.3673, -1.4248,  0.0642],\n",
       "         [-0.1735, -0.7212,  1.2056],\n",
       "         [ 0.8488,  0.1269, -1.3305]]])"
      ]
     },
     "execution_count": 8,
     "metadata": {},
     "output_type": "execute_result"
    }
   ],
   "source": [
    "lstm_batch_first = nn.LSTM(input_size=input_size, hidden_size=hidden_size, batch_first=True) \n",
    "inputs_batch_first = torch.randn(batch_size, seq_len, input_size)\n",
    "inputs_batch_first"
   ]
  },
  {
   "cell_type": "code",
   "execution_count": 9,
   "metadata": {},
   "outputs": [
    {
     "data": {
      "text/plain": [
       "tensor([[[-0.0181, -0.0610, -0.0240,  0.0159],\n",
       "         [ 0.0533, -0.0131,  0.0635,  0.0826],\n",
       "         [ 0.0570, -0.0137,  0.1008,  0.0280],\n",
       "         [ 0.2066, -0.0136,  0.1808,  0.2782],\n",
       "         [ 0.0986, -0.0490,  0.0719,  0.1130],\n",
       "         [-0.0743, -0.0637,  0.0396, -0.1185],\n",
       "         [-0.0559, -0.0753,  0.0162, -0.0429],\n",
       "         [ 0.1037, -0.0649, -0.0008,  0.1253],\n",
       "         [-0.0448, -0.0937, -0.0143,  0.0078],\n",
       "         [-0.0010,  0.0029,  0.0514, -0.0971]],\n",
       "\n",
       "        [[-0.0323, -0.0575,  0.0141, -0.0524],\n",
       "         [ 0.0032, -0.0307,  0.0696, -0.0326],\n",
       "         [ 0.1795, -0.0241,  0.1158,  0.1892],\n",
       "         [ 0.2664, -0.0281,  0.1197,  0.2927],\n",
       "         [ 0.0346, -0.0785,  0.0291,  0.0354],\n",
       "         [ 0.2608, -0.0065,  0.0878,  0.2250],\n",
       "         [-0.0120, -0.0109,  0.0618, -0.0089],\n",
       "         [ 0.0467, -0.0372,  0.0401,  0.0651],\n",
       "         [-0.0372, -0.0780, -0.0146,  0.0263],\n",
       "         [ 0.0945,  0.0063,  0.0501,  0.0590]]], grad_fn=<TransposeBackward0>)"
      ]
     },
     "execution_count": 9,
     "metadata": {},
     "output_type": "execute_result"
    }
   ],
   "source": [
    "lstm_out, lstm_hidden = lstm_batch_first(inputs_batch_first)\n",
    "lstm_out"
   ]
  },
  {
   "cell_type": "markdown",
   "metadata": {},
   "source": [
    "Then we get the finial output by:"
   ]
  },
  {
   "cell_type": "code",
   "execution_count": 10,
   "metadata": {},
   "outputs": [
    {
     "data": {
      "text/plain": [
       "tensor([[-0.0010,  0.0029,  0.0514, -0.0971],\n",
       "        [ 0.0945,  0.0063,  0.0501,  0.0590]], grad_fn=<SelectBackward>)"
      ]
     },
     "execution_count": 10,
     "metadata": {},
     "output_type": "execute_result"
    }
   ],
   "source": [
    "lstm_out[:, -1]"
   ]
  },
  {
   "cell_type": "markdown",
   "metadata": {},
   "source": [
    "## Embedings"
   ]
  },
  {
   "cell_type": "code",
   "execution_count": 11,
   "metadata": {},
   "outputs": [
    {
     "data": {
      "text/plain": [
       "tensor([[38, 58, 76,  8, 25, 75, 35, 37, 13, 97],\n",
       "        [93, 35, 63, 85, 27, 54, 50, 23,  3, 88]])"
      ]
     },
     "execution_count": 11,
     "metadata": {},
     "output_type": "execute_result"
    }
   ],
   "source": [
    "dict_size = 100\n",
    "sentences = torch.randint(dict_size, (batch_size, seq_len))\n",
    "sentences"
   ]
  },
  {
   "cell_type": "code",
   "execution_count": 12,
   "metadata": {},
   "outputs": [],
   "source": [
    "embedding_dim = 3\n",
    "embedding = nn.Embedding(dict_size, embedding_dim)"
   ]
  },
  {
   "cell_type": "code",
   "execution_count": 13,
   "metadata": {},
   "outputs": [
    {
     "data": {
      "text/plain": [
       "tensor([[[ 0.3717,  0.7268,  0.9202],\n",
       "         [-1.4053, -2.0243,  1.8774],\n",
       "         [-0.1911, -1.1051,  0.1172],\n",
       "         [-0.5170, -0.0370, -1.4053],\n",
       "         [-0.7114,  0.9241,  1.2172],\n",
       "         [-0.3384, -0.0622, -0.8514],\n",
       "         [ 1.3966,  0.4329, -0.7663],\n",
       "         [-0.8157, -0.1641,  0.3133],\n",
       "         [-0.4706,  1.0463,  0.0747],\n",
       "         [-0.6496, -1.0619,  0.6621]],\n",
       "\n",
       "        [[-0.6311, -0.1210, -1.2683],\n",
       "         [ 1.3966,  0.4329, -0.7663],\n",
       "         [ 0.2394,  0.7240, -0.7275],\n",
       "         [ 0.1625, -0.8712, -1.3705],\n",
       "         [-0.8190, -0.1620, -0.6818],\n",
       "         [-0.2097, -0.1759, -0.1939],\n",
       "         [-0.5872, -1.4678,  1.1135],\n",
       "         [-0.2881, -0.6247, -0.4135],\n",
       "         [ 1.1156,  2.5285,  0.6394],\n",
       "         [-0.2821,  1.4300, -0.3832]]], grad_fn=<EmbeddingBackward>)"
      ]
     },
     "execution_count": 13,
     "metadata": {},
     "output_type": "execute_result"
    }
   ],
   "source": [
    "sentences_embedded = embedding(sentences)\n",
    "sentences_embedded"
   ]
  },
  {
   "cell_type": "code",
   "execution_count": 14,
   "metadata": {},
   "outputs": [
    {
     "data": {
      "text/plain": [
       "tensor([[ 0.0570, -0.0736,  0.0134,  0.0969],\n",
       "        [-0.0008, -0.0312,  0.1075, -0.1063]], grad_fn=<SelectBackward>)"
      ]
     },
     "execution_count": 14,
     "metadata": {},
     "output_type": "execute_result"
    }
   ],
   "source": [
    "lstm_out, _ = lstm_batch_first(sentences_embedded)\n",
    "lstm_out[:, -1]"
   ]
  },
  {
   "cell_type": "markdown",
   "metadata": {},
   "source": [
    "### Natural Language Processing (NLP)\n",
    "\n",
    "Next we consider a dataset with text and the goal is to evaluate whether they are toxic or non-toxic.\n",
    "\n",
    "You can download the dataset in the following link:\n",
    "\n",
    "[here](https://www.kaggle.com/c/jigsaw-toxic-comment-classification-challenge). \n"
   ]
  },
  {
   "cell_type": "code",
   "execution_count": 15,
   "metadata": {},
   "outputs": [
    {
     "data": {
      "text/html": [
       "<div>\n",
       "<style scoped>\n",
       "    .dataframe tbody tr th:only-of-type {\n",
       "        vertical-align: middle;\n",
       "    }\n",
       "\n",
       "    .dataframe tbody tr th {\n",
       "        vertical-align: top;\n",
       "    }\n",
       "\n",
       "    .dataframe thead th {\n",
       "        text-align: right;\n",
       "    }\n",
       "</style>\n",
       "<table border=\"1\" class=\"dataframe\">\n",
       "  <thead>\n",
       "    <tr style=\"text-align: right;\">\n",
       "      <th></th>\n",
       "      <th>id</th>\n",
       "      <th>comment_text</th>\n",
       "      <th>toxic</th>\n",
       "      <th>severe_toxic</th>\n",
       "      <th>obscene</th>\n",
       "      <th>threat</th>\n",
       "      <th>insult</th>\n",
       "      <th>identity_hate</th>\n",
       "    </tr>\n",
       "  </thead>\n",
       "  <tbody>\n",
       "    <tr>\n",
       "      <th>0</th>\n",
       "      <td>0000997932d777bf</td>\n",
       "      <td>Explanation\\nWhy the edits made under my usern...</td>\n",
       "      <td>0</td>\n",
       "      <td>0</td>\n",
       "      <td>0</td>\n",
       "      <td>0</td>\n",
       "      <td>0</td>\n",
       "      <td>0</td>\n",
       "    </tr>\n",
       "    <tr>\n",
       "      <th>1</th>\n",
       "      <td>000103f0d9cfb60f</td>\n",
       "      <td>D'aww! He matches this background colour I'm s...</td>\n",
       "      <td>0</td>\n",
       "      <td>0</td>\n",
       "      <td>0</td>\n",
       "      <td>0</td>\n",
       "      <td>0</td>\n",
       "      <td>0</td>\n",
       "    </tr>\n",
       "  </tbody>\n",
       "</table>\n",
       "</div>"
      ],
      "text/plain": [
       "                 id                                       comment_text  toxic  \\\n",
       "0  0000997932d777bf  Explanation\\nWhy the edits made under my usern...      0   \n",
       "1  000103f0d9cfb60f  D'aww! He matches this background colour I'm s...      0   \n",
       "\n",
       "   severe_toxic  obscene  threat  insult  identity_hate  \n",
       "0             0        0       0       0              0  \n",
       "1             0        0       0       0              0  "
      ]
     },
     "execution_count": 15,
     "metadata": {},
     "output_type": "execute_result"
    }
   ],
   "source": [
    "import pandas as pd\n",
    "\n",
    "comments_df = pd.read_csv(\"data/jigsaw-toxic-comment-classification-challenge/train.csv\")\n",
    "comments_df.head(2)"
   ]
  },
  {
   "cell_type": "code",
   "execution_count": 16,
   "metadata": {},
   "outputs": [
    {
     "data": {
      "text/html": [
       "<div>\n",
       "<style scoped>\n",
       "    .dataframe tbody tr th:only-of-type {\n",
       "        vertical-align: middle;\n",
       "    }\n",
       "\n",
       "    .dataframe tbody tr th {\n",
       "        vertical-align: top;\n",
       "    }\n",
       "\n",
       "    .dataframe thead th {\n",
       "        text-align: right;\n",
       "    }\n",
       "</style>\n",
       "<table border=\"1\" class=\"dataframe\">\n",
       "  <thead>\n",
       "    <tr style=\"text-align: right;\">\n",
       "      <th></th>\n",
       "      <th>comment_text</th>\n",
       "    </tr>\n",
       "  </thead>\n",
       "  <tbody>\n",
       "    <tr>\n",
       "      <th>27250</th>\n",
       "      <td>I'm afraid that you didn't follow the history ...</td>\n",
       "    </tr>\n",
       "    <tr>\n",
       "      <th>133958</th>\n",
       "      <td>Drmies, you really need to be de-syoped.</td>\n",
       "    </tr>\n",
       "  </tbody>\n",
       "</table>\n",
       "</div>"
      ],
      "text/plain": [
       "                                             comment_text\n",
       "27250   I'm afraid that you didn't follow the history ...\n",
       "133958           Drmies, you really need to be de-syoped."
      ]
     },
     "execution_count": 16,
     "metadata": {},
     "output_type": "execute_result"
    }
   ],
   "source": [
    "from sklearn.model_selection import train_test_split\n",
    "label_colnames = [\"toxic\", \"severe_toxic\", \"obscene\", \"threat\", \"insult\", \"identity_hate\"]\n",
    "\n",
    "X_train, X_test, y_train, y_test = \\\n",
    "    train_test_split(comments_df[['comment_text']], comments_df[label_colnames], random_state=667)\n",
    "X_train.head(2)"
   ]
  },
  {
   "cell_type": "code",
   "execution_count": 17,
   "metadata": {},
   "outputs": [],
   "source": [
    "import re\n",
    "\n",
    "import nltk\n",
    "from nltk.stem import SnowballStemmer\n",
    "\n",
    "BAD_SYMBOLS_RE = re.compile('[^0-9a-z ]')\n",
    "STEMMER = SnowballStemmer('english')\n",
    "\n",
    "class TextPreprocessor:\n",
    "        \n",
    "    def transfrom_text(self, text):\n",
    "        text = text.lower()\n",
    "        text = re.sub(BAD_SYMBOLS_RE, \" \", text) # process bad symbols\n",
    "        # text = \" \".join([STEMMER.stem(word) for word in text.split()])\n",
    "        return text\n",
    "    \n",
    "    def transform(self, series):\n",
    "        return series.apply(lambda text: self.transfrom_text(text))"
   ]
  },
  {
   "cell_type": "code",
   "execution_count": 18,
   "metadata": {},
   "outputs": [],
   "source": [
    "preprocessor = TextPreprocessor()\n",
    "X_train_preprocessed = preprocessor.transform(X_train['comment_text'])\n",
    "X_test_preprocessed = preprocessor.transform(X_test['comment_text'])"
   ]
  },
  {
   "cell_type": "code",
   "execution_count": 19,
   "metadata": {},
   "outputs": [
    {
     "name": "stdout",
     "output_type": "stream",
     "text": [
      "I'm afraid that you didn't follow the history of all this. (1) I don't want to obtain an email, I want to write it. (2) Every time when someone makes a remark, I tend to think that I am obligated to reply, since otherwise that person may think  that I neglect him/her, and don't think him or her worthy of a reply. But that leaves me no time to write that email. (3) Also, if I would take that time, then Rspeer could delete all my contributions in the mean time, as he already has started to do,  making it hard work again to restore it. (4) I recognize that wikipedia can be accessed any time of the day, but it might be proper for you and Rspeer and others reading my request for a time out to respect my wish for it. (5) Rspeer started  this discussion about my conduct on this talk page, by saying that there was a threat, while there wasn't. Now, do I have to take this seriously ? And have this nonsense here ? (6) Should I have entered my criticism on his behaviour on his talk page, instead of the borda fixed point page, where he occluded the argument on the article with his behavior ? (7) My impression now is that I have to ask for mediation to get some quiet time to formulate my argument on the integrity of science for the professors. True of false ?\n",
      "---------------------------------------------------------------------------------------------------------------------\n",
      "i m afraid that you didn t follow the history of all this   1  i don t want to obtain an email  i want to write it   2  every time when someone makes a remark  i tend to think that i am obligated to reply  since otherwise that person may think  that i neglect him her  and don t think him or her worthy of a reply  but that leaves me no time to write that email   3  also  if i would take that time  then rspeer could delete all my contributions in the mean time  as he already has started to do   making it hard work again to restore it   4  i recognize that wikipedia can be accessed any time of the day  but it might be proper for you and rspeer and others reading my request for a time out to respect my wish for it   5  rspeer started  this discussion about my conduct on this talk page  by saying that there was a threat  while there wasn t  now  do i have to take this seriously   and have this nonsense here    6  should i have entered my criticism on his behaviour on his talk page  instead of the borda fixed point page  where he occluded the argument on the article with his behavior    7  my impression now is that i have to ask for mediation to get some quiet time to formulate my argument on the integrity of science for the professors  true of false  \n"
     ]
    }
   ],
   "source": [
    "print(X_train[\"comment_text\"].iloc[0])\n",
    "print('---------------------------------------------------------------------------------------------------------------------')\n",
    "print(X_train_preprocessed.iloc[0])"
   ]
  },
  {
   "cell_type": "code",
   "execution_count": 20,
   "metadata": {},
   "outputs": [
    {
     "name": "stdout",
     "output_type": "stream",
     "text": [
      "Drmies, you really need to be de-syoped.\n",
      "---------------------------------------------------------------------------------------------------------------------\n",
      "drmies  you really need to be de syoped \n"
     ]
    }
   ],
   "source": [
    "print(X_train[\"comment_text\"].iloc[1])\n",
    "print('---------------------------------------------------------------------------------------------------------------------')\n",
    "\n",
    "print(X_train_preprocessed.iloc[1])"
   ]
  },
  {
   "cell_type": "code",
   "execution_count": 21,
   "metadata": {},
   "outputs": [],
   "source": [
    "def create_dicts(text):\n",
    "    word_set = set()\n",
    "    words = text.split()\n",
    "    for word in words:\n",
    "        word_set.add(word)\n",
    "    word_list = [\"<UNK>\", \"<PAD>\"] + sorted(list(word_set))\n",
    "    word2idx = {word_list[idx]: idx for idx in range(len(word_list))}\n",
    "    idx2word = {idx: word_list[idx] for idx in range(len(word_list))}\n",
    "    return word2idx, idx2word\n",
    "\n",
    "class Tokenizer:\n",
    "    \n",
    "    def __init__(self):\n",
    "        self.word2idx = None\n",
    "        self.idx2word = None\n",
    "        \n",
    "    def fit(self, X):\n",
    "        text = \" \".join(X)\n",
    "        self.word2idx, self.idx2word = create_dicts(text)\n",
    "    \n",
    "    def transform(self, X):\n",
    "        return [self.transform_line(line) for line in X]\n",
    "        \n",
    "    def transform_line(self, line):\n",
    "        return [self.word2idx.get(word, 0) for word in line.split()]"
   ]
  },
  {
   "cell_type": "code",
   "execution_count": 22,
   "metadata": {},
   "outputs": [],
   "source": [
    "tokenizer = Tokenizer()\n",
    "tokenizer.fit(X_train_preprocessed)"
   ]
  },
  {
   "cell_type": "code",
   "execution_count": 23,
   "metadata": {},
   "outputs": [],
   "source": [
    "X_train_tokenized = tokenizer.transform(X_train_preprocessed)\n",
    "X_test_tokenized = tokenizer.transform(X_test_preprocessed)"
   ]
  },
  {
   "cell_type": "code",
   "execution_count": 24,
   "metadata": {},
   "outputs": [],
   "source": [
    "class Cutter:\n",
    "\n",
    "    def __init__(self, size=150):\n",
    "        self.size = size\n",
    "        \n",
    "    def transform(self, X):\n",
    "        new_X = []\n",
    "        for line in X:\n",
    "            new_line = line[:self.size]\n",
    "            new_line = new_line + [1] * (self.size - len(new_line))\n",
    "            new_X.append(new_line)\n",
    "        return new_X    "
   ]
  },
  {
   "cell_type": "code",
   "execution_count": 25,
   "metadata": {},
   "outputs": [],
   "source": [
    "cutter = Cutter()\n",
    "X_train_cutted = cutter.transform(X_train_tokenized)\n",
    "X_test_cutted = cutter.transform(X_test_tokenized)"
   ]
  },
  {
   "cell_type": "code",
   "execution_count": 26,
   "metadata": {},
   "outputs": [
    {
     "data": {
      "text/plain": [
       "tensor([[0, 0, 0, 0, 0, 0],\n",
       "        [0, 0, 0, 0, 0, 0],\n",
       "        [0, 0, 0, 0, 0, 0],\n",
       "        ...,\n",
       "        [0, 0, 0, 0, 0, 0],\n",
       "        [0, 0, 0, 0, 0, 0],\n",
       "        [0, 0, 0, 0, 0, 0]])"
      ]
     },
     "execution_count": 26,
     "metadata": {},
     "output_type": "execute_result"
    }
   ],
   "source": [
    "labels = torch.from_numpy(y_train.values)\n",
    "labels"
   ]
  },
  {
   "cell_type": "code",
   "execution_count": 27,
   "metadata": {},
   "outputs": [],
   "source": [
    "train_data = TensorDataset(torch.tensor(X_train_cutted), torch.from_numpy(y_train.values).float())\n",
    "test_data = TensorDataset(torch.tensor(X_test_cutted), torch.from_numpy(y_test.values).float())\n",
    "\n",
    "batch_size = 32\n",
    "\n",
    "train_loader = DataLoader(train_data, shuffle=True, batch_size=batch_size)\n",
    "test_loader = DataLoader(test_data, shuffle=True, batch_size=len(test_data))"
   ]
  },
  {
   "cell_type": "code",
   "execution_count": 28,
   "metadata": {},
   "outputs": [],
   "source": [
    "class LSTMModel(nn.Module):\n",
    "    \n",
    "    def __init__(self, dict_size, output_size, embedding_dim, hidden_dim):\n",
    "        super().__init__()\n",
    "        self.embedding = nn.Embedding(dict_size, embedding_dim)\n",
    "        self.lstm = nn.LSTM(embedding_dim, hidden_dim, batch_first=True)\n",
    "        self.fc = nn.Linear(hidden_dim, output_size)\n",
    "        self.sigmoid = nn.Sigmoid()\n",
    "        \n",
    "    def forward(self, x):\n",
    "        embeded = self.embedding(x)\n",
    "        lstm_out, _ = self.lstm(embeded)\n",
    "        lstm_out = lstm_out[:, -1]        \n",
    "        logits = self.fc(lstm_out)\n",
    "        out = self.sigmoid(logits)\n",
    "        return out"
   ]
  },
  {
   "cell_type": "code",
   "execution_count": 29,
   "metadata": {},
   "outputs": [],
   "source": [
    "dict_size = len(tokenizer.word2idx)\n",
    "output_size = len(label_colnames)\n",
    "embedding_dim = 3\n",
    "hidden_dim = 4\n",
    "\n",
    "lstm_model = LSTMModel(dict_size, output_size, embedding_dim, hidden_dim)"
   ]
  },
  {
   "cell_type": "code",
   "execution_count": 59,
   "metadata": {},
   "outputs": [],
   "source": [
    "##### Load train model\n",
    "\n",
    "#lstm_model.load_state_dict(torch.load(\"models/lstm_model2.pt\"))\n",
    "#lstm_model.eval()"
   ]
  },
  {
   "cell_type": "code",
   "execution_count": 44,
   "metadata": {},
   "outputs": [
    {
     "data": {
      "text/plain": [
       "torch.Size([119678, 150])"
      ]
     },
     "execution_count": 44,
     "metadata": {},
     "output_type": "execute_result"
    }
   ],
   "source": [
    "X_train_torch = torch.tensor(X_train_cutted)\n",
    "X_test_torch = torch.tensor(X_test_cutted)\n",
    "X_train_torch.shape"
   ]
  },
  {
   "cell_type": "code",
   "execution_count": 45,
   "metadata": {},
   "outputs": [
    {
     "data": {
      "text/plain": [
       "tensor([[0.9631, 0.4968, 0.8426, 0.0126, 0.6930, 0.1262],\n",
       "        [0.8758, 0.2331, 0.5415, 0.0112, 0.4926, 0.0973],\n",
       "        [0.8869, 0.2502, 0.5701, 0.0116, 0.5121, 0.1010],\n",
       "        ...,\n",
       "        [0.9571, 0.4502, 0.8042, 0.0143, 0.6883, 0.1372],\n",
       "        [0.9011, 0.2758, 0.6101, 0.0123, 0.5396, 0.1064],\n",
       "        [0.8824, 0.2431, 0.5585, 0.0115, 0.5041, 0.0994]],\n",
       "       grad_fn=<SigmoidBackward>)"
      ]
     },
     "execution_count": 45,
     "metadata": {},
     "output_type": "execute_result"
    }
   ],
   "source": [
    "lstm_model(X_train_torch)"
   ]
  },
  {
   "cell_type": "code",
   "execution_count": 46,
   "metadata": {},
   "outputs": [
    {
     "data": {
      "text/plain": [
       "tensor([[0.8865, 0.2496, 0.5691, 0.0116, 0.5114, 0.1008],\n",
       "        [0.8304, 0.1793, 0.4415, 0.0098, 0.4251, 0.0849],\n",
       "        [0.8873, 0.2509, 0.5712, 0.0117, 0.5128, 0.1011],\n",
       "        [0.8906, 0.2566, 0.5804, 0.0118, 0.5191, 0.1023],\n",
       "        [0.8663, 0.2197, 0.5182, 0.0109, 0.4769, 0.0943],\n",
       "        [0.9321, 0.3507, 0.7097, 0.0141, 0.6115, 0.1216],\n",
       "        [0.8996, 0.2729, 0.6057, 0.0122, 0.5365, 0.1058],\n",
       "        [0.8381, 0.1869, 0.4567, 0.0100, 0.4354, 0.0867],\n",
       "        [0.8567, 0.2076, 0.4961, 0.0105, 0.4620, 0.0916],\n",
       "        [0.8740, 0.2305, 0.5370, 0.0111, 0.4896, 0.0967],\n",
       "        [0.9118, 0.2980, 0.6422, 0.0128, 0.5621, 0.1109],\n",
       "        [0.8423, 0.1913, 0.4653, 0.0101, 0.4412, 0.0878],\n",
       "        [0.8688, 0.2232, 0.5244, 0.0110, 0.4811, 0.0951],\n",
       "        [0.8991, 0.2719, 0.6042, 0.0122, 0.5355, 0.1055],\n",
       "        [0.8676, 0.2215, 0.5214, 0.0109, 0.4790, 0.0947],\n",
       "        [0.8642, 0.2170, 0.5133, 0.0108, 0.4736, 0.0937],\n",
       "        [0.9246, 0.3295, 0.6839, 0.0136, 0.5922, 0.1173],\n",
       "        [0.8660, 0.2194, 0.5176, 0.0109, 0.4765, 0.0942],\n",
       "        [0.8895, 0.2547, 0.5773, 0.0118, 0.5170, 0.1019],\n",
       "        [0.8922, 0.2593, 0.5846, 0.0119, 0.5220, 0.1029],\n",
       "        [0.8978, 0.2694, 0.6004, 0.0121, 0.5329, 0.1050],\n",
       "        [0.8980, 0.2698, 0.6010, 0.0121, 0.5333, 0.1051],\n",
       "        [0.8752, 0.2321, 0.5399, 0.0112, 0.4916, 0.0971],\n",
       "        [0.9872, 0.2550, 0.8957, 0.0264, 0.7711, 0.1222],\n",
       "        [0.9089, 0.2917, 0.6332, 0.0127, 0.5558, 0.1096],\n",
       "        [0.8974, 0.2687, 0.5993, 0.0121, 0.5321, 0.1049],\n",
       "        [0.9923, 0.4394, 0.9432, 0.0324, 0.8471, 0.1673],\n",
       "        [0.9031, 0.2797, 0.6158, 0.0124, 0.5436, 0.1072],\n",
       "        [0.8865, 0.2496, 0.5691, 0.0116, 0.5114, 0.1008],\n",
       "        [0.8407, 0.1897, 0.4620, 0.0101, 0.4390, 0.0874],\n",
       "        [0.9067, 0.2871, 0.6267, 0.0126, 0.5512, 0.1087],\n",
       "        [0.8950, 0.2643, 0.5925, 0.0120, 0.5274, 0.1039]],\n",
       "       grad_fn=<SigmoidBackward>)"
      ]
     },
     "execution_count": 46,
     "metadata": {},
     "output_type": "execute_result"
    }
   ],
   "source": [
    "dataiter = iter(train_loader)\n",
    "input_data, labels = dataiter.next()\n",
    "lstm_model(input_data)"
   ]
  },
  {
   "cell_type": "code",
   "execution_count": 47,
   "metadata": {},
   "outputs": [],
   "source": [
    "lr=0.005\n",
    "criterion = nn.BCELoss()\n",
    "optimizer = torch.optim.Adam(lstm_model.parameters(), lr=lr)"
   ]
  },
  {
   "cell_type": "code",
   "execution_count": 49,
   "metadata": {},
   "outputs": [
    {
     "name": "stdout",
     "output_type": "stream",
     "text": [
      "Epoch: 1, Batch: 300, Avg. Loss: 0.13982448821887375\n",
      "Epoch: 1, Batch: 600, Avg. Loss: 0.09684357973746956\n",
      "Epoch: 1, Batch: 900, Avg. Loss: 0.09239127966575325\n",
      "Epoch: 1, Batch: 1200, Avg. Loss: 0.08004220797680318\n",
      "Epoch: 1, Batch: 1500, Avg. Loss: 0.07414760378965488\n",
      "Epoch: 1, Batch: 1800, Avg. Loss: 0.06854366751232495\n",
      "Epoch: 1, Batch: 2100, Avg. Loss: 0.06648986662738025\n",
      "Epoch: 1, Batch: 2400, Avg. Loss: 0.06476836512641361\n",
      "Epoch: 1, Batch: 2700, Avg. Loss: 0.0662984246853739\n",
      "Epoch: 1, Batch: 3000, Avg. Loss: 0.06384452339572211\n",
      "Epoch: 1, Batch: 3300, Avg. Loss: 0.062040791804902254\n",
      "Epoch: 1, Batch: 3600, Avg. Loss: 0.060024392330087724\n",
      "Epoch: 2, Batch: 300, Avg. Loss: 0.05178234449975813\n",
      "Epoch: 2, Batch: 600, Avg. Loss: 0.05627863814899077\n",
      "Epoch: 2, Batch: 900, Avg. Loss: 0.05626081367100899\n",
      "Epoch: 2, Batch: 1200, Avg. Loss: 0.05146623851576199\n",
      "Epoch: 2, Batch: 1500, Avg. Loss: 0.05188001333658273\n",
      "Epoch: 2, Batch: 1800, Avg. Loss: 0.05484229912981391\n",
      "Epoch: 2, Batch: 2100, Avg. Loss: 0.05336530979800348\n",
      "Epoch: 2, Batch: 2400, Avg. Loss: 0.056038549875374884\n",
      "Epoch: 2, Batch: 2700, Avg. Loss: 0.0555807306842568\n",
      "Epoch: 2, Batch: 3000, Avg. Loss: 0.054106840852958464\n",
      "Epoch: 2, Batch: 3300, Avg. Loss: 0.05086597552755848\n",
      "Epoch: 2, Batch: 3600, Avg. Loss: 0.04864576347948362\n",
      "Epoch: 3, Batch: 300, Avg. Loss: 0.044393346928215276\n",
      "Epoch: 3, Batch: 600, Avg. Loss: 0.04692011113239763\n",
      "Epoch: 3, Batch: 900, Avg. Loss: 0.04851389403998231\n",
      "Epoch: 3, Batch: 1200, Avg. Loss: 0.047970315769392376\n",
      "Epoch: 3, Batch: 1500, Avg. Loss: 0.04487440358963795\n",
      "Epoch: 3, Batch: 1800, Avg. Loss: 0.04371842278943708\n",
      "Epoch: 3, Batch: 2100, Avg. Loss: 0.04748319591182129\n",
      "Epoch: 3, Batch: 2400, Avg. Loss: 0.04748354717429417\n",
      "Epoch: 3, Batch: 2700, Avg. Loss: 0.046908298761894306\n",
      "Epoch: 3, Batch: 3000, Avg. Loss: 0.04586710873894238\n",
      "Epoch: 3, Batch: 3300, Avg. Loss: 0.046629551838462555\n",
      "Epoch: 3, Batch: 3600, Avg. Loss: 0.0444724496640265\n",
      "Epoch: 4, Batch: 300, Avg. Loss: 0.0407817749743117\n",
      "Epoch: 4, Batch: 600, Avg. Loss: 0.04242100465033824\n",
      "Epoch: 4, Batch: 900, Avg. Loss: 0.04305085731243404\n",
      "Epoch: 4, Batch: 1200, Avg. Loss: 0.04118700043201291\n",
      "Epoch: 4, Batch: 1500, Avg. Loss: 0.04330247267653855\n",
      "Epoch: 4, Batch: 1800, Avg. Loss: 0.0412816199309115\n",
      "Epoch: 4, Batch: 2100, Avg. Loss: 0.039870876104105266\n",
      "Epoch: 4, Batch: 2400, Avg. Loss: 0.04044972470301824\n",
      "Epoch: 4, Batch: 2700, Avg. Loss: 0.0400532601919258\n",
      "Epoch: 4, Batch: 3000, Avg. Loss: 0.0416542849575247\n",
      "Epoch: 4, Batch: 3300, Avg. Loss: 0.04202086203692791\n",
      "Epoch: 4, Batch: 3600, Avg. Loss: 0.04190342301075967\n",
      "Epoch: 5, Batch: 300, Avg. Loss: 0.03776516022432285\n",
      "Epoch: 5, Batch: 600, Avg. Loss: 0.03726959547406295\n",
      "Epoch: 5, Batch: 900, Avg. Loss: 0.037269444060560396\n",
      "Epoch: 5, Batch: 1200, Avg. Loss: 0.03746880683669587\n",
      "Epoch: 5, Batch: 1500, Avg. Loss: 0.038771907316646925\n",
      "Epoch: 5, Batch: 1800, Avg. Loss: 0.037507141835715935\n",
      "Epoch: 5, Batch: 2100, Avg. Loss: 0.03911266412993428\n",
      "Epoch: 5, Batch: 2400, Avg. Loss: 0.03811632242577616\n",
      "Epoch: 5, Batch: 2700, Avg. Loss: 0.03984430216893088\n",
      "Epoch: 5, Batch: 3000, Avg. Loss: 0.039031947191106156\n",
      "Epoch: 5, Batch: 3300, Avg. Loss: 0.040518154080297485\n",
      "Epoch: 5, Batch: 3600, Avg. Loss: 0.038965241483141046\n",
      "Epoch: 6, Batch: 300, Avg. Loss: 0.035584362288257884\n",
      "Epoch: 6, Batch: 600, Avg. Loss: 0.03329620494589714\n",
      "Epoch: 6, Batch: 900, Avg. Loss: 0.03554757640435127\n",
      "Epoch: 6, Batch: 1200, Avg. Loss: 0.035181261537169724\n",
      "Epoch: 6, Batch: 1500, Avg. Loss: 0.035268940453145964\n",
      "Epoch: 6, Batch: 1800, Avg. Loss: 0.03694840702917039\n",
      "Epoch: 6, Batch: 2100, Avg. Loss: 0.03611939007809269\n",
      "Epoch: 6, Batch: 2400, Avg. Loss: 0.039125030625921986\n",
      "Epoch: 6, Batch: 2700, Avg. Loss: 0.0382748777269444\n",
      "Epoch: 6, Batch: 3000, Avg. Loss: 0.03728025376253451\n",
      "Epoch: 6, Batch: 3300, Avg. Loss: 0.035739916235130904\n",
      "Epoch: 6, Batch: 3600, Avg. Loss: 0.03560904623862977\n",
      "Epoch: 7, Batch: 300, Avg. Loss: 0.03094780127556684\n",
      "Epoch: 7, Batch: 600, Avg. Loss: 0.03484708650774943\n",
      "Epoch: 7, Batch: 900, Avg. Loss: 0.032533820772077886\n",
      "Epoch: 7, Batch: 1200, Avg. Loss: 0.03575895840787174\n",
      "Epoch: 7, Batch: 1500, Avg. Loss: 0.03431994686494969\n",
      "Epoch: 7, Batch: 1800, Avg. Loss: 0.032681026409118206\n",
      "Epoch: 7, Batch: 2100, Avg. Loss: 0.033953782436243876\n",
      "Epoch: 7, Batch: 2400, Avg. Loss: 0.03570418233211967\n",
      "Epoch: 7, Batch: 2700, Avg. Loss: 0.035395526474506674\n",
      "Epoch: 7, Batch: 3000, Avg. Loss: 0.03382279381262682\n",
      "Epoch: 7, Batch: 3300, Avg. Loss: 0.036866019758066006\n",
      "Epoch: 7, Batch: 3600, Avg. Loss: 0.03454752248915611\n",
      "Epoch: 8, Batch: 300, Avg. Loss: 0.032761811268501334\n",
      "Epoch: 8, Batch: 600, Avg. Loss: 0.03337784664142722\n",
      "Epoch: 8, Batch: 900, Avg. Loss: 0.03347868820438937\n",
      "Epoch: 8, Batch: 1200, Avg. Loss: 0.03329681222011762\n",
      "Epoch: 8, Batch: 1500, Avg. Loss: 0.029377179278041392\n",
      "Epoch: 8, Batch: 1800, Avg. Loss: 0.03147018156390307\n",
      "Epoch: 8, Batch: 2100, Avg. Loss: 0.03172023814297669\n",
      "Epoch: 8, Batch: 2400, Avg. Loss: 0.03167620531627714\n",
      "Epoch: 8, Batch: 2700, Avg. Loss: 0.03337981017379207\n",
      "Epoch: 8, Batch: 3000, Avg. Loss: 0.03471547071450914\n",
      "Epoch: 8, Batch: 3300, Avg. Loss: 0.03299397033144487\n",
      "Epoch: 8, Batch: 3600, Avg. Loss: 0.035196485685592055\n",
      "Epoch: 9, Batch: 300, Avg. Loss: 0.028607630795789495\n",
      "Epoch: 9, Batch: 600, Avg. Loss: 0.03114552316556607\n",
      "Epoch: 9, Batch: 900, Avg. Loss: 0.030606265409781674\n",
      "Epoch: 9, Batch: 1200, Avg. Loss: 0.03141503588003009\n",
      "Epoch: 9, Batch: 1500, Avg. Loss: 0.03192144944883087\n",
      "Epoch: 9, Batch: 1800, Avg. Loss: 0.03284474788864221\n",
      "Epoch: 9, Batch: 2100, Avg. Loss: 0.0306992270166423\n",
      "Epoch: 9, Batch: 2400, Avg. Loss: 0.03216731966424656\n",
      "Epoch: 9, Batch: 2700, Avg. Loss: 0.03249075842599268\n",
      "Epoch: 9, Batch: 3000, Avg. Loss: 0.0326811805353888\n",
      "Epoch: 9, Batch: 3300, Avg. Loss: 0.03377307411666455\n",
      "Epoch: 9, Batch: 3600, Avg. Loss: 0.033625676376201834\n",
      "Epoch: 10, Batch: 300, Avg. Loss: 0.031546816158806903\n",
      "Epoch: 10, Batch: 600, Avg. Loss: 0.031516385850676065\n",
      "Epoch: 10, Batch: 900, Avg. Loss: 0.027381662247983815\n",
      "Epoch: 10, Batch: 1200, Avg. Loss: 0.030159426596655978\n",
      "Epoch: 10, Batch: 1500, Avg. Loss: 0.030227046880924414\n",
      "Epoch: 10, Batch: 1800, Avg. Loss: 0.029143079974043456\n",
      "Epoch: 10, Batch: 2100, Avg. Loss: 0.03069378148567921\n",
      "Epoch: 10, Batch: 2400, Avg. Loss: 0.03197359722306525\n",
      "Epoch: 10, Batch: 2700, Avg. Loss: 0.03228701721294783\n",
      "Epoch: 10, Batch: 3000, Avg. Loss: 0.03070347033700576\n",
      "Epoch: 10, Batch: 3300, Avg. Loss: 0.032962560138306195\n",
      "Epoch: 10, Batch: 3600, Avg. Loss: 0.03134528333985751\n",
      "Finished Training\n"
     ]
    }
   ],
   "source": [
    "n_epoch = 10\n",
    "print_every = 300\n",
    "\n",
    "loss_over_time = [] # to track the loss as the network trains\n",
    "    \n",
    "for epoch in range(n_epoch):\n",
    "    \n",
    "    running_loss = 0.0\n",
    "    \n",
    "    for batch_i, (input_data, labels) in enumerate(train_loader):\n",
    "        # Zero gradients (just in case)\n",
    "        optimizer.zero_grad()\n",
    "\n",
    "        # Forward pass, calculate predictions\n",
    "        output = lstm_model(input_data) \n",
    "        # Calculate loss\n",
    "        loss = criterion(output, labels)\n",
    "        ## Backward propagation\n",
    "        loss.backward()\n",
    "        ## Upade weights\n",
    "        optimizer.step()\n",
    "        \n",
    "        # print loss statistics\n",
    "        # to convert loss into a scalar and add it to running_loss, we use .item()\n",
    "        running_loss += loss.item()\n",
    "            \n",
    "        \n",
    "        if batch_i % print_every ==  print_every - 1:    # print everyx batches (\n",
    "                avg_loss = running_loss/print_every\n",
    "                # record and print the avg loss over the 100 batches\n",
    "                loss_over_time.append(avg_loss)\n",
    "                print('Epoch: {}, Batch: {}, Avg. Loss: {}'.format(epoch + 1, batch_i+1, avg_loss))\n",
    "                running_loss = 0.0\n",
    "\n",
    "print('Finished Training')"
   ]
  },
  {
   "cell_type": "code",
   "execution_count": 51,
   "metadata": {},
   "outputs": [
    {
     "data": {
      "image/png": "[encoded data removed]",
      "text/plain": [
       "<Figure size 432x288 with 1 Axes>"
      ]
     },
     "metadata": {
      "needs_background": "light"
     },
     "output_type": "display_data"
    }
   ],
   "source": [
    "import matplotlib.pyplot as plt\n",
    "plt.plot(loss_over_time)\n",
    "plt.show()"
   ]
  },
  {
   "cell_type": "markdown",
   "metadata": {},
   "source": [
    "#### Print model's state_dict"
   ]
  },
  {
   "cell_type": "code",
   "execution_count": 52,
   "metadata": {},
   "outputs": [
    {
     "name": "stdout",
     "output_type": "stream",
     "text": [
      "embedding.weight \t torch.Size([153998, 3])\n",
      "lstm.weight_ih_l0 \t torch.Size([16, 3])\n",
      "lstm.weight_hh_l0 \t torch.Size([16, 4])\n",
      "lstm.bias_ih_l0 \t torch.Size([16])\n",
      "lstm.bias_hh_l0 \t torch.Size([16])\n",
      "fc.weight \t torch.Size([6, 4])\n",
      "fc.bias \t torch.Size([6])\n"
     ]
    }
   ],
   "source": [
    "for param_tensor in lstm_model.state_dict():\n",
    "    print(param_tensor, \"\\t\", lstm_model.state_dict()[param_tensor].size())"
   ]
  },
  {
   "cell_type": "markdown",
   "metadata": {},
   "source": [
    "#### Save model"
   ]
  },
  {
   "cell_type": "code",
   "execution_count": 53,
   "metadata": {},
   "outputs": [],
   "source": [
    "torch.save(lstm_model.state_dict(), \"models/lstm_model2.pt\")"
   ]
  },
  {
   "cell_type": "markdown",
   "metadata": {},
   "source": [
    "### Evaluation"
   ]
  },
  {
   "cell_type": "code",
   "execution_count": 54,
   "metadata": {},
   "outputs": [],
   "source": [
    "from sklearn.metrics import accuracy_score, precision_score, recall_score, f1_score, roc_auc_score\n",
    "\n",
    "def evaluate_classification(y, y_hat, y_proba):\n",
    "    return {\n",
    "        \"Accuracy\": accuracy_score(y, y_hat),\n",
    "        \"Precision\": precision_score(y, y_hat),\n",
    "        \"Recall\": recall_score(y, y_hat),\n",
    "        \"F1-score\": f1_score(y, y_hat),\n",
    "        \"AUC\": roc_auc_score(y, y_proba),\n",
    "    }\n"
   ]
  },
  {
   "cell_type": "code",
   "execution_count": 55,
   "metadata": {},
   "outputs": [
    {
     "name": "stdout",
     "output_type": "stream",
     "text": [
      "Test Loss: 0.000002\n",
      "\n"
     ]
    },
    {
     "name": "stderr",
     "output_type": "stream",
     "text": [
      "/Users/yc00122/.virtualenvs/py3.6.8-pytorch/lib/python3.6/site-packages/sklearn/metrics/classification.py:1437: UndefinedMetricWarning: Precision is ill-defined and being set to 0.0 due to no predicted samples.\n",
      "  'precision', 'predicted', average, warn_for)\n",
      "/Users/yc00122/.virtualenvs/py3.6.8-pytorch/lib/python3.6/site-packages/sklearn/metrics/classification.py:1437: UndefinedMetricWarning: F-score is ill-defined and being set to 0.0 due to no predicted samples.\n",
      "  'precision', 'predicted', average, warn_for)\n",
      "/Users/yc00122/.virtualenvs/py3.6.8-pytorch/lib/python3.6/site-packages/sklearn/metrics/classification.py:1437: UndefinedMetricWarning: Precision is ill-defined and being set to 0.0 due to no predicted samples.\n",
      "  'precision', 'predicted', average, warn_for)\n",
      "/Users/yc00122/.virtualenvs/py3.6.8-pytorch/lib/python3.6/site-packages/sklearn/metrics/classification.py:1437: UndefinedMetricWarning: F-score is ill-defined and being set to 0.0 due to no predicted samples.\n",
      "  'precision', 'predicted', average, warn_for)\n"
     ]
    }
   ],
   "source": [
    "import numpy as np\n",
    "num_classes = len(label_colnames)\n",
    "# initialize tensor and lists to monitor test loss and accuracy\n",
    "test_loss = torch.zeros(1)\n",
    "class_correct = list(0. for i in range(num_classes))\n",
    "class_total = list(0. for i in range(num_classes))\n",
    "\n",
    "# set the module to evaluation mode\n",
    "lstm_model.eval()\n",
    "\n",
    "# get the input images and their corresponding labels\n",
    "inputs, labels = test_loader.dataset.tensors\n",
    "\n",
    "# forward pass to get outputs\n",
    "outputs = lstm_model(inputs)\n",
    "\n",
    "# calculate the loss\n",
    "loss = criterion(outputs, labels)\n",
    "\n",
    "# update average test loss \n",
    "test_loss = test_loss + ((torch.ones(1) / (len(labels) + 1)) * (loss.data - test_loss))\n",
    "\n",
    "# get the predicted class from the maximum value in the output-list of class scores\n",
    "metrics = {}\n",
    "for j in range(num_classes):\n",
    "    # compare predictions to true label\n",
    "    predicted_class = np.round(outputs.data[:,j])\n",
    "    labels_class = labels.data[:,j]\n",
    "    class_total[j] = len(labels)\n",
    "    class_correct[j] = (labels_class==predicted_class).sum()\n",
    "    metrics[label_colnames[j]] = evaluate_classification(labels_class, predicted_class, outputs.data[:,j])\n",
    "    #(predicted_class == labels_class).sum()\n",
    "              \n",
    "print('Test Loss: {:.6f}\\n'.format(test_loss.numpy()[0]))"
   ]
  },
  {
   "cell_type": "code",
   "execution_count": 56,
   "metadata": {},
   "outputs": [
    {
     "name": "stdout",
     "output_type": "stream",
     "text": [
      "toxic\n",
      "{'Accuracy': 0.9471586493871105, 'Precision': 0.7083130772970345, 'Recall': 0.7624280481423339, 'F1-score': 0.7343749999999999, 'AUC': 0.947535114514326}\n",
      "severe_toxic\n",
      "{'Accuracy': 0.9900233123605645, 'Precision': 0.5, 'Recall': 0.2663316582914573, 'F1-score': 0.3475409836065574, 'AUC': 0.9861518950620937}\n",
      "obscene\n",
      "{'Accuracy': 0.975785225478154, 'Precision': 0.7770034843205574, 'Recall': 0.7508417508417509, 'F1-score': 0.7636986301369861, 'AUC': 0.9764002317818363}\n",
      "threat\n",
      "{'Accuracy': 0.9970420875842879, 'Precision': 0.0, 'Recall': 0.0, 'F1-score': 0.0, 'AUC': 0.9515710191863128}\n",
      "insult\n",
      "{'Accuracy': 0.9699947359185822, 'Precision': 0.7064372918978913, 'Recall': 0.6558475012879958, 'F1-score': 0.6802030456852792, 'AUC': 0.9676557668657957}\n",
      "identity_hate\n",
      "{'Accuracy': 0.9911262627528639, 'Precision': 0.0, 'Recall': 0.0, 'F1-score': 0.0, 'AUC': 0.9531048726402295}\n"
     ]
    }
   ],
   "source": [
    "for label in metrics:\n",
    "    print(label)\n",
    "    print(metrics[label])"
   ]
  },
  {
   "cell_type": "code",
   "execution_count": 57,
   "metadata": {},
   "outputs": [
    {
     "name": "stdout",
     "output_type": "stream",
     "text": [
      "{'Accuracy': 0.9785217122469273, 'Precision': 0.44862564225258056, 'Recall': 0.40590815976058964, 'F1-score': 0.42096960990480375, 'AUC': 0.9637364833417656}\n"
     ]
    }
   ],
   "source": [
    "total_evaluation = {}\n",
    "for metric in metrics['toxic']:\n",
    "    total_evaluation[metric] = 0\n",
    "    for label in metrics:\n",
    "        total_evaluation[metric] += metrics[label][metric]\n",
    "    total_evaluation[metric] /= num_classes\n",
    "print(total_evaluation)"
   ]
  },
  {
   "cell_type": "markdown",
   "metadata": {},
   "source": [
    "# Final project\n",
    "\n",
    "* Reduce vocabulary size by removing very unfrequent words\n",
    "* Tokenize dots, comas, etc, into `<dot>`, `<coma>` respectively.\n",
    "* Add another layer of LSTM\n",
    "* Rebalance tran dataset by repeating positive example \n",
    "* Play with parameters.\n",
    "\n",
    "## Extra\n",
    "\n",
    "One of the following:\n",
    "* Submit to kaggle\n",
    "* Create generator of comments."
   ]
  }
 ],
 "metadata": {
  "kernelspec": {
   "display_name": "Python 3",
   "language": "python",
   "name": "python3"
  },
  "language_info": {
   "codemirror_mode": {
    "name": "ipython",
    "version": 3
   },
   "file_extension": ".py",
   "mimetype": "text/x-python",
   "name": "python",
   "nbconvert_exporter": "python",
   "pygments_lexer": "ipython3",
   "version": "3.6.8"
  }
 },
 "nbformat": 4,
 "nbformat_minor": 2
}
