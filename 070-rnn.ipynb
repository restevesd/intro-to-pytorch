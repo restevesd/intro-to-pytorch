{
 "cells": [
  {
   "cell_type": "markdown",
   "metadata": {},
   "source": [
    "# Recurrent Neural Network\n",
    "\n",
    "![LSTM](imgs/LSTM3-chain.png)\n",
    "\n",
    "![LSTM](imgs/LSTM2-notation.png)\n",
    "\n",
    "\n",
    "\n",
    "![LSTM](imgs/LSTM3-focus-f.png)\n",
    "\n",
    "![LSTM](imgs/LSTM3-focus-i.png)\n",
    "\n",
    "![LSTM](imgs/LSTM3-focus-C.png)\n",
    "\n",
    "![LSTM](imgs/LSTM3-focus-o.png)"
   ]
  },
  {
   "cell_type": "markdown",
   "metadata": {},
   "source": [
    "## From pytorch documentation\n",
    "\n",
    "\\begin{array}{ll} \\\\\n",
    "    f_t = \\sigma(W_{if} x_t + b_{if} + W_{hf} h_{(t-1)} + b_{hf}) \\\\\n",
    "    i_t = \\sigma(W_{ii} x_t + b_{ii} + W_{hi} h_{(t-1)} + b_{hi}) \\\\\n",
    "    g_t = \\tanh(W_{ig} x_t + b_{ig} + W_{hg} h_{(t-1)} + b_{hg}) \\\\\n",
    "    c_t = f_t * c_{(t-1)} + i_t * g_t \\\\\n",
    "    o_t = \\sigma(W_{io} x_t + b_{io} + W_{ho} h_{(t-1)} + b_{ho}) \\\\    \n",
    "    h_t = o_t * \\tanh(c_t) \\\\\n",
    "\\end{array}"
   ]
  },
  {
   "cell_type": "markdown",
   "metadata": {},
   "source": [
    "## How to define LSTM layer in pytorch"
   ]
  },
  {
   "cell_type": "code",
   "execution_count": 1,
   "metadata": {},
   "outputs": [
    {
     "data": {
      "text/plain": [
       "tensor([[[ 1.4555,  0.7465, -0.9415],\n",
       "         [-1.1096, -0.6533,  0.7203]],\n",
       "\n",
       "        [[-0.3836, -0.3617,  0.8822],\n",
       "         [ 0.1445,  1.7087,  0.3034]],\n",
       "\n",
       "        [[ 1.8307, -0.7956, -0.9783],\n",
       "         [-0.9901,  0.6492, -0.4896]],\n",
       "\n",
       "        [[ 1.0044,  0.1137, -0.6549],\n",
       "         [ 0.4077,  0.1702,  1.5962]],\n",
       "\n",
       "        [[ 0.4822,  0.1461,  0.8689],\n",
       "         [ 1.3198, -0.6380, -0.6823]],\n",
       "\n",
       "        [[ 0.0273, -0.4202, -0.7030],\n",
       "         [ 0.7543,  0.8357, -1.2389]],\n",
       "\n",
       "        [[-0.1848, -0.9312, -0.7273],\n",
       "         [-0.6170, -1.4889, -1.0162]],\n",
       "\n",
       "        [[-0.0296,  1.4472, -0.3702],\n",
       "         [ 2.3862,  0.8240, -0.9050]],\n",
       "\n",
       "        [[-1.3517,  1.0657,  0.5884],\n",
       "         [ 0.4590, -0.5893, -0.8926]],\n",
       "\n",
       "        [[-0.4153, -1.4629,  0.3760],\n",
       "         [ 1.6195, -0.4756,  0.7551]]])"
      ]
     },
     "execution_count": 1,
     "metadata": {},
     "output_type": "execute_result"
    }
   ],
   "source": [
    "import torch\n",
    "import torch.nn as nn\n",
    "from torch.utils.data import TensorDataset, DataLoader\n",
    "\n",
    "batch_size = 2\n",
    "seq_len = 10\n",
    "input_size = 3\n",
    "hidden_size = 4 \n",
    "\n",
    "inputs = torch.randn(seq_len, batch_size, input_size)\n",
    "inputs"
   ]
  },
  {
   "cell_type": "code",
   "execution_count": 2,
   "metadata": {},
   "outputs": [],
   "source": [
    "lstm = nn.LSTM(input_size=input_size, hidden_size=hidden_size)"
   ]
  },
  {
   "cell_type": "code",
   "execution_count": 3,
   "metadata": {},
   "outputs": [],
   "source": [
    "## hidden_0 = (h_0, c_0)\n",
    "hidden_0 = (torch.zeros(1, batch_size, hidden_size), torch.zeros(1, batch_size, hidden_size))"
   ]
  },
  {
   "cell_type": "code",
   "execution_count": 4,
   "metadata": {},
   "outputs": [
    {
     "data": {
      "text/plain": [
       "torch.Size([10, 2, 4])"
      ]
     },
     "execution_count": 4,
     "metadata": {},
     "output_type": "execute_result"
    }
   ],
   "source": [
    "lstm_out, lstm_hidden = lstm(inputs)\n",
    "lstm_out.shape"
   ]
  },
  {
   "cell_type": "code",
   "execution_count": 5,
   "metadata": {},
   "outputs": [
    {
     "data": {
      "text/plain": [
       "tensor([[[-0.0247,  0.1507, -0.0803,  0.0449],\n",
       "         [-0.1006, -0.0147,  0.2621,  0.0776]],\n",
       "\n",
       "        [[-0.0708,  0.0842,  0.2027,  0.0979],\n",
       "         [-0.1715,  0.0161,  0.2130,  0.0533]],\n",
       "\n",
       "        [[ 0.1210,  0.1712,  0.1224,  0.2107],\n",
       "         [-0.2133,  0.0502,  0.1296,  0.0397]],\n",
       "\n",
       "        [[ 0.0395,  0.2172,  0.1012,  0.1445],\n",
       "         [ 0.0055,  0.0087,  0.2190,  0.0872]],\n",
       "\n",
       "        [[ 0.0158,  0.1562,  0.2057,  0.1249],\n",
       "         [ 0.1115,  0.1357,  0.1783,  0.1808]],\n",
       "\n",
       "        [[-0.0521,  0.1595,  0.1960,  0.1263],\n",
       "         [-0.0299,  0.1944,  0.0040,  0.0803]],\n",
       "\n",
       "        [[-0.0573,  0.1361,  0.2098,  0.1501],\n",
       "         [-0.0741,  0.1172,  0.1170,  0.1334]],\n",
       "\n",
       "        [[-0.1661,  0.1290,  0.0922,  0.0616],\n",
       "         [ 0.0158,  0.2274, -0.0029,  0.1340]],\n",
       "\n",
       "        [[-0.2746, -0.0124,  0.2156,  0.0354],\n",
       "         [-0.0274,  0.2116,  0.0389,  0.1419]],\n",
       "\n",
       "        [[ 0.0211,  0.0557,  0.2625,  0.1923],\n",
       "         [ 0.1903,  0.2360,  0.1382,  0.1859]]], grad_fn=<StackBackward>)"
      ]
     },
     "execution_count": 5,
     "metadata": {},
     "output_type": "execute_result"
    }
   ],
   "source": [
    "lstm_out"
   ]
  },
  {
   "cell_type": "markdown",
   "metadata": {},
   "source": [
    "If we want to put hidden inputs to zeros, there is no need to provide them."
   ]
  },
  {
   "cell_type": "code",
   "execution_count": 6,
   "metadata": {},
   "outputs": [
    {
     "data": {
      "text/plain": [
       "tensor([[[-0.0247,  0.1507, -0.0803,  0.0449],\n",
       "         [-0.1006, -0.0147,  0.2621,  0.0776]],\n",
       "\n",
       "        [[-0.0708,  0.0842,  0.2027,  0.0979],\n",
       "         [-0.1715,  0.0161,  0.2130,  0.0533]],\n",
       "\n",
       "        [[ 0.1210,  0.1712,  0.1224,  0.2107],\n",
       "         [-0.2133,  0.0502,  0.1296,  0.0397]],\n",
       "\n",
       "        [[ 0.0395,  0.2172,  0.1012,  0.1445],\n",
       "         [ 0.0055,  0.0087,  0.2190,  0.0872]],\n",
       "\n",
       "        [[ 0.0158,  0.1562,  0.2057,  0.1249],\n",
       "         [ 0.1115,  0.1357,  0.1783,  0.1808]],\n",
       "\n",
       "        [[-0.0521,  0.1595,  0.1960,  0.1263],\n",
       "         [-0.0299,  0.1944,  0.0040,  0.0803]],\n",
       "\n",
       "        [[-0.0573,  0.1361,  0.2098,  0.1501],\n",
       "         [-0.0741,  0.1172,  0.1170,  0.1334]],\n",
       "\n",
       "        [[-0.1661,  0.1290,  0.0922,  0.0616],\n",
       "         [ 0.0158,  0.2274, -0.0029,  0.1340]],\n",
       "\n",
       "        [[-0.2746, -0.0124,  0.2156,  0.0354],\n",
       "         [-0.0274,  0.2116,  0.0389,  0.1419]],\n",
       "\n",
       "        [[ 0.0211,  0.0557,  0.2625,  0.1923],\n",
       "         [ 0.1903,  0.2360,  0.1382,  0.1859]]], grad_fn=<StackBackward>)"
      ]
     },
     "execution_count": 6,
     "metadata": {},
     "output_type": "execute_result"
    }
   ],
   "source": [
    "lstm_out, lstm_hidden = lstm(inputs)\n",
    "lstm_out"
   ]
  },
  {
   "cell_type": "markdown",
   "metadata": {},
   "source": [
    "Finally the last output is the output of RRR. We can get it by"
   ]
  },
  {
   "cell_type": "code",
   "execution_count": 7,
   "metadata": {},
   "outputs": [
    {
     "data": {
      "text/plain": [
       "tensor([[0.0211, 0.0557, 0.2625, 0.1923],\n",
       "        [0.1903, 0.2360, 0.1382, 0.1859]], grad_fn=<SelectBackward>)"
      ]
     },
     "execution_count": 7,
     "metadata": {},
     "output_type": "execute_result"
    }
   ],
   "source": [
    "lstm_out[-1]"
   ]
  },
  {
   "cell_type": "markdown",
   "metadata": {},
   "source": [
    "It is often convient to have batches as the first dimension of the input. One can do it by adding `batch_first=True` parameter."
   ]
  },
  {
   "cell_type": "code",
   "execution_count": 8,
   "metadata": {},
   "outputs": [
    {
     "data": {
      "text/plain": [
       "tensor([[[-2.4907, -1.0625,  0.2827],\n",
       "         [-1.1621,  0.9900, -0.2673],\n",
       "         [-0.0923,  0.5844,  3.0635],\n",
       "         [ 0.6826,  0.6106,  1.3191],\n",
       "         [ 1.0280, -1.5714,  1.5271],\n",
       "         [ 0.2480, -1.4963, -0.6572],\n",
       "         [ 0.5456,  0.4040, -0.1535],\n",
       "         [-0.6119, -1.3854,  0.8752],\n",
       "         [ 1.4831, -0.1826, -1.7904],\n",
       "         [ 0.2595, -0.7559,  0.9015]],\n",
       "\n",
       "        [[-0.7472,  1.1277,  0.6444],\n",
       "         [-2.2725,  0.6541, -0.9927],\n",
       "         [ 0.0994, -1.6477,  0.0856],\n",
       "         [ 1.3480, -0.5456, -1.0172],\n",
       "         [-0.0205,  1.1389, -1.0796],\n",
       "         [-0.6449,  0.0679, -1.2483],\n",
       "         [-1.4658,  2.0072, -3.1096],\n",
       "         [ 0.6833, -0.7477,  0.5068],\n",
       "         [ 1.1615,  0.8511,  0.8350],\n",
       "         [-0.7869, -0.9565,  1.2470]]])"
      ]
     },
     "execution_count": 8,
     "metadata": {},
     "output_type": "execute_result"
    }
   ],
   "source": [
    "lstm_batch_first = nn.LSTM(input_size=input_size, hidden_size=hidden_size, batch_first=True) \n",
    "inputs_batch_first = torch.randn(batch_size, seq_len, input_size)\n",
    "inputs_batch_first"
   ]
  },
  {
   "cell_type": "code",
   "execution_count": 9,
   "metadata": {},
   "outputs": [
    {
     "data": {
      "text/plain": [
       "tensor([[[-0.0348,  0.1034,  0.2218, -0.2388],\n",
       "         [-0.2543,  0.1988,  0.1634, -0.2615],\n",
       "         [-0.2844,  0.0665,  0.2403, -0.0455],\n",
       "         [-0.3628,  0.1032,  0.2150, -0.0100],\n",
       "         [ 0.0965, -0.1670,  0.1680, -0.0118],\n",
       "         [ 0.3601, -0.0077,  0.1550, -0.0782],\n",
       "         [ 0.0623,  0.1175,  0.1592, -0.0867],\n",
       "         [ 0.1381, -0.0117,  0.2611, -0.1187],\n",
       "         [ 0.2118,  0.1741,  0.1319, -0.0632],\n",
       "         [ 0.0944,  0.0303,  0.2591, -0.0843]],\n",
       "\n",
       "        [[-0.1982,  0.1185,  0.1512, -0.1193],\n",
       "         [-0.2959,  0.2146,  0.1699, -0.3551],\n",
       "         [ 0.1608,  0.0091,  0.2493, -0.1322],\n",
       "         [ 0.2374,  0.0966,  0.1648, -0.0909],\n",
       "         [-0.1051,  0.2336,  0.1304, -0.1782],\n",
       "         [-0.1333,  0.2966,  0.1963, -0.2213],\n",
       "         [-0.3090,  0.3673,  0.0648, -0.4083],\n",
       "         [-0.0439,  0.1211,  0.2816, -0.1242],\n",
       "         [-0.1705,  0.1398,  0.2142, -0.0329],\n",
       "         [-0.0741,  0.0487,  0.2913, -0.1061]]], grad_fn=<TransposeBackward0>)"
      ]
     },
     "execution_count": 9,
     "metadata": {},
     "output_type": "execute_result"
    }
   ],
   "source": [
    "lstm_out, lstm_hidden = lstm_batch_first(inputs_batch_first)\n",
    "lstm_out"
   ]
  },
  {
   "cell_type": "markdown",
   "metadata": {},
   "source": [
    "Then we get the finial output by:"
   ]
  },
  {
   "cell_type": "code",
   "execution_count": 10,
   "metadata": {},
   "outputs": [
    {
     "data": {
      "text/plain": [
       "tensor([[ 0.0944,  0.0303,  0.2591, -0.0843],\n",
       "        [-0.0741,  0.0487,  0.2913, -0.1061]], grad_fn=<SelectBackward>)"
      ]
     },
     "execution_count": 10,
     "metadata": {},
     "output_type": "execute_result"
    }
   ],
   "source": [
    "lstm_out[:, -1]"
   ]
  },
  {
   "cell_type": "markdown",
   "metadata": {},
   "source": [
    "## Embedings"
   ]
  },
  {
   "cell_type": "code",
   "execution_count": 11,
   "metadata": {},
   "outputs": [
    {
     "data": {
      "text/plain": [
       "tensor([[15, 42, 35, 98, 95,  6, 21, 33, 27, 33],\n",
       "        [67, 85, 76, 73, 56, 27,  8, 58,  4, 58]])"
      ]
     },
     "execution_count": 11,
     "metadata": {},
     "output_type": "execute_result"
    }
   ],
   "source": [
    "dict_size = 100\n",
    "sentences = torch.randint(dict_size, (batch_size, seq_len))\n",
    "sentences"
   ]
  },
  {
   "cell_type": "code",
   "execution_count": 12,
   "metadata": {},
   "outputs": [],
   "source": [
    "embedding_dim = 3\n",
    "embedding = nn.Embedding(dict_size, embedding_dim)"
   ]
  },
  {
   "cell_type": "code",
   "execution_count": 13,
   "metadata": {},
   "outputs": [
    {
     "data": {
      "text/plain": [
       "tensor([[[-0.4900,  0.6828, -0.0091],\n",
       "         [ 0.8041, -0.5027, -0.4872],\n",
       "         [-1.5296, -0.5593,  1.8563],\n",
       "         [ 0.8346,  0.9135,  0.8640],\n",
       "         [ 1.1959, -1.2311,  0.8479],\n",
       "         [ 0.0538, -0.3251,  1.6505],\n",
       "         [-0.9990, -0.1155, -0.2359],\n",
       "         [ 0.6846, -1.9279,  0.0409],\n",
       "         [-0.6241, -1.8352,  0.7764],\n",
       "         [ 0.6846, -1.9279,  0.0409]],\n",
       "\n",
       "        [[-0.9298, -0.2720,  0.0940],\n",
       "         [ 0.2911,  1.2806,  0.5875],\n",
       "         [-1.2048, -0.2818, -0.5763],\n",
       "         [ 0.3502, -0.4809, -0.9507],\n",
       "         [ 0.1779, -0.0298,  1.3856],\n",
       "         [-0.6241, -1.8352,  0.7764],\n",
       "         [ 0.1574, -1.1280,  0.9305],\n",
       "         [ 0.4265,  1.7688,  0.1390],\n",
       "         [ 0.7498,  1.5912, -0.4242],\n",
       "         [ 0.4265,  1.7688,  0.1390]]], grad_fn=<EmbeddingBackward>)"
      ]
     },
     "execution_count": 13,
     "metadata": {},
     "output_type": "execute_result"
    }
   ],
   "source": [
    "sentences_embedded = embedding(sentences)\n",
    "sentences_embedded"
   ]
  },
  {
   "cell_type": "code",
   "execution_count": 14,
   "metadata": {},
   "outputs": [
    {
     "data": {
      "text/plain": [
       "tensor([[ 0.4601, -0.1886,  0.1285, -0.0948],\n",
       "        [-0.2886,  0.2626,  0.1946, -0.0192]], grad_fn=<SelectBackward>)"
      ]
     },
     "execution_count": 14,
     "metadata": {},
     "output_type": "execute_result"
    }
   ],
   "source": [
    "lstm_out, _ = lstm_batch_first(sentences_embedded)\n",
    "lstm_out[:, -1]"
   ]
  },
  {
   "cell_type": "markdown",
   "metadata": {},
   "source": [
    "### Natural Language Processing (NLP)\n",
    "\n",
    "Next we consider a dataset with text and the goal is to evaluate whether they are toxic or non-toxic.\n",
    "\n",
    "You can download the dataset in the following link:\n",
    "\n",
    "[here](https://www.kaggle.com/c/jigsaw-toxic-comment-classification-challenge). \n"
   ]
  },
  {
   "cell_type": "code",
   "execution_count": 35,
   "metadata": {},
   "outputs": [
    {
     "data": {
      "text/html": [
       "<div>\n",
       "<style scoped>\n",
       "    .dataframe tbody tr th:only-of-type {\n",
       "        vertical-align: middle;\n",
       "    }\n",
       "\n",
       "    .dataframe tbody tr th {\n",
       "        vertical-align: top;\n",
       "    }\n",
       "\n",
       "    .dataframe thead th {\n",
       "        text-align: right;\n",
       "    }\n",
       "</style>\n",
       "<table border=\"1\" class=\"dataframe\">\n",
       "  <thead>\n",
       "    <tr style=\"text-align: right;\">\n",
       "      <th></th>\n",
       "      <th>id</th>\n",
       "      <th>comment_text</th>\n",
       "      <th>toxic</th>\n",
       "      <th>severe_toxic</th>\n",
       "      <th>obscene</th>\n",
       "      <th>threat</th>\n",
       "      <th>insult</th>\n",
       "      <th>identity_hate</th>\n",
       "    </tr>\n",
       "  </thead>\n",
       "  <tbody>\n",
       "    <tr>\n",
       "      <th>0</th>\n",
       "      <td>0000997932d777bf</td>\n",
       "      <td>Explanation\\nWhy the edits made under my usern...</td>\n",
       "      <td>0</td>\n",
       "      <td>0</td>\n",
       "      <td>0</td>\n",
       "      <td>0</td>\n",
       "      <td>0</td>\n",
       "      <td>0</td>\n",
       "    </tr>\n",
       "    <tr>\n",
       "      <th>1</th>\n",
       "      <td>000103f0d9cfb60f</td>\n",
       "      <td>D'aww! He matches this background colour I'm s...</td>\n",
       "      <td>0</td>\n",
       "      <td>0</td>\n",
       "      <td>0</td>\n",
       "      <td>0</td>\n",
       "      <td>0</td>\n",
       "      <td>0</td>\n",
       "    </tr>\n",
       "  </tbody>\n",
       "</table>\n",
       "</div>"
      ],
      "text/plain": [
       "                 id                                       comment_text  toxic  \\\n",
       "0  0000997932d777bf  Explanation\\nWhy the edits made under my usern...      0   \n",
       "1  000103f0d9cfb60f  D'aww! He matches this background colour I'm s...      0   \n",
       "\n",
       "   severe_toxic  obscene  threat  insult  identity_hate  \n",
       "0             0        0       0       0              0  \n",
       "1             0        0       0       0              0  "
      ]
     },
     "execution_count": 35,
     "metadata": {},
     "output_type": "execute_result"
    }
   ],
   "source": [
    "import pandas as pd\n",
    "\n",
    "comments_df = pd.read_csv(\"data/jigsaw-toxic-comment-classification-challenge/train.csv\")\n",
    "comments_df.head(2)"
   ]
  },
  {
   "cell_type": "code",
   "execution_count": 36,
   "metadata": {},
   "outputs": [
    {
     "data": {
      "text/html": [
       "<div>\n",
       "<style scoped>\n",
       "    .dataframe tbody tr th:only-of-type {\n",
       "        vertical-align: middle;\n",
       "    }\n",
       "\n",
       "    .dataframe tbody tr th {\n",
       "        vertical-align: top;\n",
       "    }\n",
       "\n",
       "    .dataframe thead th {\n",
       "        text-align: right;\n",
       "    }\n",
       "</style>\n",
       "<table border=\"1\" class=\"dataframe\">\n",
       "  <thead>\n",
       "    <tr style=\"text-align: right;\">\n",
       "      <th></th>\n",
       "      <th>comment_text</th>\n",
       "    </tr>\n",
       "  </thead>\n",
       "  <tbody>\n",
       "    <tr>\n",
       "      <th>27250</th>\n",
       "      <td>I'm afraid that you didn't follow the history ...</td>\n",
       "    </tr>\n",
       "    <tr>\n",
       "      <th>133958</th>\n",
       "      <td>Drmies, you really need to be de-syoped.</td>\n",
       "    </tr>\n",
       "  </tbody>\n",
       "</table>\n",
       "</div>"
      ],
      "text/plain": [
       "                                             comment_text\n",
       "27250   I'm afraid that you didn't follow the history ...\n",
       "133958           Drmies, you really need to be de-syoped."
      ]
     },
     "execution_count": 36,
     "metadata": {},
     "output_type": "execute_result"
    }
   ],
   "source": [
    "from sklearn.model_selection import train_test_split\n",
    "label_colnames = [\"toxic\", \"severe_toxic\", \"obscene\", \"threat\", \"insult\", \"identity_hate\"]\n",
    "\n",
    "X_train, X_test, y_train, y_test = \\\n",
    "    train_test_split(comments_df[['comment_text']], comments_df[label_colnames], random_state=667)\n",
    "X_train.head(2)"
   ]
  },
  {
   "cell_type": "code",
   "execution_count": 37,
   "metadata": {},
   "outputs": [],
   "source": [
    "import re\n",
    "\n",
    "import nltk\n",
    "from nltk.stem import SnowballStemmer\n",
    "\n",
    "BAD_SYMBOLS_RE = re.compile('[^0-9a-z ]')\n",
    "STEMMER = SnowballStemmer('english')\n",
    "\n",
    "class TextPreprocessor:\n",
    "        \n",
    "    def transfrom_text(self, text):\n",
    "        text = text.lower()\n",
    "        text = re.sub(BAD_SYMBOLS_RE, \" \", text) # process bad symbols\n",
    "        # text = \" \".join([STEMMER.stem(word) for word in text.split()])\n",
    "        return text\n",
    "    \n",
    "    def transform(self, series):\n",
    "        return series.apply(lambda text: self.transfrom_text(text))"
   ]
  },
  {
   "cell_type": "code",
   "execution_count": 38,
   "metadata": {},
   "outputs": [],
   "source": [
    "preprocessor = TextPreprocessor()\n",
    "X_train_preprocessed = preprocessor.transform(X_train['comment_text'])\n",
    "X_test_preprocessed = preprocessor.transform(X_test['comment_text'])"
   ]
  },
  {
   "cell_type": "code",
   "execution_count": 39,
   "metadata": {},
   "outputs": [
    {
     "name": "stdout",
     "output_type": "stream",
     "text": [
      "I'm afraid that you didn't follow the history of all this. (1) I don't want to obtain an email, I want to write it. (2) Every time when someone makes a remark, I tend to think that I am obligated to reply, since otherwise that person may think  that I neglect him/her, and don't think him or her worthy of a reply. But that leaves me no time to write that email. (3) Also, if I would take that time, then Rspeer could delete all my contributions in the mean time, as he already has started to do,  making it hard work again to restore it. (4) I recognize that wikipedia can be accessed any time of the day, but it might be proper for you and Rspeer and others reading my request for a time out to respect my wish for it. (5) Rspeer started  this discussion about my conduct on this talk page, by saying that there was a threat, while there wasn't. Now, do I have to take this seriously ? And have this nonsense here ? (6) Should I have entered my criticism on his behaviour on his talk page, instead of the borda fixed point page, where he occluded the argument on the article with his behavior ? (7) My impression now is that I have to ask for mediation to get some quiet time to formulate my argument on the integrity of science for the professors. True of false ?\n",
      "---------------------------------------------------------------------------------------------------------------------\n",
      "i m afraid that you didn t follow the history of all this   1  i don t want to obtain an email  i want to write it   2  every time when someone makes a remark  i tend to think that i am obligated to reply  since otherwise that person may think  that i neglect him her  and don t think him or her worthy of a reply  but that leaves me no time to write that email   3  also  if i would take that time  then rspeer could delete all my contributions in the mean time  as he already has started to do   making it hard work again to restore it   4  i recognize that wikipedia can be accessed any time of the day  but it might be proper for you and rspeer and others reading my request for a time out to respect my wish for it   5  rspeer started  this discussion about my conduct on this talk page  by saying that there was a threat  while there wasn t  now  do i have to take this seriously   and have this nonsense here    6  should i have entered my criticism on his behaviour on his talk page  instead of the borda fixed point page  where he occluded the argument on the article with his behavior    7  my impression now is that i have to ask for mediation to get some quiet time to formulate my argument on the integrity of science for the professors  true of false  \n"
     ]
    }
   ],
   "source": [
    "print(X_train[\"comment_text\"].iloc[0])\n",
    "print('---------------------------------------------------------------------------------------------------------------------')\n",
    "print(X_train_preprocessed.iloc[0])"
   ]
  },
  {
   "cell_type": "code",
   "execution_count": 40,
   "metadata": {},
   "outputs": [
    {
     "name": "stdout",
     "output_type": "stream",
     "text": [
      "Drmies, you really need to be de-syoped.\n",
      "---------------------------------------------------------------------------------------------------------------------\n",
      "drmies  you really need to be de syoped \n"
     ]
    }
   ],
   "source": [
    "print(X_train[\"comment_text\"].iloc[1])\n",
    "print('---------------------------------------------------------------------------------------------------------------------')\n",
    "\n",
    "print(X_train_preprocessed.iloc[1])"
   ]
  },
  {
   "cell_type": "code",
   "execution_count": 41,
   "metadata": {},
   "outputs": [],
   "source": [
    "def create_dicts(text):\n",
    "    word_set = set()\n",
    "    words = text.split()\n",
    "    for word in words:\n",
    "        word_set.add(word)\n",
    "    word_list = [\"<UNK>\", \"<PAD>\"] + sorted(list(word_set))\n",
    "    word2idx = {word_list[idx]: idx for idx in range(len(word_list))}\n",
    "    idx2word = {idx: word_list[idx] for idx in range(len(word_list))}\n",
    "    return word2idx, idx2word\n",
    "\n",
    "class Tokenizer:\n",
    "    \n",
    "    def __init__(self):\n",
    "        self.word2idx = None\n",
    "        self.idx2word = None\n",
    "        \n",
    "    def fit(self, X):\n",
    "        text = \" \".join(X)\n",
    "        self.word2idx, self.idx2word = create_dicts(text)\n",
    "    \n",
    "    def transform(self, X):\n",
    "        return [self.transform_line(line) for line in X]\n",
    "        \n",
    "    def transform_line(self, line):\n",
    "        return [self.word2idx.get(word, 0) for word in line.split()]"
   ]
  },
  {
   "cell_type": "code",
   "execution_count": 42,
   "metadata": {},
   "outputs": [],
   "source": [
    "tokenizer = Tokenizer()\n",
    "tokenizer.fit(X_train_preprocessed)\n",
    "tokenizer.fit(X_test_preprocessed)"
   ]
  },
  {
   "cell_type": "code",
   "execution_count": 43,
   "metadata": {},
   "outputs": [],
   "source": [
    "X_train_tokenized = tokenizer.transform(X_train_preprocessed)\n",
    "X_test_tokenized = tokenizer.transform(X_test_preprocessed)"
   ]
  },
  {
   "cell_type": "code",
   "execution_count": 44,
   "metadata": {},
   "outputs": [],
   "source": [
    "class Cutter:\n",
    "\n",
    "    def __init__(self, size=150):\n",
    "        self.size = size\n",
    "        \n",
    "    def transform(self, X):\n",
    "        new_X = []\n",
    "        for line in X:\n",
    "            new_line = line[:self.size]\n",
    "            new_line = new_line + [1] * (self.size - len(new_line))\n",
    "            new_X.append(new_line)\n",
    "        return new_X    "
   ]
  },
  {
   "cell_type": "code",
   "execution_count": 45,
   "metadata": {},
   "outputs": [],
   "source": [
    "cutter = Cutter()\n",
    "X_train_cutted = cutter.transform(X_train_tokenized)\n",
    "X_test_cutted = cutter.transform(X_test_tokenized)"
   ]
  },
  {
   "cell_type": "code",
   "execution_count": 46,
   "metadata": {},
   "outputs": [
    {
     "data": {
      "text/plain": [
       "tensor([[0, 0, 0, 0, 0, 0],\n",
       "        [0, 0, 0, 0, 0, 0],\n",
       "        [0, 0, 0, 0, 0, 0],\n",
       "        ...,\n",
       "        [0, 0, 0, 0, 0, 0],\n",
       "        [0, 0, 0, 0, 0, 0],\n",
       "        [0, 0, 0, 0, 0, 0]])"
      ]
     },
     "execution_count": 46,
     "metadata": {},
     "output_type": "execute_result"
    }
   ],
   "source": [
    "labels = torch.from_numpy(y_train.values)\n",
    "labels"
   ]
  },
  {
   "cell_type": "code",
   "execution_count": 47,
   "metadata": {},
   "outputs": [],
   "source": [
    "train_data = TensorDataset(torch.tensor(X_train_cutted), torch.from_numpy(y_train.values).float())\n",
    "test_data = TensorDataset(torch.tensor(X_test_cutted), torch.from_numpy(y_test.values).float())\n",
    "\n",
    "batch_size = 32\n",
    "\n",
    "train_loader = DataLoader(train_data, shuffle=True, batch_size=batch_size)\n",
    "test_loader = DataLoader(test_data, shuffle=True, batch_size=len(test_data))"
   ]
  },
  {
   "cell_type": "code",
   "execution_count": 48,
   "metadata": {},
   "outputs": [],
   "source": [
    "class LSTMModel(nn.Module):\n",
    "    \n",
    "    def __init__(self, dict_size, output_size, embedding_dim, hidden_dim):\n",
    "        super().__init__()\n",
    "        self.embedding = nn.Embedding(dict_size, embedding_dim)\n",
    "        self.lstm = nn.LSTM(embedding_dim, hidden_dim, batch_first=True)\n",
    "        self.fc = nn.Linear(hidden_dim, output_size)\n",
    "        self.sigmoid = nn.Sigmoid()\n",
    "        \n",
    "    def forward(self, x):\n",
    "        embeded = self.embedding(x)\n",
    "        lstm_out, _ = self.lstm(embeded)\n",
    "        lstm_out = lstm_out[:, -1]        \n",
    "        logits = self.fc(lstm_out)\n",
    "        out = self.sigmoid(logits)\n",
    "        return out"
   ]
  },
  {
   "cell_type": "code",
   "execution_count": 49,
   "metadata": {},
   "outputs": [],
   "source": [
    "dict_size = len(tokenizer.word2idx)\n",
    "output_size = len(label_colnames)\n",
    "embedding_dim = 3\n",
    "hidden_dim = 4\n",
    "\n",
    "lstm_model = LSTMModel(dict_size, output_size, embedding_dim, hidden_dim)"
   ]
  },
  {
   "cell_type": "code",
   "execution_count": 74,
   "metadata": {},
   "outputs": [
    {
     "data": {
      "text/plain": [
       "LSTMModel(\n",
       "  (embedding): Embedding(80503, 3)\n",
       "  (lstm): LSTM(3, 4, batch_first=True)\n",
       "  (fc): Linear(in_features=4, out_features=6, bias=True)\n",
       "  (sigmoid): Sigmoid()\n",
       ")"
      ]
     },
     "execution_count": 74,
     "metadata": {},
     "output_type": "execute_result"
    }
   ],
   "source": [
    "lstm_model.load_state_dict(torch.load(\"models/lstm_model.pt\"))\n",
    "lstm_model.eval()"
   ]
  },
  {
   "cell_type": "code",
   "execution_count": 50,
   "metadata": {},
   "outputs": [
    {
     "data": {
      "text/plain": [
       "torch.Size([119678, 150])"
      ]
     },
     "execution_count": 50,
     "metadata": {},
     "output_type": "execute_result"
    }
   ],
   "source": [
    "X_train_torch = torch.tensor(X_train_cutted)\n",
    "X_test_torch = torch.tensor(X_test_cutted)\n",
    "X_train_torch.shape"
   ]
  },
  {
   "cell_type": "code",
   "execution_count": 51,
   "metadata": {},
   "outputs": [
    {
     "data": {
      "text/plain": [
       "tensor([[0.5850, 0.5777, 0.6186, 0.5786, 0.4990, 0.5299],\n",
       "        [0.5815, 0.5733, 0.6623, 0.5828, 0.4724, 0.5456],\n",
       "        [0.5815, 0.5733, 0.6623, 0.5828, 0.4724, 0.5456],\n",
       "        ...,\n",
       "        [0.5823, 0.5669, 0.6228, 0.5842, 0.4854, 0.5107],\n",
       "        [0.5815, 0.5733, 0.6623, 0.5828, 0.4724, 0.5456],\n",
       "        [0.5815, 0.5733, 0.6623, 0.5828, 0.4724, 0.5456]],\n",
       "       grad_fn=<SigmoidBackward>)"
      ]
     },
     "execution_count": 51,
     "metadata": {},
     "output_type": "execute_result"
    }
   ],
   "source": [
    "lstm_model(X_train_torch)"
   ]
  },
  {
   "cell_type": "code",
   "execution_count": 52,
   "metadata": {},
   "outputs": [
    {
     "data": {
      "text/plain": [
       "tensor([[0.5815, 0.5733, 0.6623, 0.5828, 0.4724, 0.5456],\n",
       "        [0.5809, 0.5654, 0.6273, 0.5782, 0.4876, 0.5226],\n",
       "        [0.5815, 0.5733, 0.6623, 0.5828, 0.4724, 0.5456],\n",
       "        [0.5815, 0.5733, 0.6623, 0.5828, 0.4724, 0.5456],\n",
       "        [0.5815, 0.5733, 0.6623, 0.5828, 0.4724, 0.5456],\n",
       "        [0.5815, 0.5733, 0.6623, 0.5828, 0.4724, 0.5456],\n",
       "        [0.5857, 0.5606, 0.6211, 0.5823, 0.4909, 0.5153],\n",
       "        [0.5815, 0.5733, 0.6623, 0.5828, 0.4724, 0.5456],\n",
       "        [0.5815, 0.5733, 0.6623, 0.5828, 0.4724, 0.5456],\n",
       "        [0.5815, 0.5733, 0.6623, 0.5828, 0.4724, 0.5456],\n",
       "        [0.5815, 0.5733, 0.6623, 0.5828, 0.4724, 0.5456],\n",
       "        [0.5815, 0.5733, 0.6623, 0.5828, 0.4724, 0.5456],\n",
       "        [0.5815, 0.5733, 0.6623, 0.5828, 0.4724, 0.5456],\n",
       "        [0.5815, 0.5733, 0.6623, 0.5828, 0.4724, 0.5456],\n",
       "        [0.5815, 0.5733, 0.6623, 0.5828, 0.4724, 0.5456],\n",
       "        [0.5815, 0.5733, 0.6623, 0.5828, 0.4724, 0.5456],\n",
       "        [0.5815, 0.5733, 0.6623, 0.5828, 0.4724, 0.5456],\n",
       "        [0.5815, 0.5733, 0.6623, 0.5828, 0.4724, 0.5456],\n",
       "        [0.5815, 0.5733, 0.6623, 0.5828, 0.4724, 0.5456],\n",
       "        [0.5815, 0.5733, 0.6623, 0.5828, 0.4724, 0.5456],\n",
       "        [0.5815, 0.5733, 0.6623, 0.5828, 0.4724, 0.5456],\n",
       "        [0.5815, 0.5733, 0.6623, 0.5828, 0.4724, 0.5456],\n",
       "        [0.5815, 0.5733, 0.6623, 0.5828, 0.4724, 0.5456],\n",
       "        [0.5815, 0.5733, 0.6623, 0.5828, 0.4724, 0.5456],\n",
       "        [0.5815, 0.5733, 0.6623, 0.5828, 0.4724, 0.5456],\n",
       "        [0.5815, 0.5733, 0.6623, 0.5828, 0.4724, 0.5456],\n",
       "        [0.5864, 0.5396, 0.5886, 0.5772, 0.5035, 0.4905],\n",
       "        [0.5815, 0.5733, 0.6623, 0.5828, 0.4724, 0.5456],\n",
       "        [0.5815, 0.5733, 0.6623, 0.5828, 0.4724, 0.5456],\n",
       "        [0.5815, 0.5733, 0.6623, 0.5828, 0.4724, 0.5456],\n",
       "        [0.5815, 0.5733, 0.6623, 0.5828, 0.4724, 0.5456],\n",
       "        [0.5815, 0.5733, 0.6623, 0.5828, 0.4724, 0.5456]],\n",
       "       grad_fn=<SigmoidBackward>)"
      ]
     },
     "execution_count": 52,
     "metadata": {},
     "output_type": "execute_result"
    }
   ],
   "source": [
    "dataiter = iter(train_loader)\n",
    "input_data, labels = dataiter.next()\n",
    "lstm_model(input_data)"
   ]
  },
  {
   "cell_type": "code",
   "execution_count": 53,
   "metadata": {},
   "outputs": [],
   "source": [
    "lr=0.005\n",
    "criterion = nn.BCELoss()\n",
    "optimizer = torch.optim.Adam(lstm_model.parameters(), lr=lr)"
   ]
  },
  {
   "cell_type": "code",
   "execution_count": 55,
   "metadata": {},
   "outputs": [
    {
     "name": "stdout",
     "output_type": "stream",
     "text": [
      "Epoch: 1, Batch: 300, Avg. Loss: 0.14560839037100473\n",
      "Epoch: 1, Batch: 600, Avg. Loss: 0.13462490256875753\n",
      "Epoch: 1, Batch: 900, Avg. Loss: 0.13814253223439057\n",
      "Epoch: 1, Batch: 1200, Avg. Loss: 0.14827531855553389\n",
      "Epoch: 1, Batch: 1500, Avg. Loss: 0.14399336186548073\n",
      "Epoch: 1, Batch: 1800, Avg. Loss: 0.14149823609739542\n",
      "Epoch: 1, Batch: 2100, Avg. Loss: 0.13821697560449442\n",
      "Epoch: 1, Batch: 2400, Avg. Loss: 0.14182119390616815\n",
      "Epoch: 1, Batch: 2700, Avg. Loss: 0.14258459359407424\n",
      "Epoch: 1, Batch: 3000, Avg. Loss: 0.14466992820302646\n",
      "Epoch: 1, Batch: 3300, Avg. Loss: 0.13454586534450452\n",
      "Epoch: 1, Batch: 3600, Avg. Loss: 0.14178564857691525\n",
      "Epoch: 2, Batch: 300, Avg. Loss: 0.14257890628029904\n",
      "Epoch: 2, Batch: 600, Avg. Loss: 0.13574930414557457\n",
      "Epoch: 2, Batch: 900, Avg. Loss: 0.14134988454480965\n",
      "Epoch: 2, Batch: 1200, Avg. Loss: 0.14603582815577587\n",
      "Epoch: 2, Batch: 1500, Avg. Loss: 0.13847442239522934\n",
      "Epoch: 2, Batch: 1800, Avg. Loss: 0.1405187136059006\n",
      "Epoch: 2, Batch: 2100, Avg. Loss: 0.13655391532927752\n",
      "Epoch: 2, Batch: 2400, Avg. Loss: 0.14236501307537158\n",
      "Epoch: 2, Batch: 2700, Avg. Loss: 0.1391194626564781\n",
      "Epoch: 2, Batch: 3000, Avg. Loss: 0.13357317763070264\n",
      "Epoch: 2, Batch: 3300, Avg. Loss: 0.14111933505783478\n",
      "Epoch: 2, Batch: 3600, Avg. Loss: 0.14439380531509718\n",
      "Epoch: 3, Batch: 300, Avg. Loss: 0.14157959785312413\n",
      "Epoch: 3, Batch: 600, Avg. Loss: 0.13136457275599242\n",
      "Epoch: 3, Batch: 900, Avg. Loss: 0.09653974389036496\n",
      "Epoch: 3, Batch: 1200, Avg. Loss: 0.09045854744501412\n",
      "Epoch: 3, Batch: 1500, Avg. Loss: 0.07855265798047185\n",
      "Epoch: 3, Batch: 1800, Avg. Loss: 0.07098163422662765\n",
      "Epoch: 3, Batch: 2100, Avg. Loss: 0.06826403044629842\n",
      "Epoch: 3, Batch: 2400, Avg. Loss: 0.0671535475552082\n",
      "Epoch: 3, Batch: 2700, Avg. Loss: 0.06321291134692729\n",
      "Epoch: 3, Batch: 3000, Avg. Loss: 0.06201048018100361\n",
      "Epoch: 3, Batch: 3300, Avg. Loss: 0.06326787383295596\n",
      "Epoch: 3, Batch: 3600, Avg. Loss: 0.06381758627016097\n",
      "Epoch: 4, Batch: 300, Avg. Loss: 0.05295702457583199\n",
      "Epoch: 4, Batch: 600, Avg. Loss: 0.05652357431439062\n",
      "Epoch: 4, Batch: 900, Avg. Loss: 0.05476310261990875\n",
      "Epoch: 4, Batch: 1200, Avg. Loss: 0.0525747970227773\n",
      "Epoch: 4, Batch: 1500, Avg. Loss: 0.053274034452624616\n",
      "Epoch: 4, Batch: 1800, Avg. Loss: 0.05505183787550777\n",
      "Epoch: 4, Batch: 2100, Avg. Loss: 0.052657870021648706\n",
      "Epoch: 4, Batch: 2400, Avg. Loss: 0.05684548866779854\n",
      "Epoch: 4, Batch: 2700, Avg. Loss: 0.05682216721198832\n",
      "Epoch: 4, Batch: 3000, Avg. Loss: 0.05121334139800941\n",
      "Epoch: 4, Batch: 3300, Avg. Loss: 0.05675592516859373\n",
      "Epoch: 4, Batch: 3600, Avg. Loss: 0.05674496269474427\n",
      "Epoch: 5, Batch: 300, Avg. Loss: 0.04939087770025556\n",
      "Epoch: 5, Batch: 600, Avg. Loss: 0.05038248285884037\n",
      "Epoch: 5, Batch: 900, Avg. Loss: 0.04959624287245485\n",
      "Epoch: 5, Batch: 1200, Avg. Loss: 0.0503617266829436\n",
      "Epoch: 5, Batch: 1500, Avg. Loss: 0.051236565282257895\n",
      "Epoch: 5, Batch: 1800, Avg. Loss: 0.04881696645636111\n",
      "Epoch: 5, Batch: 2100, Avg. Loss: 0.04959668122464791\n",
      "Epoch: 5, Batch: 2400, Avg. Loss: 0.04998037331194306\n",
      "Epoch: 5, Batch: 2700, Avg. Loss: 0.0506569011156292\n",
      "Epoch: 5, Batch: 3000, Avg. Loss: 0.048873319160969306\n",
      "Epoch: 5, Batch: 3300, Avg. Loss: 0.049650963780780634\n",
      "Epoch: 5, Batch: 3600, Avg. Loss: 0.05252971528020377\n",
      "Epoch: 6, Batch: 300, Avg. Loss: 0.04684446719669116\n",
      "Epoch: 6, Batch: 600, Avg. Loss: 0.04487552119845835\n",
      "Epoch: 6, Batch: 900, Avg. Loss: 0.044820075269478066\n",
      "Epoch: 6, Batch: 1200, Avg. Loss: 0.048208005231960366\n",
      "Epoch: 6, Batch: 1500, Avg. Loss: 0.047227971527415015\n",
      "Epoch: 6, Batch: 1800, Avg. Loss: 0.04649183134005094\n",
      "Epoch: 6, Batch: 2100, Avg. Loss: 0.047699308679051075\n",
      "Epoch: 6, Batch: 2400, Avg. Loss: 0.04301074649284904\n",
      "Epoch: 6, Batch: 2700, Avg. Loss: 0.04726088469964452\n",
      "Epoch: 6, Batch: 3000, Avg. Loss: 0.04853146151561911\n",
      "Epoch: 6, Batch: 3300, Avg. Loss: 0.04580007317631195\n",
      "Epoch: 6, Batch: 3600, Avg. Loss: 0.0486845893987144\n",
      "Epoch: 7, Batch: 300, Avg. Loss: 0.04143071464340513\n",
      "Epoch: 7, Batch: 600, Avg. Loss: 0.04224594916993131\n",
      "Epoch: 7, Batch: 900, Avg. Loss: 0.04338180389643336\n",
      "Epoch: 7, Batch: 1200, Avg. Loss: 0.04306213819091984\n",
      "Epoch: 7, Batch: 1500, Avg. Loss: 0.04389846334893567\n",
      "Epoch: 7, Batch: 1800, Avg. Loss: 0.04543588273071995\n",
      "Epoch: 7, Batch: 2100, Avg. Loss: 0.043772834551831084\n",
      "Epoch: 7, Batch: 2400, Avg. Loss: 0.04263579022527362\n",
      "Epoch: 7, Batch: 2700, Avg. Loss: 0.046003560027262816\n",
      "Epoch: 7, Batch: 3000, Avg. Loss: 0.046296756838370735\n",
      "Epoch: 7, Batch: 3300, Avg. Loss: 0.04392915396019816\n",
      "Epoch: 7, Batch: 3600, Avg. Loss: 0.04500434385612607\n",
      "Epoch: 8, Batch: 300, Avg. Loss: 0.03955179152777419\n",
      "Epoch: 8, Batch: 600, Avg. Loss: 0.04244808599352837\n",
      "Epoch: 8, Batch: 900, Avg. Loss: 0.0393863095047224\n",
      "Epoch: 8, Batch: 1200, Avg. Loss: 0.04043293412444958\n",
      "Epoch: 8, Batch: 1500, Avg. Loss: 0.03993588427663781\n",
      "Epoch: 8, Batch: 1800, Avg. Loss: 0.041530549643794074\n",
      "Epoch: 8, Batch: 2100, Avg. Loss: 0.04151516506390181\n",
      "Epoch: 8, Batch: 2400, Avg. Loss: 0.044301631022632744\n",
      "Epoch: 8, Batch: 2700, Avg. Loss: 0.043875610500302475\n",
      "Epoch: 8, Batch: 3000, Avg. Loss: 0.04111735723602275\n",
      "Epoch: 8, Batch: 3300, Avg. Loss: 0.041795151798675455\n",
      "Epoch: 8, Batch: 3600, Avg. Loss: 0.03990312973745555\n",
      "Epoch: 9, Batch: 300, Avg. Loss: 0.03835134876756153\n",
      "Epoch: 9, Batch: 600, Avg. Loss: 0.038905925272944536\n",
      "Epoch: 9, Batch: 900, Avg. Loss: 0.04029843877069652\n",
      "Epoch: 9, Batch: 1200, Avg. Loss: 0.038637994568174086\n",
      "Epoch: 9, Batch: 1500, Avg. Loss: 0.04009030214510858\n",
      "Epoch: 9, Batch: 1800, Avg. Loss: 0.03881741764441055\n",
      "Epoch: 9, Batch: 2100, Avg. Loss: 0.03759805164008867\n",
      "Epoch: 9, Batch: 2400, Avg. Loss: 0.040162702826200984\n",
      "Epoch: 9, Batch: 2700, Avg. Loss: 0.03959071351971943\n",
      "Epoch: 9, Batch: 3000, Avg. Loss: 0.03918741905266264\n",
      "Epoch: 9, Batch: 3300, Avg. Loss: 0.04054353908596871\n",
      "Epoch: 9, Batch: 3600, Avg. Loss: 0.04166477025661152\n",
      "Epoch: 10, Batch: 300, Avg. Loss: 0.03923031907683859\n",
      "Epoch: 10, Batch: 600, Avg. Loss: 0.03431240671847869\n",
      "Epoch: 10, Batch: 900, Avg. Loss: 0.037088935110659804\n",
      "Epoch: 10, Batch: 1200, Avg. Loss: 0.03526715701766079\n",
      "Epoch: 10, Batch: 1500, Avg. Loss: 0.03760444437415572\n",
      "Epoch: 10, Batch: 1800, Avg. Loss: 0.04026592885299275\n",
      "Epoch: 10, Batch: 2100, Avg. Loss: 0.03812492713293371\n",
      "Epoch: 10, Batch: 2400, Avg. Loss: 0.03918840973987244\n",
      "Epoch: 10, Batch: 2700, Avg. Loss: 0.040488337186689025\n",
      "Epoch: 10, Batch: 3000, Avg. Loss: 0.037414105746041364\n",
      "Epoch: 10, Batch: 3300, Avg. Loss: 0.039483002344786654\n",
      "Epoch: 10, Batch: 3600, Avg. Loss: 0.038311089931812606\n",
      "Finished Training\n"
     ]
    }
   ],
   "source": [
    "n_epoch = 10\n",
    "print_every = 300\n",
    "\n",
    "loss_over_time = [] # to track the loss as the network trains\n",
    "    \n",
    "for epoch in range(n_epoch):\n",
    "    \n",
    "    running_loss = 0.0\n",
    "    \n",
    "    for batch_i, (input_data, labels) in enumerate(train_loader):\n",
    "        # Zero gradients (just in case)\n",
    "        optimizer.zero_grad()\n",
    "\n",
    "        # Forward pass, calculate predictions\n",
    "        output = lstm_model(input_data) \n",
    "        # Calculate loss\n",
    "        loss = criterion(output, labels)\n",
    "        ## Backward propagation\n",
    "        loss.backward()\n",
    "        ## Upade weights\n",
    "        optimizer.step()\n",
    "        \n",
    "        # print loss statistics\n",
    "        # to convert loss into a scalar and add it to running_loss, we use .item()\n",
    "        running_loss += loss.item()\n",
    "            \n",
    "        \n",
    "        if batch_i % print_every ==  print_every - 1:    # print everyx batches (\n",
    "                avg_loss = running_loss/print_every\n",
    "                # record and print the avg loss over the 100 batches\n",
    "                loss_over_time.append(avg_loss)\n",
    "                print('Epoch: {}, Batch: {}, Avg. Loss: {}'.format(epoch + 1, batch_i+1, avg_loss))\n",
    "                running_loss = 0.0\n",
    "\n",
    "print('Finished Training')"
   ]
  },
  {
   "cell_type": "code",
   "execution_count": 62,
   "metadata": {},
   "outputs": [
    {
     "data": {
      "image/png": "[encoded data removed]",
      "text/plain": [
       "<Figure size 432x288 with 1 Axes>"
      ]
     },
     "metadata": {
      "needs_background": "light"
     },
     "output_type": "display_data"
    }
   ],
   "source": [
    "import matplotlib.pyplot as plt\n",
    "plt.plot(loss_over_time)\n",
    "plt.show()"
   ]
  },
  {
   "cell_type": "markdown",
   "metadata": {},
   "source": [
    "#### Print model's state_dict"
   ]
  },
  {
   "cell_type": "code",
   "execution_count": 58,
   "metadata": {},
   "outputs": [
    {
     "name": "stdout",
     "output_type": "stream",
     "text": [
      "embedding.weight \t torch.Size([80503, 3])\n",
      "lstm.weight_ih_l0 \t torch.Size([16, 3])\n",
      "lstm.weight_hh_l0 \t torch.Size([16, 4])\n",
      "lstm.bias_ih_l0 \t torch.Size([16])\n",
      "lstm.bias_hh_l0 \t torch.Size([16])\n",
      "fc.weight \t torch.Size([6, 4])\n",
      "fc.bias \t torch.Size([6])\n"
     ]
    }
   ],
   "source": [
    "for param_tensor in lstm_model.state_dict():\n",
    "    print(param_tensor, \"\\t\", lstm_model.state_dict()[param_tensor].size())"
   ]
  },
  {
   "cell_type": "markdown",
   "metadata": {},
   "source": [
    "#### Save model"
   ]
  },
  {
   "cell_type": "code",
   "execution_count": 60,
   "metadata": {},
   "outputs": [],
   "source": [
    "torch.save(lstm_model.state_dict(), \"models/lstm_model.pt\")"
   ]
  },
  {
   "cell_type": "markdown",
   "metadata": {},
   "source": [
    "### Evaluation"
   ]
  },
  {
   "cell_type": "code",
   "execution_count": 63,
   "metadata": {},
   "outputs": [],
   "source": [
    "from sklearn.metrics import accuracy_score, precision_score, recall_score, f1_score, roc_auc_score\n",
    "\n",
    "def evaluate_classification(y, y_hat, y_proba):\n",
    "    return {\n",
    "        \"Accuracy\": accuracy_score(y, y_hat),\n",
    "        \"Precision\": precision_score(y, y_hat),\n",
    "        \"Recall\": recall_score(y, y_hat),\n",
    "        \"F1-score\": f1_score(y, y_hat),\n",
    "        \"AUC\": roc_auc_score(y, y_proba),\n",
    "    }\n"
   ]
  },
  {
   "cell_type": "code",
   "execution_count": 64,
   "metadata": {},
   "outputs": [
    {
     "name": "stdout",
     "output_type": "stream",
     "text": [
      "Test Loss: 0.000002\n",
      "\n"
     ]
    },
    {
     "name": "stderr",
     "output_type": "stream",
     "text": [
      "/Users/yc00122/.virtualenvs/py3.6.8-pytorch/lib/python3.6/site-packages/sklearn/metrics/classification.py:1437: UndefinedMetricWarning: Precision is ill-defined and being set to 0.0 due to no predicted samples.\n",
      "  'precision', 'predicted', average, warn_for)\n",
      "/Users/yc00122/.virtualenvs/py3.6.8-pytorch/lib/python3.6/site-packages/sklearn/metrics/classification.py:1437: UndefinedMetricWarning: F-score is ill-defined and being set to 0.0 due to no predicted samples.\n",
      "  'precision', 'predicted', average, warn_for)\n",
      "/Users/yc00122/.virtualenvs/py3.6.8-pytorch/lib/python3.6/site-packages/sklearn/metrics/classification.py:1437: UndefinedMetricWarning: Precision is ill-defined and being set to 0.0 due to no predicted samples.\n",
      "  'precision', 'predicted', average, warn_for)\n",
      "/Users/yc00122/.virtualenvs/py3.6.8-pytorch/lib/python3.6/site-packages/sklearn/metrics/classification.py:1437: UndefinedMetricWarning: F-score is ill-defined and being set to 0.0 due to no predicted samples.\n",
      "  'precision', 'predicted', average, warn_for)\n"
     ]
    }
   ],
   "source": [
    "import numpy as np\n",
    "num_classes = len(label_colnames)\n",
    "# initialize tensor and lists to monitor test loss and accuracy\n",
    "test_loss = torch.zeros(1)\n",
    "class_correct = list(0. for i in range(num_classes))\n",
    "class_total = list(0. for i in range(num_classes))\n",
    "\n",
    "# set the module to evaluation mode\n",
    "lstm_model.eval()\n",
    "\n",
    "# get the input images and their corresponding labels\n",
    "inputs, labels = test_loader.dataset.tensors\n",
    "\n",
    "# forward pass to get outputs\n",
    "outputs = lstm_model(inputs)\n",
    "\n",
    "# calculate the loss\n",
    "loss = criterion(outputs, labels)\n",
    "\n",
    "# update average test loss \n",
    "test_loss = test_loss + ((torch.ones(1) / (len(labels) + 1)) * (loss.data - test_loss))\n",
    "\n",
    "# get the predicted class from the maximum value in the output-list of class scores\n",
    "metrics = {}\n",
    "for j in range(num_classes):\n",
    "    # compare predictions to true label\n",
    "    predicted_class = np.round(outputs.data[:,j])\n",
    "    labels_class = labels.data[:,j]\n",
    "    class_total[j] = len(labels)\n",
    "    class_correct[j] = (labels_class==predicted_class).sum()\n",
    "    metrics[label_colnames[j]] = evaluate_classification(labels_class, predicted_class, outputs.data[:,j])\n",
    "    #(predicted_class == labels_class).sum()\n",
    "              \n",
    "print('Test Loss: {:.6f}\\n'.format(test_loss.numpy()[0]))"
   ]
  },
  {
   "cell_type": "code",
   "execution_count": 72,
   "metadata": {},
   "outputs": [
    {
     "name": "stdout",
     "output_type": "stream",
     "text": [
      "toxic\n",
      "{'Accuracy': 0.9477602586920011, 'Precision': 0.7159542743538767, 'Recall': 0.7537938252223967, 'F1-score': 0.7343869487637013, 'AUC': 0.9561843704348368}\n",
      "severe_toxic\n",
      "{'Accuracy': 0.990223848795528, 'Precision': 0.5416666666666666, 'Recall': 0.1306532663316583, 'F1-score': 0.21052631578947367, 'AUC': 0.9878841288350857}\n",
      "obscene\n",
      "{'Accuracy': 0.9739803975634823, 'Precision': 0.7562776957163959, 'Recall': 0.7388167388167388, 'F1-score': 0.7474452554744526, 'AUC': 0.9775161913126688}\n",
      "threat\n",
      "{'Accuracy': 0.9970420875842879, 'Precision': 0.0, 'Recall': 0.0, 'F1-score': 0.0, 'AUC': 0.934731594029978}\n",
      "insult\n",
      "{'Accuracy': 0.9682651091670218, 'Precision': 0.6803848209513629, 'Recall': 0.6558475012879958, 'F1-score': 0.667890870933893, 'AUC': 0.9728496631879917}\n",
      "identity_hate\n",
      "{'Accuracy': 0.9911262627528639, 'Precision': 0.0, 'Recall': 0.0, 'F1-score': 0.0, 'AUC': 0.9452301475065097}\n"
     ]
    }
   ],
   "source": [
    "for label in metrics:\n",
    "    print(label)\n",
    "    print(metrics[label])"
   ]
  },
  {
   "cell_type": "code",
   "execution_count": 73,
   "metadata": {},
   "outputs": [
    {
     "name": "stdout",
     "output_type": "stream",
     "text": [
      "{'Accuracy': 0.9780663274258643, 'Precision': 0.4490472429480504, 'Recall': 0.3798518886097983, 'F1-score': 0.39337489849358676, 'AUC': 0.9623993492178452}\n"
     ]
    }
   ],
   "source": [
    "total_evaluation = {}\n",
    "for metric in metrics['toxic']:\n",
    "    total_evaluation[metric] = 0\n",
    "    for label in metrics:\n",
    "        total_evaluation[metric] += metrics[label][metric]\n",
    "    total_evaluation[metric] /= num_classes\n",
    "print(total_evaluation)"
   ]
  }
 ],
 "metadata": {
  "kernelspec": {
   "display_name": "Python 3",
   "language": "python",
   "name": "python3"
  },
  "language_info": {
   "codemirror_mode": {
    "name": "ipython",
    "version": 3
   },
   "file_extension": ".py",
   "mimetype": "text/x-python",
   "name": "python",
   "nbconvert_exporter": "python",
   "pygments_lexer": "ipython3",
   "version": "3.6.8"
  }
 },
 "nbformat": 4,
 "nbformat_minor": 2
}
